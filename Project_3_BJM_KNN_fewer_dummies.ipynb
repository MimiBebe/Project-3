{
 "cells": [
  {
   "cell_type": "code",
   "execution_count": 1,
   "metadata": {},
   "outputs": [],
   "source": [
    "%matplotlib inline\n",
    "import matplotlib.pyplot as plt\n",
    "from sklearn.neighbors import KNeighborsClassifier\n",
    "import pandas as pd\n",
    "import numpy as np\n",
    "import os"
   ]
  },
  {
   "cell_type": "code",
   "execution_count": 2,
   "metadata": {},
   "outputs": [],
   "source": [
    "test_data_orig = pd.read_csv(os.path.join('data', 'loanDataTest.csv'))\n",
    "pd.set_option('display.max_columns', None)\n",
    "#test_data_orig"
   ]
  },
  {
   "cell_type": "code",
   "execution_count": 3,
   "metadata": {},
   "outputs": [],
   "source": [
    "train_data_orig = pd.read_csv(os.path.join('data', 'loanDataTrain.csv'))\n",
    "pd.set_option('display.max_columns', None)\n",
    "#train_data_orig"
   ]
  },
  {
   "cell_type": "code",
   "execution_count": 4,
   "metadata": {},
   "outputs": [],
   "source": [
    "#Check values in test and train sets\n",
    "test_Gender = test_data_orig.Gender.unique()\n",
    "train_Gender = train_data_orig.Gender.unique()\n",
    "test_Dependents = test_data_orig.Dependents.unique()\n",
    "train_Dependents = train_data_orig.Dependents.unique()\n",
    "test_Education = test_data_orig.Education.unique()\n",
    "train_Education = train_data_orig.Education.unique()\n",
    "test_Self_Employed = test_data_orig.Self_Employed.unique()\n",
    "train_Self_Employed = train_data_orig.Self_Employed.unique()\n",
    "test_ApplicantIncome = test_data_orig.ApplicantIncome.unique()\n",
    "train_ApplicantIncome = train_data_orig.ApplicantIncome.unique()\n",
    "test_CoapplicantIncome = test_data_orig.CoapplicantIncome.unique()\n",
    "train_CoapplicantIncome = train_data_orig.CoapplicantIncome.unique()\n",
    "test_LoanAmount = test_data_orig.LoanAmount.unique()\n",
    "train_LoanAmount = train_data_orig.LoanAmount.unique()\n",
    "test_Loan_Amount_Term = test_data_orig.Loan_Amount_Term.unique()\n",
    "train_Loan_Amount_Term = train_data_orig.Loan_Amount_Term.unique()\n",
    "test_Credit_History = test_data_orig.Credit_History.unique()\n",
    "train_Credit_History = train_data_orig.Credit_History.unique()\n",
    "test_Property_Area = test_data_orig.Property_Area.unique()\n",
    "train_Property_Area = train_data_orig.Property_Area.unique()\n",
    "\n",
    "train_Loan_Status = train_data_orig.Loan_Status.unique()\n",
    "\n",
    "#Print out values\n",
    "#test_Gender, train_Gender, test_Dependents, train_Dependents, test_Education, train_Education, test_Self_Employed, train_Self_Employed, test_ApplicantIncome, train_ApplicantIncome, test_CoapplicantIncome, train_CoapplicantIncome, test_LoanAmount, train_LoanAmount, test_Loan_Amount_Term, train_Loan_Amount_Term, test_Credit_History, train_Credit_History, test_Property_Area, train_Property_Area, train_Loan_Status"
   ]
  },
  {
   "cell_type": "code",
   "execution_count": 5,
   "metadata": {},
   "outputs": [
    {
     "data": {
      "text/plain": [
       "(array(['Male', 'Female'], dtype=object),\n",
       " array(['Male', 'Female'], dtype=object),\n",
       " array(['0', '1', '2', '3+'], dtype=object),\n",
       " array(['1', '0', '2', '3+'], dtype=object),\n",
       " array(['Graduate', 'Not Graduate'], dtype=object),\n",
       " array(['Graduate', 'Not Graduate'], dtype=object),\n",
       " array(['No', 'Yes'], dtype=object),\n",
       " array(['No', 'Yes'], dtype=object),\n",
       " array([360., 120., 180.,  60., 300., 480., 240.,  36.,  84.]),\n",
       " array([1., 0.]),\n",
       " array([1., 0.]),\n",
       " array(['Urban', 'Semiurban', 'Rural'], dtype=object),\n",
       " array(['Rural', 'Urban', 'Semiurban'], dtype=object),\n",
       " array(['N', 'Y'], dtype=object))"
      ]
     },
     "execution_count": 5,
     "metadata": {},
     "output_type": "execute_result"
    }
   ],
   "source": [
    "#drop nans\n",
    "test_data = test_data_orig.dropna(axis=0)\n",
    "train_data_pre_dummy = train_data_orig.dropna(axis=0)\n",
    "\n",
    "test_Gender = test_data.Gender.unique()\n",
    "train_Gender = train_data_pre_dummy.Gender.unique()\n",
    "test_Dependents = test_data.Dependents.unique()\n",
    "train_Dependents = train_data_pre_dummy.Dependents.unique()\n",
    "test_Education = test_data.Education.unique()\n",
    "train_Education = train_data_pre_dummy.Education.unique()\n",
    "test_Self_Employed = test_data.Self_Employed.unique()\n",
    "train_Self_Employed = train_data_pre_dummy.Self_Employed.unique()\n",
    "test_ApplicantIncome = test_data.ApplicantIncome.unique()\n",
    "train_ApplicantIncome = train_data_pre_dummy.ApplicantIncome.unique()\n",
    "test_CoapplicantIncome = test_data.CoapplicantIncome.unique()\n",
    "train_CoapplicantIncome = train_data_pre_dummy.CoapplicantIncome.unique()\n",
    "test_LoanAmount = test_data.LoanAmount.unique()\n",
    "train_LoanAmount = train_data_pre_dummy.LoanAmount.unique()\n",
    "test_Loan_Amount_Term = test_data.Loan_Amount_Term.unique()\n",
    "train_Loan_Amount_Term = train_data_pre_dummy.Loan_Amount_Term.unique()\n",
    "test_Credit_History = test_data.Credit_History.unique()\n",
    "train_Credit_History = train_data_pre_dummy.Credit_History.unique()\n",
    "test_Property_Area = test_data.Property_Area.unique()\n",
    "train_Property_Area = train_data_pre_dummy.Property_Area.unique()\n",
    "\n",
    "train_Loan_Status = train_data_pre_dummy.Loan_Status.unique()\n",
    "\n",
    "#Print out categorical values\n",
    "test_Gender, train_Gender, test_Dependents, train_Dependents, test_Education, train_Education, test_Self_Employed, train_Self_Employed, train_Loan_Amount_Term, test_Credit_History, train_Credit_History, test_Property_Area, train_Property_Area, train_Loan_Status"
   ]
  },
  {
   "cell_type": "code",
   "execution_count": 6,
   "metadata": {},
   "outputs": [
    {
     "data": {
      "text/html": [
       "<div>\n",
       "<style scoped>\n",
       "    .dataframe tbody tr th:only-of-type {\n",
       "        vertical-align: middle;\n",
       "    }\n",
       "\n",
       "    .dataframe tbody tr th {\n",
       "        vertical-align: top;\n",
       "    }\n",
       "\n",
       "    .dataframe thead th {\n",
       "        text-align: right;\n",
       "    }\n",
       "</style>\n",
       "<table border=\"1\" class=\"dataframe\">\n",
       "  <thead>\n",
       "    <tr style=\"text-align: right;\">\n",
       "      <th></th>\n",
       "      <th>Loan_ID</th>\n",
       "      <th>Gender</th>\n",
       "      <th>Married</th>\n",
       "      <th>Dependents</th>\n",
       "      <th>Education</th>\n",
       "      <th>Self_Employed</th>\n",
       "      <th>ApplicantIncome</th>\n",
       "      <th>CoapplicantIncome</th>\n",
       "      <th>LoanAmount</th>\n",
       "      <th>Loan_Amount_Term</th>\n",
       "      <th>Credit_History</th>\n",
       "      <th>Property_Area</th>\n",
       "      <th>Loan_Status_Y</th>\n",
       "    </tr>\n",
       "  </thead>\n",
       "  <tbody>\n",
       "    <tr>\n",
       "      <th>1</th>\n",
       "      <td>LP001003</td>\n",
       "      <td>Male</td>\n",
       "      <td>Yes</td>\n",
       "      <td>1</td>\n",
       "      <td>Graduate</td>\n",
       "      <td>No</td>\n",
       "      <td>4583</td>\n",
       "      <td>1508.0</td>\n",
       "      <td>128.0</td>\n",
       "      <td>360.0</td>\n",
       "      <td>1.0</td>\n",
       "      <td>Rural</td>\n",
       "      <td>0</td>\n",
       "    </tr>\n",
       "    <tr>\n",
       "      <th>2</th>\n",
       "      <td>LP001005</td>\n",
       "      <td>Male</td>\n",
       "      <td>Yes</td>\n",
       "      <td>0</td>\n",
       "      <td>Graduate</td>\n",
       "      <td>Yes</td>\n",
       "      <td>3000</td>\n",
       "      <td>0.0</td>\n",
       "      <td>66.0</td>\n",
       "      <td>360.0</td>\n",
       "      <td>1.0</td>\n",
       "      <td>Urban</td>\n",
       "      <td>1</td>\n",
       "    </tr>\n",
       "    <tr>\n",
       "      <th>3</th>\n",
       "      <td>LP001006</td>\n",
       "      <td>Male</td>\n",
       "      <td>Yes</td>\n",
       "      <td>0</td>\n",
       "      <td>Not Graduate</td>\n",
       "      <td>No</td>\n",
       "      <td>2583</td>\n",
       "      <td>2358.0</td>\n",
       "      <td>120.0</td>\n",
       "      <td>360.0</td>\n",
       "      <td>1.0</td>\n",
       "      <td>Urban</td>\n",
       "      <td>1</td>\n",
       "    </tr>\n",
       "    <tr>\n",
       "      <th>4</th>\n",
       "      <td>LP001008</td>\n",
       "      <td>Male</td>\n",
       "      <td>No</td>\n",
       "      <td>0</td>\n",
       "      <td>Graduate</td>\n",
       "      <td>No</td>\n",
       "      <td>6000</td>\n",
       "      <td>0.0</td>\n",
       "      <td>141.0</td>\n",
       "      <td>360.0</td>\n",
       "      <td>1.0</td>\n",
       "      <td>Urban</td>\n",
       "      <td>1</td>\n",
       "    </tr>\n",
       "    <tr>\n",
       "      <th>5</th>\n",
       "      <td>LP001011</td>\n",
       "      <td>Male</td>\n",
       "      <td>Yes</td>\n",
       "      <td>2</td>\n",
       "      <td>Graduate</td>\n",
       "      <td>Yes</td>\n",
       "      <td>5417</td>\n",
       "      <td>4196.0</td>\n",
       "      <td>267.0</td>\n",
       "      <td>360.0</td>\n",
       "      <td>1.0</td>\n",
       "      <td>Urban</td>\n",
       "      <td>1</td>\n",
       "    </tr>\n",
       "    <tr>\n",
       "      <th>...</th>\n",
       "      <td>...</td>\n",
       "      <td>...</td>\n",
       "      <td>...</td>\n",
       "      <td>...</td>\n",
       "      <td>...</td>\n",
       "      <td>...</td>\n",
       "      <td>...</td>\n",
       "      <td>...</td>\n",
       "      <td>...</td>\n",
       "      <td>...</td>\n",
       "      <td>...</td>\n",
       "      <td>...</td>\n",
       "      <td>...</td>\n",
       "    </tr>\n",
       "    <tr>\n",
       "      <th>609</th>\n",
       "      <td>LP002978</td>\n",
       "      <td>Female</td>\n",
       "      <td>No</td>\n",
       "      <td>0</td>\n",
       "      <td>Graduate</td>\n",
       "      <td>No</td>\n",
       "      <td>2900</td>\n",
       "      <td>0.0</td>\n",
       "      <td>71.0</td>\n",
       "      <td>360.0</td>\n",
       "      <td>1.0</td>\n",
       "      <td>Rural</td>\n",
       "      <td>1</td>\n",
       "    </tr>\n",
       "    <tr>\n",
       "      <th>610</th>\n",
       "      <td>LP002979</td>\n",
       "      <td>Male</td>\n",
       "      <td>Yes</td>\n",
       "      <td>3+</td>\n",
       "      <td>Graduate</td>\n",
       "      <td>No</td>\n",
       "      <td>4106</td>\n",
       "      <td>0.0</td>\n",
       "      <td>40.0</td>\n",
       "      <td>180.0</td>\n",
       "      <td>1.0</td>\n",
       "      <td>Rural</td>\n",
       "      <td>1</td>\n",
       "    </tr>\n",
       "    <tr>\n",
       "      <th>611</th>\n",
       "      <td>LP002983</td>\n",
       "      <td>Male</td>\n",
       "      <td>Yes</td>\n",
       "      <td>1</td>\n",
       "      <td>Graduate</td>\n",
       "      <td>No</td>\n",
       "      <td>8072</td>\n",
       "      <td>240.0</td>\n",
       "      <td>253.0</td>\n",
       "      <td>360.0</td>\n",
       "      <td>1.0</td>\n",
       "      <td>Urban</td>\n",
       "      <td>1</td>\n",
       "    </tr>\n",
       "    <tr>\n",
       "      <th>612</th>\n",
       "      <td>LP002984</td>\n",
       "      <td>Male</td>\n",
       "      <td>Yes</td>\n",
       "      <td>2</td>\n",
       "      <td>Graduate</td>\n",
       "      <td>No</td>\n",
       "      <td>7583</td>\n",
       "      <td>0.0</td>\n",
       "      <td>187.0</td>\n",
       "      <td>360.0</td>\n",
       "      <td>1.0</td>\n",
       "      <td>Urban</td>\n",
       "      <td>1</td>\n",
       "    </tr>\n",
       "    <tr>\n",
       "      <th>613</th>\n",
       "      <td>LP002990</td>\n",
       "      <td>Female</td>\n",
       "      <td>No</td>\n",
       "      <td>0</td>\n",
       "      <td>Graduate</td>\n",
       "      <td>Yes</td>\n",
       "      <td>4583</td>\n",
       "      <td>0.0</td>\n",
       "      <td>133.0</td>\n",
       "      <td>360.0</td>\n",
       "      <td>0.0</td>\n",
       "      <td>Semiurban</td>\n",
       "      <td>0</td>\n",
       "    </tr>\n",
       "  </tbody>\n",
       "</table>\n",
       "<p>480 rows × 13 columns</p>\n",
       "</div>"
      ],
      "text/plain": [
       "      Loan_ID  Gender Married Dependents     Education Self_Employed  \\\n",
       "1    LP001003    Male     Yes          1      Graduate            No   \n",
       "2    LP001005    Male     Yes          0      Graduate           Yes   \n",
       "3    LP001006    Male     Yes          0  Not Graduate            No   \n",
       "4    LP001008    Male      No          0      Graduate            No   \n",
       "5    LP001011    Male     Yes          2      Graduate           Yes   \n",
       "..        ...     ...     ...        ...           ...           ...   \n",
       "609  LP002978  Female      No          0      Graduate            No   \n",
       "610  LP002979    Male     Yes         3+      Graduate            No   \n",
       "611  LP002983    Male     Yes          1      Graduate            No   \n",
       "612  LP002984    Male     Yes          2      Graduate            No   \n",
       "613  LP002990  Female      No          0      Graduate           Yes   \n",
       "\n",
       "     ApplicantIncome  CoapplicantIncome  LoanAmount  Loan_Amount_Term  \\\n",
       "1               4583             1508.0       128.0             360.0   \n",
       "2               3000                0.0        66.0             360.0   \n",
       "3               2583             2358.0       120.0             360.0   \n",
       "4               6000                0.0       141.0             360.0   \n",
       "5               5417             4196.0       267.0             360.0   \n",
       "..               ...                ...         ...               ...   \n",
       "609             2900                0.0        71.0             360.0   \n",
       "610             4106                0.0        40.0             180.0   \n",
       "611             8072              240.0       253.0             360.0   \n",
       "612             7583                0.0       187.0             360.0   \n",
       "613             4583                0.0       133.0             360.0   \n",
       "\n",
       "     Credit_History Property_Area  Loan_Status_Y  \n",
       "1               1.0         Rural              0  \n",
       "2               1.0         Urban              1  \n",
       "3               1.0         Urban              1  \n",
       "4               1.0         Urban              1  \n",
       "5               1.0         Urban              1  \n",
       "..              ...           ...            ...  \n",
       "609             1.0         Rural              1  \n",
       "610             1.0         Rural              1  \n",
       "611             1.0         Urban              1  \n",
       "612             1.0         Urban              1  \n",
       "613             0.0     Semiurban              0  \n",
       "\n",
       "[480 rows x 13 columns]"
      ]
     },
     "execution_count": 6,
     "metadata": {},
     "output_type": "execute_result"
    }
   ],
   "source": [
    "#Make loan status a dummy variable, drop the \"N\" column\n",
    "train_data = pd.get_dummies(train_data_pre_dummy, prefix=['Loan_Status'], columns=['Loan_Status'])\n",
    "train_data.drop('Loan_Status_N', axis=1, inplace=True)\n",
    "train_data"
   ]
  },
  {
   "cell_type": "code",
   "execution_count": 7,
   "metadata": {},
   "outputs": [],
   "source": [
    "#Replace \"3+\" in dependents with \"3\" - not perfect, but easier to deal with\n",
    "train_data = train_data.replace(['3+'],'3')\n",
    "test_data = test_data.replace(['3+'],'3')\n"
   ]
  },
  {
   "cell_type": "code",
   "execution_count": 8,
   "metadata": {},
   "outputs": [
    {
     "data": {
      "text/html": [
       "<div>\n",
       "<style scoped>\n",
       "    .dataframe tbody tr th:only-of-type {\n",
       "        vertical-align: middle;\n",
       "    }\n",
       "\n",
       "    .dataframe tbody tr th {\n",
       "        vertical-align: top;\n",
       "    }\n",
       "\n",
       "    .dataframe thead th {\n",
       "        text-align: right;\n",
       "    }\n",
       "</style>\n",
       "<table border=\"1\" class=\"dataframe\">\n",
       "  <thead>\n",
       "    <tr style=\"text-align: right;\">\n",
       "      <th></th>\n",
       "      <th>Loan_ID</th>\n",
       "      <th>Dependents</th>\n",
       "      <th>ApplicantIncome</th>\n",
       "      <th>CoapplicantIncome</th>\n",
       "      <th>LoanAmount</th>\n",
       "      <th>Loan_Amount_Term</th>\n",
       "      <th>Loan_Status_Y</th>\n",
       "      <th>Gender_Female</th>\n",
       "      <th>Education_Graduate</th>\n",
       "      <th>Married_Yes</th>\n",
       "      <th>Self_Employed_Yes</th>\n",
       "      <th>Credit_History_1.0</th>\n",
       "      <th>Property_Area_Rural</th>\n",
       "      <th>Property_Area_Semiurban</th>\n",
       "      <th>Property_Area_Urban</th>\n",
       "    </tr>\n",
       "  </thead>\n",
       "  <tbody>\n",
       "    <tr>\n",
       "      <th>1</th>\n",
       "      <td>LP001003</td>\n",
       "      <td>1</td>\n",
       "      <td>4583</td>\n",
       "      <td>1508.0</td>\n",
       "      <td>128.0</td>\n",
       "      <td>360.0</td>\n",
       "      <td>0</td>\n",
       "      <td>0</td>\n",
       "      <td>1</td>\n",
       "      <td>1</td>\n",
       "      <td>0</td>\n",
       "      <td>1</td>\n",
       "      <td>1</td>\n",
       "      <td>0</td>\n",
       "      <td>0</td>\n",
       "    </tr>\n",
       "    <tr>\n",
       "      <th>2</th>\n",
       "      <td>LP001005</td>\n",
       "      <td>0</td>\n",
       "      <td>3000</td>\n",
       "      <td>0.0</td>\n",
       "      <td>66.0</td>\n",
       "      <td>360.0</td>\n",
       "      <td>1</td>\n",
       "      <td>0</td>\n",
       "      <td>1</td>\n",
       "      <td>1</td>\n",
       "      <td>1</td>\n",
       "      <td>1</td>\n",
       "      <td>0</td>\n",
       "      <td>0</td>\n",
       "      <td>1</td>\n",
       "    </tr>\n",
       "    <tr>\n",
       "      <th>3</th>\n",
       "      <td>LP001006</td>\n",
       "      <td>0</td>\n",
       "      <td>2583</td>\n",
       "      <td>2358.0</td>\n",
       "      <td>120.0</td>\n",
       "      <td>360.0</td>\n",
       "      <td>1</td>\n",
       "      <td>0</td>\n",
       "      <td>0</td>\n",
       "      <td>1</td>\n",
       "      <td>0</td>\n",
       "      <td>1</td>\n",
       "      <td>0</td>\n",
       "      <td>0</td>\n",
       "      <td>1</td>\n",
       "    </tr>\n",
       "    <tr>\n",
       "      <th>4</th>\n",
       "      <td>LP001008</td>\n",
       "      <td>0</td>\n",
       "      <td>6000</td>\n",
       "      <td>0.0</td>\n",
       "      <td>141.0</td>\n",
       "      <td>360.0</td>\n",
       "      <td>1</td>\n",
       "      <td>0</td>\n",
       "      <td>1</td>\n",
       "      <td>0</td>\n",
       "      <td>0</td>\n",
       "      <td>1</td>\n",
       "      <td>0</td>\n",
       "      <td>0</td>\n",
       "      <td>1</td>\n",
       "    </tr>\n",
       "    <tr>\n",
       "      <th>5</th>\n",
       "      <td>LP001011</td>\n",
       "      <td>2</td>\n",
       "      <td>5417</td>\n",
       "      <td>4196.0</td>\n",
       "      <td>267.0</td>\n",
       "      <td>360.0</td>\n",
       "      <td>1</td>\n",
       "      <td>0</td>\n",
       "      <td>1</td>\n",
       "      <td>1</td>\n",
       "      <td>1</td>\n",
       "      <td>1</td>\n",
       "      <td>0</td>\n",
       "      <td>0</td>\n",
       "      <td>1</td>\n",
       "    </tr>\n",
       "    <tr>\n",
       "      <th>...</th>\n",
       "      <td>...</td>\n",
       "      <td>...</td>\n",
       "      <td>...</td>\n",
       "      <td>...</td>\n",
       "      <td>...</td>\n",
       "      <td>...</td>\n",
       "      <td>...</td>\n",
       "      <td>...</td>\n",
       "      <td>...</td>\n",
       "      <td>...</td>\n",
       "      <td>...</td>\n",
       "      <td>...</td>\n",
       "      <td>...</td>\n",
       "      <td>...</td>\n",
       "      <td>...</td>\n",
       "    </tr>\n",
       "    <tr>\n",
       "      <th>609</th>\n",
       "      <td>LP002978</td>\n",
       "      <td>0</td>\n",
       "      <td>2900</td>\n",
       "      <td>0.0</td>\n",
       "      <td>71.0</td>\n",
       "      <td>360.0</td>\n",
       "      <td>1</td>\n",
       "      <td>1</td>\n",
       "      <td>1</td>\n",
       "      <td>0</td>\n",
       "      <td>0</td>\n",
       "      <td>1</td>\n",
       "      <td>1</td>\n",
       "      <td>0</td>\n",
       "      <td>0</td>\n",
       "    </tr>\n",
       "    <tr>\n",
       "      <th>610</th>\n",
       "      <td>LP002979</td>\n",
       "      <td>3</td>\n",
       "      <td>4106</td>\n",
       "      <td>0.0</td>\n",
       "      <td>40.0</td>\n",
       "      <td>180.0</td>\n",
       "      <td>1</td>\n",
       "      <td>0</td>\n",
       "      <td>1</td>\n",
       "      <td>1</td>\n",
       "      <td>0</td>\n",
       "      <td>1</td>\n",
       "      <td>1</td>\n",
       "      <td>0</td>\n",
       "      <td>0</td>\n",
       "    </tr>\n",
       "    <tr>\n",
       "      <th>611</th>\n",
       "      <td>LP002983</td>\n",
       "      <td>1</td>\n",
       "      <td>8072</td>\n",
       "      <td>240.0</td>\n",
       "      <td>253.0</td>\n",
       "      <td>360.0</td>\n",
       "      <td>1</td>\n",
       "      <td>0</td>\n",
       "      <td>1</td>\n",
       "      <td>1</td>\n",
       "      <td>0</td>\n",
       "      <td>1</td>\n",
       "      <td>0</td>\n",
       "      <td>0</td>\n",
       "      <td>1</td>\n",
       "    </tr>\n",
       "    <tr>\n",
       "      <th>612</th>\n",
       "      <td>LP002984</td>\n",
       "      <td>2</td>\n",
       "      <td>7583</td>\n",
       "      <td>0.0</td>\n",
       "      <td>187.0</td>\n",
       "      <td>360.0</td>\n",
       "      <td>1</td>\n",
       "      <td>0</td>\n",
       "      <td>1</td>\n",
       "      <td>1</td>\n",
       "      <td>0</td>\n",
       "      <td>1</td>\n",
       "      <td>0</td>\n",
       "      <td>0</td>\n",
       "      <td>1</td>\n",
       "    </tr>\n",
       "    <tr>\n",
       "      <th>613</th>\n",
       "      <td>LP002990</td>\n",
       "      <td>0</td>\n",
       "      <td>4583</td>\n",
       "      <td>0.0</td>\n",
       "      <td>133.0</td>\n",
       "      <td>360.0</td>\n",
       "      <td>0</td>\n",
       "      <td>1</td>\n",
       "      <td>1</td>\n",
       "      <td>0</td>\n",
       "      <td>1</td>\n",
       "      <td>0</td>\n",
       "      <td>0</td>\n",
       "      <td>1</td>\n",
       "      <td>0</td>\n",
       "    </tr>\n",
       "  </tbody>\n",
       "</table>\n",
       "<p>480 rows × 15 columns</p>\n",
       "</div>"
      ],
      "text/plain": [
       "      Loan_ID Dependents  ApplicantIncome  CoapplicantIncome  LoanAmount  \\\n",
       "1    LP001003          1             4583             1508.0       128.0   \n",
       "2    LP001005          0             3000                0.0        66.0   \n",
       "3    LP001006          0             2583             2358.0       120.0   \n",
       "4    LP001008          0             6000                0.0       141.0   \n",
       "5    LP001011          2             5417             4196.0       267.0   \n",
       "..        ...        ...              ...                ...         ...   \n",
       "609  LP002978          0             2900                0.0        71.0   \n",
       "610  LP002979          3             4106                0.0        40.0   \n",
       "611  LP002983          1             8072              240.0       253.0   \n",
       "612  LP002984          2             7583                0.0       187.0   \n",
       "613  LP002990          0             4583                0.0       133.0   \n",
       "\n",
       "     Loan_Amount_Term  Loan_Status_Y  Gender_Female  Education_Graduate  \\\n",
       "1               360.0              0              0                   1   \n",
       "2               360.0              1              0                   1   \n",
       "3               360.0              1              0                   0   \n",
       "4               360.0              1              0                   1   \n",
       "5               360.0              1              0                   1   \n",
       "..                ...            ...            ...                 ...   \n",
       "609             360.0              1              1                   1   \n",
       "610             180.0              1              0                   1   \n",
       "611             360.0              1              0                   1   \n",
       "612             360.0              1              0                   1   \n",
       "613             360.0              0              1                   1   \n",
       "\n",
       "     Married_Yes  Self_Employed_Yes  Credit_History_1.0  Property_Area_Rural  \\\n",
       "1              1                  0                   1                    1   \n",
       "2              1                  1                   1                    0   \n",
       "3              1                  0                   1                    0   \n",
       "4              0                  0                   1                    0   \n",
       "5              1                  1                   1                    0   \n",
       "..           ...                ...                 ...                  ...   \n",
       "609            0                  0                   1                    1   \n",
       "610            1                  0                   1                    1   \n",
       "611            1                  0                   1                    0   \n",
       "612            1                  0                   1                    0   \n",
       "613            0                  1                   0                    0   \n",
       "\n",
       "     Property_Area_Semiurban  Property_Area_Urban  \n",
       "1                          0                    0  \n",
       "2                          0                    1  \n",
       "3                          0                    1  \n",
       "4                          0                    1  \n",
       "5                          0                    1  \n",
       "..                       ...                  ...  \n",
       "609                        0                    0  \n",
       "610                        0                    0  \n",
       "611                        0                    1  \n",
       "612                        0                    1  \n",
       "613                        1                    0  \n",
       "\n",
       "[480 rows x 15 columns]"
      ]
     },
     "execution_count": 8,
     "metadata": {},
     "output_type": "execute_result"
    }
   ],
   "source": [
    "#Limited dummy variables\n",
    "train_data_limit_dummies = pd.get_dummies(train_data, prefix=['Gender'], columns=['Gender'])\n",
    "train_data_limit_dummies.drop('Gender_Male', axis=1, inplace=True)\n",
    "test_data_limit_dummies = pd.get_dummies(test_data, prefix=['Gender'], columns=['Gender'])\n",
    "test_data_limit_dummies.drop('Gender_Male', axis=1, inplace=True)\n",
    "train_data_limit_dummies = pd.get_dummies(train_data_limit_dummies, prefix=['Education'], columns=['Education'])\n",
    "train_data_limit_dummies.drop('Education_Not Graduate', axis=1, inplace=True)\n",
    "test_data_limit_dummies = pd.get_dummies(test_data_limit_dummies, prefix=['Education'], columns=['Education'])\n",
    "test_data_limit_dummies.drop('Education_Not Graduate', axis=1, inplace=True)\n",
    "train_data_limit_dummies = pd.get_dummies(train_data_limit_dummies, prefix=['Married'], columns=['Married'])\n",
    "train_data_limit_dummies.drop('Married_No', axis=1, inplace=True)\n",
    "test_data_limit_dummies = pd.get_dummies(test_data_limit_dummies, prefix=['Married'], columns=['Married'])\n",
    "test_data_limit_dummies.drop('Married_No', axis=1, inplace=True)\n",
    "train_data_limit_dummies = pd.get_dummies(train_data_limit_dummies, prefix=['Self_Employed'], columns=['Self_Employed'])\n",
    "train_data_limit_dummies.drop('Self_Employed_No', axis=1, inplace=True)\n",
    "test_data_limit_dummies = pd.get_dummies(test_data_limit_dummies, prefix=['Self_Employed'], columns=['Self_Employed'])\n",
    "test_data_limit_dummies.drop('Self_Employed_No', axis=1, inplace=True)\n",
    "train_data_limit_dummies = pd.get_dummies(train_data_limit_dummies, prefix=['Credit_History'], columns=['Credit_History'])\n",
    "train_data_limit_dummies.drop('Credit_History_0.0', axis=1, inplace=True)\n",
    "test_data_limit_dummies = pd.get_dummies(test_data_limit_dummies, prefix=['Credit_History'], columns=['Credit_History'])\n",
    "test_data_limit_dummies.drop('Credit_History_0.0', axis=1, inplace=True)\n",
    "\n",
    "train_data_limit_dummies = pd.get_dummies(train_data_limit_dummies, prefix=['Property_Area'], columns=['Property_Area'])\n",
    "test_data_limit_dummies = pd.get_dummies(test_data_limit_dummies, prefix=['Property_Area'], columns=['Property_Area'])\n",
    "\n",
    "train_data_limit_dummies"
   ]
  },
  {
   "cell_type": "markdown",
   "metadata": {},
   "source": [
    "## 1. KNN"
   ]
  },
  {
   "cell_type": "code",
   "execution_count": 9,
   "metadata": {},
   "outputs": [],
   "source": [
    "target = train_data_limit_dummies[\"Loan_Status_Y\"]\n",
    "target_names = [\"Denied\", \"Approved\"]"
   ]
  },
  {
   "cell_type": "code",
   "execution_count": 10,
   "metadata": {},
   "outputs": [],
   "source": [
    "data = train_data_limit_dummies.drop([\"Loan_Status_Y\", \"Loan_ID\"], axis=1)\n",
    "feature_names = data.columns"
   ]
  },
  {
   "cell_type": "code",
   "execution_count": 11,
   "metadata": {},
   "outputs": [],
   "source": [
    "from sklearn.model_selection import train_test_split\n",
    "X_train, X_test, y_train, y_test = train_test_split(data, target, random_state=57)"
   ]
  },
  {
   "cell_type": "code",
   "execution_count": 12,
   "metadata": {},
   "outputs": [],
   "source": [
    "from sklearn.preprocessing import StandardScaler\n",
    "\n",
    "# Create a StandardScater model and fit it to the training data\n",
    "\n",
    "X_scaler = StandardScaler().fit(X_train)"
   ]
  },
  {
   "cell_type": "code",
   "execution_count": 13,
   "metadata": {},
   "outputs": [
    {
     "data": {
      "text/plain": [
       "array([[ 1.24549836, -0.51318299, -0.58926585, ...,  1.52752523,\n",
       "        -0.78842985, -0.68074565],\n",
       "       [-0.75173732, -0.30100616,  0.22454126, ...,  1.52752523,\n",
       "        -0.78842985, -0.68074565],\n",
       "       [-0.75173732, -0.46545932,  0.82555875, ...,  1.52752523,\n",
       "        -0.78842985, -0.68074565],\n",
       "       ...,\n",
       "       [ 0.24688052,  0.81405076,  0.86328741, ..., -0.65465367,\n",
       "        -0.78842985,  1.46897745],\n",
       "       [-0.75173732, -0.2070099 ,  0.28075696, ..., -0.65465367,\n",
       "         1.26834366, -0.68074565],\n",
       "       [ 1.24549836,  0.07594628, -0.58926585, ..., -0.65465367,\n",
       "         1.26834366, -0.68074565]])"
      ]
     },
     "execution_count": 13,
     "metadata": {},
     "output_type": "execute_result"
    }
   ],
   "source": [
    "X_train_scaled = X_scaler.transform(X_train)\n",
    "X_test_scaled = X_scaler.transform(X_test)\n",
    "X_test_scaled"
   ]
  },
  {
   "cell_type": "code",
   "execution_count": 14,
   "metadata": {},
   "outputs": [
    {
     "name": "stdout",
     "output_type": "stream",
     "text": [
      "k: 1, Train/Test Score: 1.000/0.700\n",
      "k: 3, Train/Test Score: 0.831/0.800\n",
      "k: 5, Train/Test Score: 0.808/0.792\n",
      "k: 7, Train/Test Score: 0.797/0.792\n",
      "k: 9, Train/Test Score: 0.794/0.783\n",
      "k: 11, Train/Test Score: 0.794/0.767\n",
      "k: 13, Train/Test Score: 0.778/0.758\n",
      "k: 15, Train/Test Score: 0.778/0.758\n",
      "k: 17, Train/Test Score: 0.767/0.758\n",
      "k: 19, Train/Test Score: 0.769/0.750\n",
      "k: 21, Train/Test Score: 0.756/0.758\n",
      "k: 23, Train/Test Score: 0.758/0.758\n",
      "k: 25, Train/Test Score: 0.758/0.758\n",
      "k: 27, Train/Test Score: 0.747/0.758\n",
      "k: 29, Train/Test Score: 0.744/0.750\n",
      "k: 31, Train/Test Score: 0.736/0.750\n",
      "k: 33, Train/Test Score: 0.733/0.758\n",
      "k: 35, Train/Test Score: 0.722/0.742\n",
      "k: 37, Train/Test Score: 0.717/0.742\n",
      "k: 39, Train/Test Score: 0.719/0.725\n"
     ]
    },
    {
     "data": {
      "image/png": "[encoded data removed]",
      "text/plain": [
       "<Figure size 432x288 with 1 Axes>"
      ]
     },
     "metadata": {
      "needs_background": "light"
     },
     "output_type": "display_data"
    }
   ],
   "source": [
    "# Loop through different k values to see which has the highest accuracy\n",
    "# Note: We only use odd numbers because we don't want any ties\n",
    "train_scores = []\n",
    "test_scores = []\n",
    "for k in range(1, 40, 2):\n",
    "    knn = KNeighborsClassifier(n_neighbors=k)\n",
    "    knn.fit(X_train_scaled, y_train)\n",
    "    train_score = knn.score(X_train_scaled, y_train)\n",
    "    test_score = knn.score(X_test_scaled, y_test)\n",
    "    train_scores.append(train_score)\n",
    "    test_scores.append(test_score)\n",
    "    print(f\"k: {k}, Train/Test Score: {train_score:.3f}/{test_score:.3f}\")\n",
    "    \n",
    "    \n",
    "plt.plot(range(1, 40, 2), train_scores, marker='o')\n",
    "plt.plot(range(1, 40, 2), test_scores, marker=\"x\")\n",
    "plt.xlabel(\"k neighbors\")\n",
    "plt.ylabel(\"Testing accuracy Score\")\n",
    "plt.show()"
   ]
  },
  {
   "cell_type": "code",
   "execution_count": 31,
   "metadata": {},
   "outputs": [
    {
     "name": "stdout",
     "output_type": "stream",
     "text": [
      "k=3 Test Acc: 0.800\n"
     ]
    }
   ],
   "source": [
    "# Note that k: 3 seems to be approx. the best choice for this dataset\n",
    "knn = KNeighborsClassifier(n_neighbors=3)\n",
    "knn.fit(X_train_scaled, y_train)\n",
    "print('k=3 Test Acc: %.3f' % knn.score(X_test_scaled, y_test))"
   ]
  },
  {
   "cell_type": "markdown",
   "metadata": {},
   "source": [
    "## 2. KNN, took out Loan_Amount_Term"
   ]
  },
  {
   "cell_type": "code",
   "execution_count": 16,
   "metadata": {},
   "outputs": [],
   "source": [
    "target = train_data_limit_dummies[\"Loan_Status_Y\"]\n",
    "target_names = [\"Denied\", \"Approved\"]\n",
    "data = train_data_limit_dummies.drop([\"Loan_Status_Y\", \"Loan_ID\", 'Loan_Amount_Term'], axis=1)\n",
    "feature_names = data.columns"
   ]
  },
  {
   "cell_type": "code",
   "execution_count": 17,
   "metadata": {},
   "outputs": [],
   "source": [
    "X_train, X_test, y_train, y_test = train_test_split(data, target, random_state=57)\n",
    "X_scaler = StandardScaler().fit(X_train)\n",
    "X_train_scaled = X_scaler.transform(X_train)\n",
    "X_test_scaled = X_scaler.transform(X_test)"
   ]
  },
  {
   "cell_type": "code",
   "execution_count": 18,
   "metadata": {},
   "outputs": [
    {
     "name": "stdout",
     "output_type": "stream",
     "text": [
      "k: 1, Train/Test Score: 1.000/0.708\n",
      "k: 3, Train/Test Score: 0.836/0.800\n",
      "k: 5, Train/Test Score: 0.811/0.800\n",
      "k: 7, Train/Test Score: 0.797/0.783\n",
      "k: 9, Train/Test Score: 0.794/0.783\n",
      "k: 11, Train/Test Score: 0.794/0.767\n",
      "k: 13, Train/Test Score: 0.800/0.767\n",
      "k: 15, Train/Test Score: 0.803/0.775\n",
      "k: 17, Train/Test Score: 0.786/0.758\n",
      "k: 19, Train/Test Score: 0.786/0.758\n",
      "k: 21, Train/Test Score: 0.781/0.758\n",
      "k: 23, Train/Test Score: 0.772/0.758\n",
      "k: 25, Train/Test Score: 0.769/0.758\n",
      "k: 27, Train/Test Score: 0.772/0.758\n",
      "k: 29, Train/Test Score: 0.772/0.758\n",
      "k: 31, Train/Test Score: 0.761/0.750\n",
      "k: 33, Train/Test Score: 0.756/0.750\n",
      "k: 35, Train/Test Score: 0.742/0.750\n",
      "k: 37, Train/Test Score: 0.739/0.750\n",
      "k: 39, Train/Test Score: 0.733/0.750\n"
     ]
    },
    {
     "data": {
      "image/png": "[encoded data removed]",
      "text/plain": [
       "<Figure size 432x288 with 1 Axes>"
      ]
     },
     "metadata": {
      "needs_background": "light"
     },
     "output_type": "display_data"
    }
   ],
   "source": [
    "train_scores = []\n",
    "test_scores = []\n",
    "for k in range(1, 40, 2):\n",
    "    knn = KNeighborsClassifier(n_neighbors=k)\n",
    "    knn.fit(X_train_scaled, y_train)\n",
    "    train_score = knn.score(X_train_scaled, y_train)\n",
    "    test_score = knn.score(X_test_scaled, y_test)\n",
    "    train_scores.append(train_score)\n",
    "    test_scores.append(test_score)\n",
    "    print(f\"k: {k}, Train/Test Score: {train_score:.3f}/{test_score:.3f}\")\n",
    "    \n",
    "    \n",
    "plt.plot(range(1, 40, 2), train_scores, marker='o')\n",
    "plt.plot(range(1, 40, 2), test_scores, marker=\"x\")\n",
    "plt.xlabel(\"k neighbors\")\n",
    "plt.ylabel(\"Testing accuracy Score\")\n",
    "plt.show()"
   ]
  },
  {
   "cell_type": "code",
   "execution_count": 32,
   "metadata": {},
   "outputs": [
    {
     "name": "stdout",
     "output_type": "stream",
     "text": [
      "k=5 Test Acc: 0.792\n"
     ]
    }
   ],
   "source": [
    "knn = KNeighborsClassifier(n_neighbors=5)\n",
    "knn.fit(X_train_scaled, y_train)\n",
    "print('k=5 Test Acc: %.3f' % knn.score(X_test_scaled, y_test))"
   ]
  },
  {
   "cell_type": "markdown",
   "metadata": {},
   "source": [
    "## 3. KNN, took out Loan_Amount_Term and LoanAmount"
   ]
  },
  {
   "cell_type": "code",
   "execution_count": 20,
   "metadata": {},
   "outputs": [],
   "source": [
    "target = train_data_limit_dummies[\"Loan_Status_Y\"]\n",
    "target_names = [\"Denied\", \"Approved\"]\n",
    "data = train_data_limit_dummies.drop([\"Loan_Status_Y\", \"Loan_ID\", 'LoanAmount', 'Loan_Amount_Term'], axis=1)\n",
    "feature_names = data.columns"
   ]
  },
  {
   "cell_type": "code",
   "execution_count": 21,
   "metadata": {},
   "outputs": [],
   "source": [
    "X_train, X_test, y_train, y_test = train_test_split(data, target, random_state=57)\n",
    "X_scaler = StandardScaler().fit(X_train)\n",
    "X_train_scaled = X_scaler.transform(X_train)\n",
    "X_test_scaled = X_scaler.transform(X_test)"
   ]
  },
  {
   "cell_type": "code",
   "execution_count": 22,
   "metadata": {},
   "outputs": [
    {
     "name": "stdout",
     "output_type": "stream",
     "text": [
      "k: 1, Train/Test Score: 0.997/0.692\n",
      "k: 3, Train/Test Score: 0.839/0.775\n",
      "k: 5, Train/Test Score: 0.808/0.783\n",
      "k: 7, Train/Test Score: 0.797/0.792\n",
      "k: 9, Train/Test Score: 0.803/0.792\n",
      "k: 11, Train/Test Score: 0.794/0.783\n",
      "k: 13, Train/Test Score: 0.797/0.783\n",
      "k: 15, Train/Test Score: 0.789/0.775\n",
      "k: 17, Train/Test Score: 0.792/0.775\n",
      "k: 19, Train/Test Score: 0.783/0.767\n",
      "k: 21, Train/Test Score: 0.778/0.758\n",
      "k: 23, Train/Test Score: 0.775/0.758\n",
      "k: 25, Train/Test Score: 0.772/0.758\n",
      "k: 27, Train/Test Score: 0.772/0.758\n",
      "k: 29, Train/Test Score: 0.775/0.758\n",
      "k: 31, Train/Test Score: 0.767/0.742\n",
      "k: 33, Train/Test Score: 0.758/0.742\n",
      "k: 35, Train/Test Score: 0.761/0.742\n",
      "k: 37, Train/Test Score: 0.744/0.750\n",
      "k: 39, Train/Test Score: 0.742/0.742\n"
     ]
    },
    {
     "data": {
      "image/png": "[encoded data removed]",
      "text/plain": [
       "<Figure size 432x288 with 1 Axes>"
      ]
     },
     "metadata": {
      "needs_background": "light"
     },
     "output_type": "display_data"
    }
   ],
   "source": [
    "train_scores = []\n",
    "test_scores = []\n",
    "for k in range(1, 40, 2):\n",
    "    knn = KNeighborsClassifier(n_neighbors=k)\n",
    "    knn.fit(X_train_scaled, y_train)\n",
    "    train_score = knn.score(X_train_scaled, y_train)\n",
    "    test_score = knn.score(X_test_scaled, y_test)\n",
    "    train_scores.append(train_score)\n",
    "    test_scores.append(test_score)\n",
    "    print(f\"k: {k}, Train/Test Score: {train_score:.3f}/{test_score:.3f}\")\n",
    "    \n",
    "    \n",
    "plt.plot(range(1, 40, 2), train_scores, marker='o')\n",
    "plt.plot(range(1, 40, 2), test_scores, marker=\"x\")\n",
    "plt.xlabel(\"k neighbors\")\n",
    "plt.ylabel(\"Testing accuracy Score\")\n",
    "plt.show()"
   ]
  },
  {
   "cell_type": "code",
   "execution_count": 33,
   "metadata": {},
   "outputs": [
    {
     "name": "stdout",
     "output_type": "stream",
     "text": [
      "k=7 Test Acc: 0.792\n"
     ]
    }
   ],
   "source": [
    "knn = KNeighborsClassifier(n_neighbors=7)\n",
    "knn.fit(X_train_scaled, y_train)\n",
    "print('k=7 Test Acc: %.3f' % knn.score(X_test_scaled, y_test))"
   ]
  },
  {
   "cell_type": "markdown",
   "metadata": {},
   "source": [
    "## 4. KNN, took out Loan_Amount_Term and LoanAmount and also factors less important in Random Forest tests"
   ]
  },
  {
   "cell_type": "code",
   "execution_count": 24,
   "metadata": {},
   "outputs": [],
   "source": [
    "target = train_data_limit_dummies[\"Loan_Status_Y\"]\n",
    "target_names = [\"Denied\", \"Approved\"]\n",
    "data = train_data_limit_dummies.drop([\"Loan_Status_Y\", \"Loan_ID\", 'Property_Area_Urban', 'Self_Employed_Yes', \t'LoanAmount', 'Education_Graduate', 'Gender_Female', 'Loan_Amount_Term', \t'Property_Area_Semiurban', 'Property_Area_Rural'], axis=1)\n",
    "feature_names = data.columns"
   ]
  },
  {
   "cell_type": "code",
   "execution_count": 25,
   "metadata": {},
   "outputs": [],
   "source": [
    "X_train, X_test, y_train, y_test = train_test_split(data, target, random_state=57)\n",
    "X_scaler = StandardScaler().fit(X_train)\n",
    "X_train_scaled = X_scaler.transform(X_train)\n",
    "X_test_scaled = X_scaler.transform(X_test)"
   ]
  },
  {
   "cell_type": "code",
   "execution_count": 26,
   "metadata": {},
   "outputs": [
    {
     "name": "stdout",
     "output_type": "stream",
     "text": [
      "k: 1, Train/Test Score: 0.997/0.600\n",
      "k: 3, Train/Test Score: 0.853/0.725\n",
      "k: 5, Train/Test Score: 0.828/0.742\n",
      "k: 7, Train/Test Score: 0.814/0.750\n",
      "k: 9, Train/Test Score: 0.819/0.767\n",
      "k: 11, Train/Test Score: 0.814/0.767\n",
      "k: 13, Train/Test Score: 0.803/0.783\n",
      "k: 15, Train/Test Score: 0.808/0.792\n",
      "k: 17, Train/Test Score: 0.808/0.792\n",
      "k: 19, Train/Test Score: 0.811/0.792\n",
      "k: 21, Train/Test Score: 0.811/0.783\n",
      "k: 23, Train/Test Score: 0.811/0.792\n",
      "k: 25, Train/Test Score: 0.811/0.792\n",
      "k: 27, Train/Test Score: 0.811/0.792\n",
      "k: 29, Train/Test Score: 0.811/0.792\n",
      "k: 31, Train/Test Score: 0.814/0.792\n",
      "k: 33, Train/Test Score: 0.814/0.792\n",
      "k: 35, Train/Test Score: 0.814/0.792\n",
      "k: 37, Train/Test Score: 0.811/0.783\n",
      "k: 39, Train/Test Score: 0.808/0.783\n"
     ]
    },
    {
     "data": {
      "image/png": "[encoded data removed]",
      "text/plain": [
       "<Figure size 432x288 with 1 Axes>"
      ]
     },
     "metadata": {
      "needs_background": "light"
     },
     "output_type": "display_data"
    }
   ],
   "source": [
    "train_scores = []\n",
    "test_scores = []\n",
    "for k in range(1, 40, 2):\n",
    "    knn = KNeighborsClassifier(n_neighbors=k)\n",
    "    knn.fit(X_train_scaled, y_train)\n",
    "    train_score = knn.score(X_train_scaled, y_train)\n",
    "    test_score = knn.score(X_test_scaled, y_test)\n",
    "    train_scores.append(train_score)\n",
    "    test_scores.append(test_score)\n",
    "    print(f\"k: {k}, Train/Test Score: {train_score:.3f}/{test_score:.3f}\")\n",
    "    \n",
    "    \n",
    "plt.plot(range(1, 40, 2), train_scores, marker='o')\n",
    "plt.plot(range(1, 40, 2), test_scores, marker=\"x\")\n",
    "plt.xlabel(\"k neighbors\")\n",
    "plt.ylabel(\"Testing accuracy Score\")\n",
    "plt.show()"
   ]
  },
  {
   "cell_type": "code",
   "execution_count": 34,
   "metadata": {},
   "outputs": [
    {
     "name": "stdout",
     "output_type": "stream",
     "text": [
      "k=15 Test Acc: 0.758\n"
     ]
    }
   ],
   "source": [
    "knn = KNeighborsClassifier(n_neighbors=15)\n",
    "knn.fit(X_train_scaled, y_train)\n",
    "print('k=15 Test Acc: %.3f' % knn.score(X_test_scaled, y_test))"
   ]
  },
  {
   "cell_type": "code",
   "execution_count": null,
   "metadata": {},
   "outputs": [],
   "source": []
  },
  {
   "cell_type": "code",
   "execution_count": null,
   "metadata": {},
   "outputs": [],
   "source": []
  },
  {
   "cell_type": "markdown",
   "metadata": {},
   "source": [
    "## 5. KNN, weights = distance, all factors...???"
   ]
  },
  {
   "cell_type": "markdown",
   "metadata": {},
   "source": [
    "weights='distance' : weight points by the inverse of their distance. in this case, closer neighbors of a query point will have a greater influence than neighbors which are further away."
   ]
  },
  {
   "cell_type": "code",
   "execution_count": 28,
   "metadata": {},
   "outputs": [],
   "source": [
    "target = train_data_limit_dummies[\"Loan_Status_Y\"]\n",
    "target_names = [\"Denied\", \"Approved\"]\n",
    "data = train_data_limit_dummies.drop([\"Loan_Status_Y\", \"Loan_ID\"], axis=1)\n",
    "feature_names = data.columns"
   ]
  },
  {
   "cell_type": "code",
   "execution_count": 29,
   "metadata": {},
   "outputs": [
    {
     "data": {
      "text/plain": [
       "array([[ 1.24549836, -0.51318299, -0.58926585, ...,  1.52752523,\n",
       "        -0.78842985, -0.68074565],\n",
       "       [-0.75173732, -0.30100616,  0.22454126, ...,  1.52752523,\n",
       "        -0.78842985, -0.68074565],\n",
       "       [-0.75173732, -0.46545932,  0.82555875, ...,  1.52752523,\n",
       "        -0.78842985, -0.68074565],\n",
       "       ...,\n",
       "       [ 0.24688052,  0.81405076,  0.86328741, ..., -0.65465367,\n",
       "        -0.78842985,  1.46897745],\n",
       "       [-0.75173732, -0.2070099 ,  0.28075696, ..., -0.65465367,\n",
       "         1.26834366, -0.68074565],\n",
       "       [ 1.24549836,  0.07594628, -0.58926585, ..., -0.65465367,\n",
       "         1.26834366, -0.68074565]])"
      ]
     },
     "execution_count": 29,
     "metadata": {},
     "output_type": "execute_result"
    }
   ],
   "source": [
    "X_train, X_test, y_train, y_test = train_test_split(data, target, random_state=57)\n",
    "X_scaler = StandardScaler().fit(X_train)\n",
    "X_train_scaled = X_scaler.transform(X_train)\n",
    "X_test_scaled = X_scaler.transform(X_test)\n",
    "X_test_scaled"
   ]
  },
  {
   "cell_type": "code",
   "execution_count": 30,
   "metadata": {},
   "outputs": [
    {
     "name": "stdout",
     "output_type": "stream",
     "text": [
      "k: 1, Train/Test Score: 1.000/0.700\n",
      "k: 3, Train/Test Score: 1.000/0.767\n",
      "k: 5, Train/Test Score: 1.000/0.783\n",
      "k: 7, Train/Test Score: 1.000/0.792\n",
      "k: 9, Train/Test Score: 1.000/0.775\n",
      "k: 11, Train/Test Score: 1.000/0.775\n",
      "k: 13, Train/Test Score: 1.000/0.775\n",
      "k: 15, Train/Test Score: 1.000/0.775\n",
      "k: 17, Train/Test Score: 1.000/0.775\n",
      "k: 19, Train/Test Score: 1.000/0.767\n",
      "k: 21, Train/Test Score: 1.000/0.775\n",
      "k: 23, Train/Test Score: 1.000/0.767\n",
      "k: 25, Train/Test Score: 1.000/0.767\n",
      "k: 27, Train/Test Score: 1.000/0.767\n",
      "k: 29, Train/Test Score: 1.000/0.767\n",
      "k: 31, Train/Test Score: 1.000/0.758\n",
      "k: 33, Train/Test Score: 1.000/0.758\n",
      "k: 35, Train/Test Score: 1.000/0.758\n",
      "k: 37, Train/Test Score: 1.000/0.767\n",
      "k: 39, Train/Test Score: 1.000/0.750\n"
     ]
    },
    {
     "data": {
      "image/png": "[encoded data removed]",
      "text/plain": [
       "<Figure size 432x288 with 1 Axes>"
      ]
     },
     "metadata": {
      "needs_background": "light"
     },
     "output_type": "display_data"
    }
   ],
   "source": [
    "# Loop through different k values to see which has the highest accuracy\n",
    "# Note: We only use odd numbers because we don't want any ties\n",
    "train_scores = []\n",
    "test_scores = []\n",
    "for k in range(1, 40, 2):\n",
    "    knn = KNeighborsClassifier(n_neighbors=k, weights='distance')\n",
    "    knn.fit(X_train_scaled, y_train)\n",
    "    train_score = knn.score(X_train_scaled, y_train)\n",
    "    test_score = knn.score(X_test_scaled, y_test)\n",
    "    train_scores.append(train_score)\n",
    "    test_scores.append(test_score)\n",
    "    print(f\"k: {k}, Train/Test Score: {train_score:.3f}/{test_score:.3f}\")\n",
    "    \n",
    "    \n",
    "plt.plot(range(1, 40, 2), train_scores, marker='o')\n",
    "plt.plot(range(1, 40, 2), test_scores, marker=\"x\")\n",
    "plt.xlabel(\"k neighbors\")\n",
    "plt.ylabel(\"Testing accuracy Score\")\n",
    "plt.show()\n",
    "\n",
    "#?? Something has to be done differently..."
   ]
  },
  {
   "cell_type": "code",
   "execution_count": null,
   "metadata": {},
   "outputs": [],
   "source": []
  },
  {
   "cell_type": "code",
   "execution_count": null,
   "metadata": {},
   "outputs": [],
   "source": []
  },
  {
   "cell_type": "code",
   "execution_count": null,
   "metadata": {},
   "outputs": [],
   "source": []
  },
  {
   "cell_type": "code",
   "execution_count": null,
   "metadata": {},
   "outputs": [],
   "source": []
  }
 ],
 "metadata": {
  "kernelspec": {
   "display_name": "Python 3",
   "language": "python",
   "name": "python3"
  },
  "language_info": {
   "codemirror_mode": {
    "name": "ipython",
    "version": 3
   },
   "file_extension": ".py",
   "mimetype": "text/x-python",
   "name": "python",
   "nbconvert_exporter": "python",
   "pygments_lexer": "ipython3",
   "version": "3.6.10"
  }
 },
 "nbformat": 4,
 "nbformat_minor": 4
}
