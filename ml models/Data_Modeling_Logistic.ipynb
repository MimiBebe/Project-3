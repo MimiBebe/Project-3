{
 "cells": [
  {
   "cell_type": "code",
   "execution_count": 1,
   "metadata": {},
   "outputs": [],
   "source": [
    "%matplotlib inline\n",
    "import matplotlib.pyplot as plt\n",
    "import seaborn as sns\n",
    "import pandas as pd\n",
    "import numpy as np\n",
    "from sklearn.model_selection import train_test_split\n",
    "from sklearn.linear_model import LogisticRegression\n",
    "import warnings\n",
    "warnings.filterwarnings(\"ignore\")"
   ]
  },
  {
   "cell_type": "markdown",
   "metadata": {},
   "source": [
    "### Load Data"
   ]
  },
  {
   "cell_type": "code",
   "execution_count": null,
   "metadata": {},
   "outputs": [],
   "source": [
    "trainCsv = \"cleanLoanDataTrain.csv\"\n",
    "valCsv = 'cleanLoanDataValidation.csv'"
   ]
  },
  {
   "cell_type": "code",
   "execution_count": null,
   "metadata": {},
   "outputs": [],
   "source": [
    "trainDf = pd.read_csv(trainCsv)\n",
    "trainDf.head()"
   ]
  },
  {
   "cell_type": "code",
   "execution_count": null,
   "metadata": {},
   "outputs": [],
   "source": [
    "valDf = pd.read_csv(valCsv)\n",
    "valDf.head()"
   ]
  },
  {
   "cell_type": "markdown",
   "metadata": {},
   "source": [
    "### Logistic Regression"
   ]
  },
  {
   "cell_type": "code",
   "execution_count": null,
   "metadata": {},
   "outputs": [],
   "source": [
    "classifier = LogisticRegression()\n",
    "classifier"
   ]
  },
  {
   "cell_type": "code",
   "execution_count": null,
   "metadata": {},
   "outputs": [],
   "source": [
    "y = trainDf[\"Loan_Status\"]\n",
    "X = trainDf.drop(columns=\"Loan_Status\")"
   ]
  },
  {
   "cell_type": "code",
   "execution_count": null,
   "metadata": {},
   "outputs": [],
   "source": [
    "x_train, x_test, y_train, y_test = train_test_split(X,y, test_size=0.25)"
   ]
  },
  {
   "cell_type": "code",
   "execution_count": null,
   "metadata": {},
   "outputs": [],
   "source": [
    "classifier.fit(x_train, y_train)"
   ]
  },
  {
   "cell_type": "code",
   "execution_count": null,
   "metadata": {},
   "outputs": [],
   "source": [
    "print(f\"Training Data Score: {classifier.score(x_train, y_train)}\")\n",
    "print(f\"Testing Data Score: {classifier.score(x_test, y_test)}\")"
   ]
  },
  {
   "cell_type": "markdown",
   "metadata": {},
   "source": [
    "### Logistic Regression - after log-transform\n",
    "* After inspect the histogram, income and loan amount distributions are skewed\n",
    "* Perform log-transformation to reduce outlier effects\n",
    "* Model increases in accuracy"
   ]
  },
  {
   "cell_type": "code",
   "execution_count": null,
   "metadata": {
    "scrolled": false
   },
   "outputs": [],
   "source": [
    "colList = [\"LoanAmount\",\"TotalIncome\"]\n",
    "\n",
    "for col in colList: \n",
    "    fig1 = plt.figure(figsize=(12,7))\n",
    "    sns.set(font_scale=1.5)\n",
    "    plt.hist(trainDf[col], density=True, bins=30)\n",
    "    plt.title('Histogram of ' + col)\n",
    "    \n",
    "    fig2 = plt.figure(figsize=(12,7))\n",
    "    sns.set(font_scale=1.5)\n",
    "    plt.hist(np.log(trainDf[col]), density=True, bins=30)\n",
    "    plt.title('Histogram of Log-tranformed of' + col)   \n"
   ]
  },
  {
   "cell_type": "code",
   "execution_count": null,
   "metadata": {},
   "outputs": [],
   "source": [
    "trainDf[\"Log_TotalIncome\"]= np.log(trainDf[\"TotalIncome\"])\n",
    "trainDf[\"Log_LoanAmount\"]= np.log(trainDf[\"LoanAmount\"])"
   ]
  },
  {
   "cell_type": "code",
   "execution_count": null,
   "metadata": {},
   "outputs": [],
   "source": [
    "y = trainDf[\"Loan_Status\"]\n",
    "X = trainDf.drop(columns=[\"Loan_Status\",\"LoanAmount\",\"TotalIncome\"])"
   ]
  },
  {
   "cell_type": "code",
   "execution_count": null,
   "metadata": {},
   "outputs": [],
   "source": [
    "classifierLog = LogisticRegression()\n",
    "classifierLog"
   ]
  },
  {
   "cell_type": "code",
   "execution_count": null,
   "metadata": {},
   "outputs": [],
   "source": [
    "x_train, x_test, y_train, y_test = train_test_split(X,y, test_size=0.25)\n",
    "classifierLog.fit(x_train, y_train)"
   ]
  },
  {
   "cell_type": "code",
   "execution_count": null,
   "metadata": {},
   "outputs": [],
   "source": [
    "print(f\"Training Data Score: {classifierLog.score(x_train, y_train)}\")\n",
    "print(f\"Testing Data Score: {classifierLog.score(x_test, y_test)}\")"
   ]
  },
  {
   "cell_type": "markdown",
   "metadata": {},
   "source": []
  },
  {
   "cell_type": "markdown",
   "metadata": {},
   "source": [
    "### Save the model \n",
    "* use pickle\n",
    "* use joblib"
   ]
  },
  {
   "cell_type": "code",
   "execution_count": null,
   "metadata": {},
   "outputs": [],
   "source": [
    "valDf[\"Log_TotalIncome\"]= np.log(valDf[\"TotalIncome\"])\n",
    "valDf[\"Log_LoanAmount\"]= np.log(valDf[\"LoanAmount\"])\n",
    "valDf = valDf.drop(columns=[\"LoanAmount\",\"TotalIncome\"])"
   ]
  },
  {
   "cell_type": "code",
   "execution_count": null,
   "metadata": {},
   "outputs": [],
   "source": [
    "import pickle \n",
    "  \n",
    "# Save the trained model as a pickle string. \n",
    "saved_model = pickle.dumps(classifierLog) \n",
    "  \n",
    "# Load the pickled model \n",
    "classifier_from_pickle = pickle.loads(saved_model) \n",
    "  \n",
    "# Use the loaded pickled model to make predictions for validation\n",
    "classifier_from_pickle.predict(valDf) "
   ]
  },
  {
   "cell_type": "code",
   "execution_count": null,
   "metadata": {
    "scrolled": true
   },
   "outputs": [],
   "source": [
    "import joblib \n",
    "  \n",
    "# Save the model as a pickle in a file \n",
    "joblib.dump(classifierLog, 'data/logisticRegression.pkl') \n",
    "  \n",
    "# Load the model from the file \n",
    "classifier_from_joblib = joblib.load('data/logisticRegression.pkl')  \n",
    "  \n",
    "# Use the loaded model to make predictions \n",
    "classifier_from_joblib.predict(valDf) "
   ]
  },
  {
   "cell_type": "code",
   "execution_count": null,
   "metadata": {},
   "outputs": [],
   "source": [
    "#  create dummy data to tets\n",
    "colNames = ['Gender', 'Married', 'Dependents', 'Education', 'Self_Employed',\\\n",
    "       'LoanAmount', 'Loan_Amount_Term', 'Credit_History', 'Property_Area',\\\n",
    "       'TotalIncome']\n",
    "colValues = [[1],[1],[1],[0],[0],[400000],[360],[0],[1],[60000]]\n",
    "testDummyDf = pd.DataFrame(data=colValues,index=colNames).T\n",
    "\n",
    "testDummyDf[\"Log_TotalIncome\"]= np.log(testDummyDf[\"TotalIncome\"])\n",
    "testDummyDf[\"Log_LoanAmount\"]= np.log(testDummyDf[\"LoanAmount\"])\n",
    "testDummyDf = testDummyDf.drop(columns=[\"LoanAmount\",\"TotalIncome\"])\n",
    "\n",
    "testDummyDf"
   ]
  },
  {
   "cell_type": "code",
   "execution_count": null,
   "metadata": {},
   "outputs": [],
   "source": [
    "# Use the loaded model to make predictions \n",
    "classifier_from_joblib.predict(testDummyDf) "
   ]
  }
 ],
 "metadata": {
  "kernelspec": {
   "display_name": "Python 3",
   "language": "python",
   "name": "python3"
  },
  "language_info": {
   "codemirror_mode": {
    "name": "ipython",
    "version": 3
   },
   "file_extension": ".py",
   "mimetype": "text/x-python",
   "name": "python",
   "nbconvert_exporter": "python",
   "pygments_lexer": "ipython3",
   "version": "3.7.6"
  }
 },
 "nbformat": 4,
 "nbformat_minor": 4
}
