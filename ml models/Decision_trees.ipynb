{
 "cells": [
  {
   "cell_type": "code",
   "execution_count": 1,
   "metadata": {},
   "outputs": [],
   "source": [
    "%matplotlib inline\n",
    "import matplotlib.pyplot as plt\n",
    "import pandas as pd\n",
    "import numpy as np\n",
    "import os\n",
    "from sklearn import tree\n",
    "from sklearn.model_selection import train_test_split\n",
    "import graphviz as gv\n",
    "from graphviz import Source\n",
    "from sklearn import tree\n",
    "SMALL_SIZE = 16\n",
    "MEDIUM_SIZE = 20\n",
    "BIGGER_SIZE = 24\n",
    "#Source( tree.export_graphviz(dtreg, out_file=None, feature_names=X.columns))"
   ]
  },
  {
   "cell_type": "code",
   "execution_count": 2,
   "metadata": {},
   "outputs": [
    {
     "data": {
      "text/html": [
       "<div>\n",
       "<style scoped>\n",
       "    .dataframe tbody tr th:only-of-type {\n",
       "        vertical-align: middle;\n",
       "    }\n",
       "\n",
       "    .dataframe tbody tr th {\n",
       "        vertical-align: top;\n",
       "    }\n",
       "\n",
       "    .dataframe thead th {\n",
       "        text-align: right;\n",
       "    }\n",
       "</style>\n",
       "<table border=\"1\" class=\"dataframe\">\n",
       "  <thead>\n",
       "    <tr style=\"text-align: right;\">\n",
       "      <th></th>\n",
       "      <th>Gender</th>\n",
       "      <th>Married</th>\n",
       "      <th>Dependents</th>\n",
       "      <th>Education</th>\n",
       "      <th>Self_Employed</th>\n",
       "      <th>ApplicantIncome</th>\n",
       "      <th>CoapplicantIncome</th>\n",
       "      <th>LoanAmount</th>\n",
       "      <th>Loan_Amount_Term</th>\n",
       "      <th>Credit_History</th>\n",
       "      <th>Property_Area</th>\n",
       "      <th>TotalIncome</th>\n",
       "      <th>LogTotalIncome</th>\n",
       "    </tr>\n",
       "  </thead>\n",
       "  <tbody>\n",
       "    <tr>\n",
       "      <th>0</th>\n",
       "      <td>0</td>\n",
       "      <td>1</td>\n",
       "      <td>0</td>\n",
       "      <td>1</td>\n",
       "      <td>0</td>\n",
       "      <td>5720.0</td>\n",
       "      <td>0.0</td>\n",
       "      <td>110000.0</td>\n",
       "      <td>360.0</td>\n",
       "      <td>1</td>\n",
       "      <td>2</td>\n",
       "      <td>5720.0</td>\n",
       "      <td>8.651724</td>\n",
       "    </tr>\n",
       "    <tr>\n",
       "      <th>1</th>\n",
       "      <td>0</td>\n",
       "      <td>1</td>\n",
       "      <td>1</td>\n",
       "      <td>1</td>\n",
       "      <td>0</td>\n",
       "      <td>3076.0</td>\n",
       "      <td>1500.0</td>\n",
       "      <td>126000.0</td>\n",
       "      <td>360.0</td>\n",
       "      <td>1</td>\n",
       "      <td>2</td>\n",
       "      <td>4576.0</td>\n",
       "      <td>8.428581</td>\n",
       "    </tr>\n",
       "    <tr>\n",
       "      <th>2</th>\n",
       "      <td>0</td>\n",
       "      <td>1</td>\n",
       "      <td>2</td>\n",
       "      <td>1</td>\n",
       "      <td>0</td>\n",
       "      <td>5000.0</td>\n",
       "      <td>1800.0</td>\n",
       "      <td>208000.0</td>\n",
       "      <td>360.0</td>\n",
       "      <td>1</td>\n",
       "      <td>2</td>\n",
       "      <td>6800.0</td>\n",
       "      <td>8.824678</td>\n",
       "    </tr>\n",
       "    <tr>\n",
       "      <th>3</th>\n",
       "      <td>0</td>\n",
       "      <td>1</td>\n",
       "      <td>2</td>\n",
       "      <td>1</td>\n",
       "      <td>0</td>\n",
       "      <td>2340.0</td>\n",
       "      <td>2546.0</td>\n",
       "      <td>100000.0</td>\n",
       "      <td>360.0</td>\n",
       "      <td>0</td>\n",
       "      <td>2</td>\n",
       "      <td>4886.0</td>\n",
       "      <td>8.494129</td>\n",
       "    </tr>\n",
       "    <tr>\n",
       "      <th>4</th>\n",
       "      <td>0</td>\n",
       "      <td>0</td>\n",
       "      <td>0</td>\n",
       "      <td>0</td>\n",
       "      <td>0</td>\n",
       "      <td>3276.0</td>\n",
       "      <td>0.0</td>\n",
       "      <td>78000.0</td>\n",
       "      <td>360.0</td>\n",
       "      <td>1</td>\n",
       "      <td>2</td>\n",
       "      <td>3276.0</td>\n",
       "      <td>8.094378</td>\n",
       "    </tr>\n",
       "    <tr>\n",
       "      <th>...</th>\n",
       "      <td>...</td>\n",
       "      <td>...</td>\n",
       "      <td>...</td>\n",
       "      <td>...</td>\n",
       "      <td>...</td>\n",
       "      <td>...</td>\n",
       "      <td>...</td>\n",
       "      <td>...</td>\n",
       "      <td>...</td>\n",
       "      <td>...</td>\n",
       "      <td>...</td>\n",
       "      <td>...</td>\n",
       "      <td>...</td>\n",
       "    </tr>\n",
       "    <tr>\n",
       "      <th>340</th>\n",
       "      <td>0</td>\n",
       "      <td>1</td>\n",
       "      <td>3</td>\n",
       "      <td>0</td>\n",
       "      <td>1</td>\n",
       "      <td>4009.0</td>\n",
       "      <td>1777.0</td>\n",
       "      <td>113000.0</td>\n",
       "      <td>360.0</td>\n",
       "      <td>1</td>\n",
       "      <td>2</td>\n",
       "      <td>5786.0</td>\n",
       "      <td>8.663196</td>\n",
       "    </tr>\n",
       "    <tr>\n",
       "      <th>341</th>\n",
       "      <td>0</td>\n",
       "      <td>1</td>\n",
       "      <td>0</td>\n",
       "      <td>1</td>\n",
       "      <td>0</td>\n",
       "      <td>4158.0</td>\n",
       "      <td>709.0</td>\n",
       "      <td>115000.0</td>\n",
       "      <td>360.0</td>\n",
       "      <td>1</td>\n",
       "      <td>2</td>\n",
       "      <td>4867.0</td>\n",
       "      <td>8.490233</td>\n",
       "    </tr>\n",
       "    <tr>\n",
       "      <th>342</th>\n",
       "      <td>0</td>\n",
       "      <td>0</td>\n",
       "      <td>0</td>\n",
       "      <td>1</td>\n",
       "      <td>0</td>\n",
       "      <td>3250.0</td>\n",
       "      <td>1993.0</td>\n",
       "      <td>126000.0</td>\n",
       "      <td>360.0</td>\n",
       "      <td>0</td>\n",
       "      <td>1</td>\n",
       "      <td>5243.0</td>\n",
       "      <td>8.564649</td>\n",
       "    </tr>\n",
       "    <tr>\n",
       "      <th>343</th>\n",
       "      <td>0</td>\n",
       "      <td>1</td>\n",
       "      <td>0</td>\n",
       "      <td>1</td>\n",
       "      <td>0</td>\n",
       "      <td>5000.0</td>\n",
       "      <td>2393.0</td>\n",
       "      <td>158000.0</td>\n",
       "      <td>360.0</td>\n",
       "      <td>1</td>\n",
       "      <td>0</td>\n",
       "      <td>7393.0</td>\n",
       "      <td>8.908289</td>\n",
       "    </tr>\n",
       "    <tr>\n",
       "      <th>344</th>\n",
       "      <td>0</td>\n",
       "      <td>0</td>\n",
       "      <td>0</td>\n",
       "      <td>1</td>\n",
       "      <td>1</td>\n",
       "      <td>9200.0</td>\n",
       "      <td>0.0</td>\n",
       "      <td>98000.0</td>\n",
       "      <td>180.0</td>\n",
       "      <td>1</td>\n",
       "      <td>0</td>\n",
       "      <td>9200.0</td>\n",
       "      <td>9.126959</td>\n",
       "    </tr>\n",
       "  </tbody>\n",
       "</table>\n",
       "<p>345 rows × 13 columns</p>\n",
       "</div>"
      ],
      "text/plain": [
       "     Gender  Married  Dependents  Education  Self_Employed  ApplicantIncome  \\\n",
       "0         0        1           0          1              0           5720.0   \n",
       "1         0        1           1          1              0           3076.0   \n",
       "2         0        1           2          1              0           5000.0   \n",
       "3         0        1           2          1              0           2340.0   \n",
       "4         0        0           0          0              0           3276.0   \n",
       "..      ...      ...         ...        ...            ...              ...   \n",
       "340       0        1           3          0              1           4009.0   \n",
       "341       0        1           0          1              0           4158.0   \n",
       "342       0        0           0          1              0           3250.0   \n",
       "343       0        1           0          1              0           5000.0   \n",
       "344       0        0           0          1              1           9200.0   \n",
       "\n",
       "     CoapplicantIncome  LoanAmount  Loan_Amount_Term  Credit_History  \\\n",
       "0                  0.0    110000.0             360.0               1   \n",
       "1               1500.0    126000.0             360.0               1   \n",
       "2               1800.0    208000.0             360.0               1   \n",
       "3               2546.0    100000.0             360.0               0   \n",
       "4                  0.0     78000.0             360.0               1   \n",
       "..                 ...         ...               ...             ...   \n",
       "340             1777.0    113000.0             360.0               1   \n",
       "341              709.0    115000.0             360.0               1   \n",
       "342             1993.0    126000.0             360.0               0   \n",
       "343             2393.0    158000.0             360.0               1   \n",
       "344                0.0     98000.0             180.0               1   \n",
       "\n",
       "     Property_Area  TotalIncome  LogTotalIncome  \n",
       "0                2       5720.0        8.651724  \n",
       "1                2       4576.0        8.428581  \n",
       "2                2       6800.0        8.824678  \n",
       "3                2       4886.0        8.494129  \n",
       "4                2       3276.0        8.094378  \n",
       "..             ...          ...             ...  \n",
       "340              2       5786.0        8.663196  \n",
       "341              2       4867.0        8.490233  \n",
       "342              1       5243.0        8.564649  \n",
       "343              0       7393.0        8.908289  \n",
       "344              0       9200.0        9.126959  \n",
       "\n",
       "[345 rows x 13 columns]"
      ]
     },
     "execution_count": 2,
     "metadata": {},
     "output_type": "execute_result"
    }
   ],
   "source": [
    "test_data = pd.read_csv(os.path.join('../data', 'cleanLoanDataValidationAllIncome.csv'))\n",
    "test_data['LogTotalIncome']=np.log(test_data['TotalIncome'])\n",
    "pd.set_option('display.max_columns', None)\n",
    "test_data"
   ]
  },
  {
   "cell_type": "code",
   "execution_count": 3,
   "metadata": {},
   "outputs": [
    {
     "data": {
      "text/html": [
       "<div>\n",
       "<style scoped>\n",
       "    .dataframe tbody tr th:only-of-type {\n",
       "        vertical-align: middle;\n",
       "    }\n",
       "\n",
       "    .dataframe tbody tr th {\n",
       "        vertical-align: top;\n",
       "    }\n",
       "\n",
       "    .dataframe thead th {\n",
       "        text-align: right;\n",
       "    }\n",
       "</style>\n",
       "<table border=\"1\" class=\"dataframe\">\n",
       "  <thead>\n",
       "    <tr style=\"text-align: right;\">\n",
       "      <th></th>\n",
       "      <th>Gender</th>\n",
       "      <th>Married</th>\n",
       "      <th>Dependents</th>\n",
       "      <th>Education</th>\n",
       "      <th>Self_Employed</th>\n",
       "      <th>ApplicantIncome</th>\n",
       "      <th>CoapplicantIncome</th>\n",
       "      <th>LoanAmount</th>\n",
       "      <th>Loan_Amount_Term</th>\n",
       "      <th>Credit_History</th>\n",
       "      <th>Property_Area</th>\n",
       "      <th>Loan_Status</th>\n",
       "      <th>TotalIncome</th>\n",
       "      <th>LogTotalIncome</th>\n",
       "    </tr>\n",
       "  </thead>\n",
       "  <tbody>\n",
       "    <tr>\n",
       "      <th>0</th>\n",
       "      <td>0</td>\n",
       "      <td>1</td>\n",
       "      <td>1</td>\n",
       "      <td>1</td>\n",
       "      <td>0</td>\n",
       "      <td>4583.0</td>\n",
       "      <td>1508.0</td>\n",
       "      <td>128000.0</td>\n",
       "      <td>360.0</td>\n",
       "      <td>1</td>\n",
       "      <td>0</td>\n",
       "      <td>0</td>\n",
       "      <td>6091.0</td>\n",
       "      <td>8.714568</td>\n",
       "    </tr>\n",
       "    <tr>\n",
       "      <th>1</th>\n",
       "      <td>0</td>\n",
       "      <td>1</td>\n",
       "      <td>0</td>\n",
       "      <td>1</td>\n",
       "      <td>1</td>\n",
       "      <td>3000.0</td>\n",
       "      <td>0.0</td>\n",
       "      <td>66000.0</td>\n",
       "      <td>360.0</td>\n",
       "      <td>1</td>\n",
       "      <td>2</td>\n",
       "      <td>1</td>\n",
       "      <td>3000.0</td>\n",
       "      <td>8.006368</td>\n",
       "    </tr>\n",
       "    <tr>\n",
       "      <th>2</th>\n",
       "      <td>0</td>\n",
       "      <td>1</td>\n",
       "      <td>0</td>\n",
       "      <td>0</td>\n",
       "      <td>0</td>\n",
       "      <td>2583.0</td>\n",
       "      <td>2358.0</td>\n",
       "      <td>120000.0</td>\n",
       "      <td>360.0</td>\n",
       "      <td>1</td>\n",
       "      <td>2</td>\n",
       "      <td>1</td>\n",
       "      <td>4941.0</td>\n",
       "      <td>8.505323</td>\n",
       "    </tr>\n",
       "    <tr>\n",
       "      <th>3</th>\n",
       "      <td>0</td>\n",
       "      <td>0</td>\n",
       "      <td>0</td>\n",
       "      <td>1</td>\n",
       "      <td>0</td>\n",
       "      <td>6000.0</td>\n",
       "      <td>0.0</td>\n",
       "      <td>141000.0</td>\n",
       "      <td>360.0</td>\n",
       "      <td>1</td>\n",
       "      <td>2</td>\n",
       "      <td>1</td>\n",
       "      <td>6000.0</td>\n",
       "      <td>8.699515</td>\n",
       "    </tr>\n",
       "    <tr>\n",
       "      <th>4</th>\n",
       "      <td>0</td>\n",
       "      <td>1</td>\n",
       "      <td>2</td>\n",
       "      <td>1</td>\n",
       "      <td>1</td>\n",
       "      <td>5417.0</td>\n",
       "      <td>4196.0</td>\n",
       "      <td>267000.0</td>\n",
       "      <td>360.0</td>\n",
       "      <td>1</td>\n",
       "      <td>2</td>\n",
       "      <td>1</td>\n",
       "      <td>9613.0</td>\n",
       "      <td>9.170872</td>\n",
       "    </tr>\n",
       "    <tr>\n",
       "      <th>...</th>\n",
       "      <td>...</td>\n",
       "      <td>...</td>\n",
       "      <td>...</td>\n",
       "      <td>...</td>\n",
       "      <td>...</td>\n",
       "      <td>...</td>\n",
       "      <td>...</td>\n",
       "      <td>...</td>\n",
       "      <td>...</td>\n",
       "      <td>...</td>\n",
       "      <td>...</td>\n",
       "      <td>...</td>\n",
       "      <td>...</td>\n",
       "      <td>...</td>\n",
       "    </tr>\n",
       "    <tr>\n",
       "      <th>558</th>\n",
       "      <td>1</td>\n",
       "      <td>0</td>\n",
       "      <td>0</td>\n",
       "      <td>1</td>\n",
       "      <td>0</td>\n",
       "      <td>2900.0</td>\n",
       "      <td>0.0</td>\n",
       "      <td>71000.0</td>\n",
       "      <td>360.0</td>\n",
       "      <td>1</td>\n",
       "      <td>0</td>\n",
       "      <td>1</td>\n",
       "      <td>2900.0</td>\n",
       "      <td>7.972466</td>\n",
       "    </tr>\n",
       "    <tr>\n",
       "      <th>559</th>\n",
       "      <td>0</td>\n",
       "      <td>1</td>\n",
       "      <td>3</td>\n",
       "      <td>1</td>\n",
       "      <td>0</td>\n",
       "      <td>4106.0</td>\n",
       "      <td>0.0</td>\n",
       "      <td>40000.0</td>\n",
       "      <td>180.0</td>\n",
       "      <td>1</td>\n",
       "      <td>0</td>\n",
       "      <td>1</td>\n",
       "      <td>4106.0</td>\n",
       "      <td>8.320205</td>\n",
       "    </tr>\n",
       "    <tr>\n",
       "      <th>560</th>\n",
       "      <td>0</td>\n",
       "      <td>1</td>\n",
       "      <td>1</td>\n",
       "      <td>1</td>\n",
       "      <td>0</td>\n",
       "      <td>8072.0</td>\n",
       "      <td>240.0</td>\n",
       "      <td>253000.0</td>\n",
       "      <td>360.0</td>\n",
       "      <td>1</td>\n",
       "      <td>2</td>\n",
       "      <td>1</td>\n",
       "      <td>8312.0</td>\n",
       "      <td>9.025456</td>\n",
       "    </tr>\n",
       "    <tr>\n",
       "      <th>561</th>\n",
       "      <td>0</td>\n",
       "      <td>1</td>\n",
       "      <td>2</td>\n",
       "      <td>1</td>\n",
       "      <td>0</td>\n",
       "      <td>7583.0</td>\n",
       "      <td>0.0</td>\n",
       "      <td>187000.0</td>\n",
       "      <td>360.0</td>\n",
       "      <td>1</td>\n",
       "      <td>2</td>\n",
       "      <td>1</td>\n",
       "      <td>7583.0</td>\n",
       "      <td>8.933664</td>\n",
       "    </tr>\n",
       "    <tr>\n",
       "      <th>562</th>\n",
       "      <td>1</td>\n",
       "      <td>0</td>\n",
       "      <td>0</td>\n",
       "      <td>1</td>\n",
       "      <td>1</td>\n",
       "      <td>4583.0</td>\n",
       "      <td>0.0</td>\n",
       "      <td>133000.0</td>\n",
       "      <td>360.0</td>\n",
       "      <td>0</td>\n",
       "      <td>1</td>\n",
       "      <td>0</td>\n",
       "      <td>4583.0</td>\n",
       "      <td>8.430109</td>\n",
       "    </tr>\n",
       "  </tbody>\n",
       "</table>\n",
       "<p>563 rows × 14 columns</p>\n",
       "</div>"
      ],
      "text/plain": [
       "     Gender  Married  Dependents  Education  Self_Employed  ApplicantIncome  \\\n",
       "0         0        1           1          1              0           4583.0   \n",
       "1         0        1           0          1              1           3000.0   \n",
       "2         0        1           0          0              0           2583.0   \n",
       "3         0        0           0          1              0           6000.0   \n",
       "4         0        1           2          1              1           5417.0   \n",
       "..      ...      ...         ...        ...            ...              ...   \n",
       "558       1        0           0          1              0           2900.0   \n",
       "559       0        1           3          1              0           4106.0   \n",
       "560       0        1           1          1              0           8072.0   \n",
       "561       0        1           2          1              0           7583.0   \n",
       "562       1        0           0          1              1           4583.0   \n",
       "\n",
       "     CoapplicantIncome  LoanAmount  Loan_Amount_Term  Credit_History  \\\n",
       "0               1508.0    128000.0             360.0               1   \n",
       "1                  0.0     66000.0             360.0               1   \n",
       "2               2358.0    120000.0             360.0               1   \n",
       "3                  0.0    141000.0             360.0               1   \n",
       "4               4196.0    267000.0             360.0               1   \n",
       "..                 ...         ...               ...             ...   \n",
       "558                0.0     71000.0             360.0               1   \n",
       "559                0.0     40000.0             180.0               1   \n",
       "560              240.0    253000.0             360.0               1   \n",
       "561                0.0    187000.0             360.0               1   \n",
       "562                0.0    133000.0             360.0               0   \n",
       "\n",
       "     Property_Area  Loan_Status  TotalIncome  LogTotalIncome  \n",
       "0                0            0       6091.0        8.714568  \n",
       "1                2            1       3000.0        8.006368  \n",
       "2                2            1       4941.0        8.505323  \n",
       "3                2            1       6000.0        8.699515  \n",
       "4                2            1       9613.0        9.170872  \n",
       "..             ...          ...          ...             ...  \n",
       "558              0            1       2900.0        7.972466  \n",
       "559              0            1       4106.0        8.320205  \n",
       "560              2            1       8312.0        9.025456  \n",
       "561              2            1       7583.0        8.933664  \n",
       "562              1            0       4583.0        8.430109  \n",
       "\n",
       "[563 rows x 14 columns]"
      ]
     },
     "execution_count": 3,
     "metadata": {},
     "output_type": "execute_result"
    }
   ],
   "source": [
    "train_data = pd.read_csv(os.path.join('../data', 'cleanLoanDataTrainAllIncome.csv'))\n",
    "train_data['LogTotalIncome']=np.log(train_data['TotalIncome'])\n",
    "pd.set_option('display.max_columns', None)\n",
    "train_data"
   ]
  },
  {
   "cell_type": "code",
   "execution_count": null,
   "metadata": {},
   "outputs": [],
   "source": []
  },
  {
   "cell_type": "markdown",
   "metadata": {},
   "source": [
    "## 1a. Decision Tree: all factors, random_state = 57, Total income"
   ]
  },
  {
   "cell_type": "code",
   "execution_count": 4,
   "metadata": {},
   "outputs": [],
   "source": [
    "target = train_data[\"Loan_Status\"]\n",
    "target_names = [\"Denied\", \"Approved\"]"
   ]
  },
  {
   "cell_type": "code",
   "execution_count": 5,
   "metadata": {},
   "outputs": [],
   "source": [
    "data = train_data.drop([\"Loan_Status\", \"ApplicantIncome\", \"CoapplicantIncome\", \"LogTotalIncome\"], axis=1)\n",
    "feature_names = data.columns\n",
    "feature_names_all = feature_names"
   ]
  },
  {
   "cell_type": "code",
   "execution_count": 7,
   "metadata": {},
   "outputs": [],
   "source": [
    "X_train, X_test, y_train, y_test = train_test_split(data, target, random_state=57)"
   ]
  },
  {
   "cell_type": "code",
   "execution_count": 8,
   "metadata": {},
   "outputs": [
    {
     "data": {
      "text/plain": [
       "0.6595744680851063"
      ]
     },
     "execution_count": 8,
     "metadata": {},
     "output_type": "execute_result"
    }
   ],
   "source": [
    "clf = tree.DecisionTreeClassifier()\n",
    "clf = clf.fit(X_train, y_train)\n",
    "clf.score(X_test, y_test)"
   ]
  },
  {
   "cell_type": "code",
   "execution_count": 9,
   "metadata": {},
   "outputs": [
    {
     "data": {
      "text/plain": [
       "'../static/images/Decision_tree_1a.png'"
      ]
     },
     "execution_count": 9,
     "metadata": {},
     "output_type": "execute_result"
    }
   ],
   "source": [
    "dot_data = tree.export_graphviz(clf, out_file=None, \n",
    "                      feature_names=feature_names,  \n",
    "                     class_names=target_names,  \n",
    "                     filled=True, rounded=True,  \n",
    "                      special_characters=True)  \n",
    "graph = gv.Source(dot_data) \n",
    "\n",
    "graph.format = 'png'\n",
    "graph.render('../static/images/Decision_tree_1a',view=True)\n",
    "\n",
    "#graph "
   ]
  },
  {
   "cell_type": "markdown",
   "metadata": {},
   "source": [
    "## 1b. Decision Tree: all factors, random_state = 57, max_depth = 3, Total income "
   ]
  },
  {
   "cell_type": "code",
   "execution_count": 10,
   "metadata": {},
   "outputs": [],
   "source": [
    "target = train_data[\"Loan_Status\"]\n",
    "target_names = [\"Denied\", \"Approved\"]"
   ]
  },
  {
   "cell_type": "code",
   "execution_count": 11,
   "metadata": {},
   "outputs": [],
   "source": [
    "data = train_data.drop([\"Loan_Status\", \"ApplicantIncome\", \"CoapplicantIncome\", \"LogTotalIncome\"], axis=1)\n",
    "feature_names = data.columns"
   ]
  },
  {
   "cell_type": "code",
   "execution_count": 12,
   "metadata": {},
   "outputs": [],
   "source": [
    "X_train, X_test, y_train, y_test = train_test_split(data, target, random_state=57)"
   ]
  },
  {
   "cell_type": "code",
   "execution_count": 13,
   "metadata": {},
   "outputs": [
    {
     "data": {
      "text/plain": [
       "0.7304964539007093"
      ]
     },
     "execution_count": 13,
     "metadata": {},
     "output_type": "execute_result"
    }
   ],
   "source": [
    "clf = tree.DecisionTreeClassifier(max_depth = 3)\n",
    "clf = clf.fit(X_train, y_train)\n",
    "clf.score(X_test, y_test)"
   ]
  },
  {
   "cell_type": "code",
   "execution_count": 14,
   "metadata": {},
   "outputs": [
    {
     "data": {
      "text/plain": [
       "'../static/images/Decision_tree_1b.png'"
      ]
     },
     "execution_count": 14,
     "metadata": {},
     "output_type": "execute_result"
    }
   ],
   "source": [
    "dot_data = tree.export_graphviz(clf, out_file=None, \n",
    "                      feature_names=feature_names,  \n",
    "                     class_names=target_names,  \n",
    "                     filled=True, rounded=True,  \n",
    "                      special_characters=True)  \n",
    "graph = gv.Source(dot_data) \n",
    "graph.format = 'png'\n",
    "graph.render('../static/images/Decision_tree_1b',view=True)"
   ]
  },
  {
   "cell_type": "markdown",
   "metadata": {},
   "source": [
    "## 1c. Decision Tree: all factors, random_state = 57, max_depth = 4, Total income"
   ]
  },
  {
   "cell_type": "code",
   "execution_count": 15,
   "metadata": {},
   "outputs": [],
   "source": [
    "target = train_data[\"Loan_Status\"]\n",
    "target_names = [\"Denied\", \"Approved\"]"
   ]
  },
  {
   "cell_type": "code",
   "execution_count": 16,
   "metadata": {},
   "outputs": [],
   "source": [
    "data = train_data.drop([\"Loan_Status\", \"ApplicantIncome\", \"CoapplicantIncome\", \"LogTotalIncome\"], axis=1)\n",
    "feature_names = data.columns"
   ]
  },
  {
   "cell_type": "code",
   "execution_count": 17,
   "metadata": {},
   "outputs": [],
   "source": [
    "X_train, X_test, y_train, y_test = train_test_split(data, target, random_state=57)"
   ]
  },
  {
   "cell_type": "code",
   "execution_count": 18,
   "metadata": {},
   "outputs": [
    {
     "data": {
      "text/plain": [
       "0.7304964539007093"
      ]
     },
     "execution_count": 18,
     "metadata": {},
     "output_type": "execute_result"
    }
   ],
   "source": [
    "clf = tree.DecisionTreeClassifier(max_depth = 4)\n",
    "clf = clf.fit(X_train, y_train)\n",
    "clf.score(X_test, y_test)"
   ]
  },
  {
   "cell_type": "code",
   "execution_count": 19,
   "metadata": {},
   "outputs": [
    {
     "data": {
      "text/plain": [
       "'../static/images/Decision_tree_1c.png'"
      ]
     },
     "execution_count": 19,
     "metadata": {},
     "output_type": "execute_result"
    }
   ],
   "source": [
    "dot_data = tree.export_graphviz(clf, out_file=None, \n",
    "                      feature_names=feature_names,  \n",
    "                     class_names=target_names,  \n",
    "                     filled=True, rounded=True,  \n",
    "                      special_characters=True)  \n",
    "graph = gv.Source(dot_data) \n",
    "graph.format = 'png'\n",
    "graph.render('../static/images/Decision_tree_1c',view=True)"
   ]
  },
  {
   "cell_type": "markdown",
   "metadata": {},
   "source": [
    "## 1d. Decision Tree: all factors, random_state = 57, max_depth = 5, Total income"
   ]
  },
  {
   "cell_type": "code",
   "execution_count": 20,
   "metadata": {},
   "outputs": [],
   "source": [
    "target = train_data[\"Loan_Status\"]\n",
    "target_names = [\"Denied\", \"Approved\"]"
   ]
  },
  {
   "cell_type": "code",
   "execution_count": 21,
   "metadata": {},
   "outputs": [],
   "source": [
    "data = train_data.drop([\"Loan_Status\", \"ApplicantIncome\", \"CoapplicantIncome\", \"LogTotalIncome\"], axis=1)\n",
    "feature_names = data.columns"
   ]
  },
  {
   "cell_type": "code",
   "execution_count": 22,
   "metadata": {},
   "outputs": [],
   "source": [
    "X_train, X_test, y_train, y_test = train_test_split(data, target, random_state=57)"
   ]
  },
  {
   "cell_type": "code",
   "execution_count": 23,
   "metadata": {},
   "outputs": [
    {
     "data": {
      "text/plain": [
       "0.7163120567375887"
      ]
     },
     "execution_count": 23,
     "metadata": {},
     "output_type": "execute_result"
    }
   ],
   "source": [
    "clf = tree.DecisionTreeClassifier(max_depth = 5)\n",
    "clf = clf.fit(X_train, y_train)\n",
    "clf.score(X_test, y_test)"
   ]
  },
  {
   "cell_type": "code",
   "execution_count": 24,
   "metadata": {},
   "outputs": [
    {
     "data": {
      "text/plain": [
       "'../static/images/Decision_tree_1d.png'"
      ]
     },
     "execution_count": 24,
     "metadata": {},
     "output_type": "execute_result"
    }
   ],
   "source": [
    "dot_data = tree.export_graphviz(clf, out_file=None, \n",
    "                      feature_names=feature_names,  \n",
    "                     class_names=target_names,  \n",
    "                     filled=True, rounded=True,  \n",
    "                      special_characters=True)  \n",
    "graph = gv.Source(dot_data) \n",
    "graph.format = 'png'\n",
    "graph.render('../static/images/Decision_tree_1d',view=True)"
   ]
  },
  {
   "cell_type": "markdown",
   "metadata": {},
   "source": [
    "## 2a. Decision Tree: random_state = 57, max_depth = None, take out Loan_Amount_Term and LoanAmount columns; Total income"
   ]
  },
  {
   "cell_type": "code",
   "execution_count": 25,
   "metadata": {},
   "outputs": [],
   "source": [
    "target = train_data[\"Loan_Status\"]\n",
    "target_names = [\"Denied\", \"Approved\"]"
   ]
  },
  {
   "cell_type": "code",
   "execution_count": 26,
   "metadata": {},
   "outputs": [],
   "source": [
    "data = train_data.drop([\"Loan_Status\",'LoanAmount', 'Loan_Amount_Term',\"ApplicantIncome\", \"CoapplicantIncome\", \"LogTotalIncome\" ], axis=1)\n",
    "feature_names = data.columns"
   ]
  },
  {
   "cell_type": "code",
   "execution_count": 27,
   "metadata": {},
   "outputs": [],
   "source": [
    "X_train, X_test, y_train, y_test = train_test_split(data, target, random_state=57)"
   ]
  },
  {
   "cell_type": "code",
   "execution_count": 28,
   "metadata": {},
   "outputs": [
    {
     "data": {
      "text/plain": [
       "0.6028368794326241"
      ]
     },
     "execution_count": 28,
     "metadata": {},
     "output_type": "execute_result"
    }
   ],
   "source": [
    "clf = tree.DecisionTreeClassifier()\n",
    "clf = clf.fit(X_train, y_train)\n",
    "clf.score(X_test, y_test)"
   ]
  },
  {
   "cell_type": "code",
   "execution_count": 29,
   "metadata": {},
   "outputs": [
    {
     "data": {
      "text/plain": [
       "'../static/images/Decision_tree_2a.png'"
      ]
     },
     "execution_count": 29,
     "metadata": {},
     "output_type": "execute_result"
    }
   ],
   "source": [
    "dot_data = tree.export_graphviz(clf, out_file=None, \n",
    "                      feature_names=feature_names,  \n",
    "                     class_names=target_names,  \n",
    "                     filled=True, rounded=True,  \n",
    "                      special_characters=True)  \n",
    "graph = gv.Source(dot_data) \n",
    "graph.format = 'png'\n",
    "graph.render('../static/images/Decision_tree_2a',view=True)"
   ]
  },
  {
   "cell_type": "markdown",
   "metadata": {},
   "source": [
    "## 2b. Decision Tree: random_state = 57, max_depth = 3, take out Loan_Amount_Term and LoanAmount columns; Total income"
   ]
  },
  {
   "cell_type": "code",
   "execution_count": 30,
   "metadata": {},
   "outputs": [],
   "source": [
    "target = train_data[\"Loan_Status\"]\n",
    "target_names = [\"Denied\", \"Approved\"]"
   ]
  },
  {
   "cell_type": "code",
   "execution_count": 31,
   "metadata": {},
   "outputs": [],
   "source": [
    "data = train_data.drop([\"Loan_Status\",'LoanAmount', 'Loan_Amount_Term',\"ApplicantIncome\", \"CoapplicantIncome\", \"LogTotalIncome\" ], axis=1)\n",
    "feature_names = data.columns"
   ]
  },
  {
   "cell_type": "code",
   "execution_count": 32,
   "metadata": {},
   "outputs": [],
   "source": [
    "X_train, X_test, y_train, y_test = train_test_split(data, target, random_state=57)"
   ]
  },
  {
   "cell_type": "code",
   "execution_count": 33,
   "metadata": {},
   "outputs": [
    {
     "data": {
      "text/plain": [
       "0.75177304964539"
      ]
     },
     "execution_count": 33,
     "metadata": {},
     "output_type": "execute_result"
    }
   ],
   "source": [
    "clf = tree.DecisionTreeClassifier(max_depth = 3)\n",
    "clf = clf.fit(X_train, y_train)\n",
    "clf.score(X_test, y_test)"
   ]
  },
  {
   "cell_type": "code",
   "execution_count": 34,
   "metadata": {},
   "outputs": [
    {
     "data": {
      "text/plain": [
       "'../static/images/Decision_tree_2b.png'"
      ]
     },
     "execution_count": 34,
     "metadata": {},
     "output_type": "execute_result"
    }
   ],
   "source": [
    "dot_data = tree.export_graphviz(clf, out_file=None, \n",
    "                      feature_names=feature_names,  \n",
    "                     class_names=target_names,  \n",
    "                     filled=True, rounded=True,  \n",
    "                      special_characters=True)  \n",
    "graph = gv.Source(dot_data) \n",
    "graph.format = 'png'\n",
    "graph.render('../static/images/Decision_tree_2b',view=True)"
   ]
  },
  {
   "cell_type": "markdown",
   "metadata": {},
   "source": [
    "## 2c. Decision Tree: random_state = 57, max_depth = 4, take out Loan_Amount_Term and LoanAmount columns; Total income"
   ]
  },
  {
   "cell_type": "code",
   "execution_count": 35,
   "metadata": {},
   "outputs": [],
   "source": [
    "target = train_data[\"Loan_Status\"]\n",
    "target_names = [\"Denied\", \"Approved\"]"
   ]
  },
  {
   "cell_type": "code",
   "execution_count": 36,
   "metadata": {},
   "outputs": [],
   "source": [
    "data = train_data.drop([\"Loan_Status\",'LoanAmount', 'Loan_Amount_Term',\"ApplicantIncome\", \"CoapplicantIncome\", \"LogTotalIncome\" ], axis=1)\n",
    "feature_names = data.columns"
   ]
  },
  {
   "cell_type": "code",
   "execution_count": 37,
   "metadata": {},
   "outputs": [],
   "source": [
    "X_train, X_test, y_train, y_test = train_test_split(data, target, random_state=57)"
   ]
  },
  {
   "cell_type": "code",
   "execution_count": 38,
   "metadata": {},
   "outputs": [
    {
     "data": {
      "text/plain": [
       "0.7375886524822695"
      ]
     },
     "execution_count": 38,
     "metadata": {},
     "output_type": "execute_result"
    }
   ],
   "source": [
    "clf = tree.DecisionTreeClassifier(max_depth = 4)\n",
    "clf = clf.fit(X_train, y_train)\n",
    "clf.score(X_test, y_test)"
   ]
  },
  {
   "cell_type": "code",
   "execution_count": 39,
   "metadata": {},
   "outputs": [
    {
     "data": {
      "text/plain": [
       "'../static/images/Decision_tree_2c.png'"
      ]
     },
     "execution_count": 39,
     "metadata": {},
     "output_type": "execute_result"
    }
   ],
   "source": [
    "dot_data = tree.export_graphviz(clf, out_file=None, \n",
    "                      feature_names=feature_names,  \n",
    "                     class_names=target_names,  \n",
    "                     filled=True, rounded=True,  \n",
    "                      special_characters=True)  \n",
    "graph = gv.Source(dot_data) \n",
    "graph.format = 'png'\n",
    "graph.render('../static/images/Decision_tree_2c',view=True)"
   ]
  },
  {
   "cell_type": "markdown",
   "metadata": {},
   "source": [
    "## 2d. Decision Tree: random_state = 57, max_depth = 5, take out Loan_Amount_Term and LoanAmount columns; Total income"
   ]
  },
  {
   "cell_type": "code",
   "execution_count": 40,
   "metadata": {},
   "outputs": [],
   "source": [
    "target = train_data[\"Loan_Status\"]\n",
    "target_names = [\"Denied\", \"Approved\"]"
   ]
  },
  {
   "cell_type": "code",
   "execution_count": 41,
   "metadata": {},
   "outputs": [],
   "source": [
    "data = train_data.drop([\"Loan_Status\",'LoanAmount', 'Loan_Amount_Term',\"ApplicantIncome\", \"CoapplicantIncome\", \"LogTotalIncome\" ], axis=1)\n",
    "feature_names = data.columns"
   ]
  },
  {
   "cell_type": "code",
   "execution_count": 42,
   "metadata": {},
   "outputs": [],
   "source": [
    "X_train, X_test, y_train, y_test = train_test_split(data, target, random_state=57)"
   ]
  },
  {
   "cell_type": "code",
   "execution_count": 43,
   "metadata": {},
   "outputs": [
    {
     "data": {
      "text/plain": [
       "0.7163120567375887"
      ]
     },
     "execution_count": 43,
     "metadata": {},
     "output_type": "execute_result"
    }
   ],
   "source": [
    "clf = tree.DecisionTreeClassifier(max_depth = 5)\n",
    "clf = clf.fit(X_train, y_train)\n",
    "clf.score(X_test, y_test)"
   ]
  },
  {
   "cell_type": "code",
   "execution_count": 44,
   "metadata": {},
   "outputs": [
    {
     "data": {
      "text/plain": [
       "'../static/images/Decision_tree_2d.png'"
      ]
     },
     "execution_count": 44,
     "metadata": {},
     "output_type": "execute_result"
    }
   ],
   "source": [
    "dot_data = tree.export_graphviz(clf, out_file=None, \n",
    "                      feature_names=feature_names,  \n",
    "                     class_names=target_names,  \n",
    "                     filled=True, rounded=True,  \n",
    "                      special_characters=True)  \n",
    "graph = gv.Source(dot_data) \n",
    "graph.format = 'png'\n",
    "graph.render('../static/images/Decision_tree_2d',view=True)"
   ]
  },
  {
   "cell_type": "markdown",
   "metadata": {},
   "source": [
    "## 3a. Decision Tree: random_state = 57, max_depth = None, take out Loan_Amount_Term and LoanAmount columns, also remove columns with lower importance in Random Tree runs ( 'Gender', 'Education', 'Self_Employed', 'Married'), Total income"
   ]
  },
  {
   "cell_type": "code",
   "execution_count": 45,
   "metadata": {},
   "outputs": [],
   "source": [
    "target = train_data[\"Loan_Status\"]\n",
    "target_names = [\"Denied\", \"Approved\"]"
   ]
  },
  {
   "cell_type": "code",
   "execution_count": 46,
   "metadata": {},
   "outputs": [],
   "source": [
    "data = train_data.drop([\"Loan_Status\",'LoanAmount', 'Loan_Amount_Term', 'Gender', 'Education', 'Self_Employed', 'Married', \"ApplicantIncome\", \"CoapplicantIncome\", \"LogTotalIncome\" ], axis=1)\n",
    "feature_names = data.columns"
   ]
  },
  {
   "cell_type": "code",
   "execution_count": 47,
   "metadata": {},
   "outputs": [],
   "source": [
    "X_train, X_test, y_train, y_test = train_test_split(data, target, random_state=57)"
   ]
  },
  {
   "cell_type": "code",
   "execution_count": 48,
   "metadata": {},
   "outputs": [
    {
     "data": {
      "text/plain": [
       "0.6524822695035462"
      ]
     },
     "execution_count": 48,
     "metadata": {},
     "output_type": "execute_result"
    }
   ],
   "source": [
    "clf = tree.DecisionTreeClassifier()\n",
    "clf = clf.fit(X_train, y_train)\n",
    "clf.score(X_test, y_test)"
   ]
  },
  {
   "cell_type": "code",
   "execution_count": 49,
   "metadata": {},
   "outputs": [
    {
     "data": {
      "text/plain": [
       "'../static/images/Decision_tree_3a.png'"
      ]
     },
     "execution_count": 49,
     "metadata": {},
     "output_type": "execute_result"
    }
   ],
   "source": [
    "dot_data = tree.export_graphviz(clf, out_file=None, \n",
    "                      feature_names=feature_names,  \n",
    "                     class_names=target_names,  \n",
    "                     filled=True, rounded=True,  \n",
    "                      special_characters=True)  \n",
    "graph = gv.Source(dot_data) \n",
    "graph.format = 'png'\n",
    "graph.render('../static/images/Decision_tree_3a',view=True)"
   ]
  },
  {
   "cell_type": "markdown",
   "metadata": {},
   "source": [
    "## 3b. Decision Tree: random_state = 57, max_depth = 3, take out Loan_Amount_Term and LoanAmount columns, also remove columns with lower importance in Random Tree runs ( 'Gender', 'Education', 'Self_Employed', 'Married'), Total income"
   ]
  },
  {
   "cell_type": "code",
   "execution_count": 50,
   "metadata": {},
   "outputs": [],
   "source": [
    "target = train_data[\"Loan_Status\"]\n",
    "target_names = [\"Denied\", \"Approved\"]"
   ]
  },
  {
   "cell_type": "code",
   "execution_count": 51,
   "metadata": {},
   "outputs": [],
   "source": [
    "data = train_data.drop([\"Loan_Status\",'LoanAmount', 'Loan_Amount_Term', 'Gender', 'Education', 'Self_Employed', 'Married', \"ApplicantIncome\", \"CoapplicantIncome\", \"LogTotalIncome\" ], axis=1)\n",
    "feature_names = data.columns"
   ]
  },
  {
   "cell_type": "code",
   "execution_count": 52,
   "metadata": {},
   "outputs": [],
   "source": [
    "X_train, X_test, y_train, y_test = train_test_split(data, target, random_state=57)"
   ]
  },
  {
   "cell_type": "code",
   "execution_count": 53,
   "metadata": {},
   "outputs": [
    {
     "data": {
      "text/plain": [
       "0.7588652482269503"
      ]
     },
     "execution_count": 53,
     "metadata": {},
     "output_type": "execute_result"
    }
   ],
   "source": [
    "clf = tree.DecisionTreeClassifier(max_depth = 3)\n",
    "clf = clf.fit(X_train, y_train)\n",
    "clf.score(X_test, y_test)"
   ]
  },
  {
   "cell_type": "code",
   "execution_count": 54,
   "metadata": {},
   "outputs": [
    {
     "data": {
      "text/plain": [
       "'../static/images/Decision_tree_3b.png'"
      ]
     },
     "execution_count": 54,
     "metadata": {},
     "output_type": "execute_result"
    }
   ],
   "source": [
    "dot_data = tree.export_graphviz(clf, out_file=None, \n",
    "                      feature_names=feature_names,  \n",
    "                     class_names=target_names,  \n",
    "                     filled=True, rounded=True,  \n",
    "                      special_characters=True)  \n",
    "graph = gv.Source(dot_data) \n",
    "graph.format = 'png'\n",
    "graph.render('../static/images/Decision_tree_3b',view=True)"
   ]
  },
  {
   "cell_type": "markdown",
   "metadata": {},
   "source": [
    "## 3c. Decision Tree: random_state = 57, max_depth = 4, take out Loan_Amount_Term and LoanAmount columns, also remove columns with lower importance in Random Tree runs ( 'Gender', 'Education', 'Self_Employed', 'Married'), Total income"
   ]
  },
  {
   "cell_type": "code",
   "execution_count": 55,
   "metadata": {},
   "outputs": [],
   "source": [
    "target = train_data[\"Loan_Status\"]\n",
    "target_names = [\"Denied\", \"Approved\"]"
   ]
  },
  {
   "cell_type": "code",
   "execution_count": 56,
   "metadata": {},
   "outputs": [],
   "source": [
    "data = train_data.drop([\"Loan_Status\",'LoanAmount', 'Loan_Amount_Term', 'Gender', 'Education', 'Self_Employed', 'Married', \"ApplicantIncome\", \"CoapplicantIncome\", \"LogTotalIncome\" ], axis=1)\n",
    "feature_names = data.columns"
   ]
  },
  {
   "cell_type": "code",
   "execution_count": 57,
   "metadata": {},
   "outputs": [],
   "source": [
    "X_train, X_test, y_train, y_test = train_test_split(data, target, random_state=57)"
   ]
  },
  {
   "cell_type": "code",
   "execution_count": 58,
   "metadata": {},
   "outputs": [
    {
     "data": {
      "text/plain": [
       "0.75177304964539"
      ]
     },
     "execution_count": 58,
     "metadata": {},
     "output_type": "execute_result"
    }
   ],
   "source": [
    "clf = tree.DecisionTreeClassifier(max_depth = 4)\n",
    "clf = clf.fit(X_train, y_train)\n",
    "clf.score(X_test, y_test)"
   ]
  },
  {
   "cell_type": "code",
   "execution_count": 59,
   "metadata": {},
   "outputs": [
    {
     "data": {
      "text/plain": [
       "'../static/images/Decision_tree_3c.png'"
      ]
     },
     "execution_count": 59,
     "metadata": {},
     "output_type": "execute_result"
    }
   ],
   "source": [
    "dot_data = tree.export_graphviz(clf, out_file=None, \n",
    "                      feature_names=feature_names,  \n",
    "                     class_names=target_names,  \n",
    "                     filled=True, rounded=True,  \n",
    "                      special_characters=True)  \n",
    "graph = gv.Source(dot_data) \n",
    "graph.format = 'png'\n",
    "graph.render('../static/images/Decision_tree_3c',view=True)"
   ]
  },
  {
   "cell_type": "markdown",
   "metadata": {},
   "source": [
    "## 3d. Decision Tree: random_state = 57, max_depth = 5, take out Loan_Amount_Term and LoanAmount columns, also remove columns with lower importance in Random Tree runs ( 'Gender', 'Education', 'Self_Employed', 'Married'), Total income"
   ]
  },
  {
   "cell_type": "code",
   "execution_count": 60,
   "metadata": {},
   "outputs": [],
   "source": [
    "target = train_data[\"Loan_Status\"]\n",
    "target_names = [\"Denied\", \"Approved\"]"
   ]
  },
  {
   "cell_type": "code",
   "execution_count": 61,
   "metadata": {},
   "outputs": [],
   "source": [
    "data = train_data.drop([\"Loan_Status\",'LoanAmount', 'Loan_Amount_Term', 'Gender', 'Education', 'Self_Employed', 'Married', \"ApplicantIncome\", \"CoapplicantIncome\", \"LogTotalIncome\" ], axis=1)\n",
    "feature_names = data.columns"
   ]
  },
  {
   "cell_type": "code",
   "execution_count": 62,
   "metadata": {},
   "outputs": [],
   "source": [
    "X_train, X_test, y_train, y_test = train_test_split(data, target, random_state=57)"
   ]
  },
  {
   "cell_type": "code",
   "execution_count": 63,
   "metadata": {},
   "outputs": [
    {
     "data": {
      "text/plain": [
       "0.7446808510638298"
      ]
     },
     "execution_count": 63,
     "metadata": {},
     "output_type": "execute_result"
    }
   ],
   "source": [
    "clf = tree.DecisionTreeClassifier(max_depth = 5)\n",
    "clf = clf.fit(X_train, y_train)\n",
    "clf.score(X_test, y_test)"
   ]
  },
  {
   "cell_type": "code",
   "execution_count": 64,
   "metadata": {},
   "outputs": [
    {
     "data": {
      "text/plain": [
       "'../static/images/Decision_tree_3d.png'"
      ]
     },
     "execution_count": 64,
     "metadata": {},
     "output_type": "execute_result"
    }
   ],
   "source": [
    "dot_data = tree.export_graphviz(clf, out_file=None, \n",
    "                      feature_names=feature_names,  \n",
    "                     class_names=target_names,  \n",
    "                     filled=True, rounded=True,  \n",
    "                      special_characters=True)  \n",
    "graph = gv.Source(dot_data) \n",
    "graph.format = 'png'\n",
    "graph.render('../static/images/Decision_tree_3d',view=True)"
   ]
  },
  {
   "cell_type": "markdown",
   "metadata": {},
   "source": [
    "## 4a. Decision Tree: random_state = 57, max_depth = None, take out Loan_Amount_Term and LoanAmount columns, also remove columns with lower importance in Random Tree runs ( 'Gender', 'Education', 'Self_Employed', 'Married'), Applicant and co-applicant income separate"
   ]
  },
  {
   "cell_type": "code",
   "execution_count": 65,
   "metadata": {},
   "outputs": [],
   "source": [
    "target = train_data[\"Loan_Status\"]\n",
    "target_names = [\"Denied\", \"Approved\"]"
   ]
  },
  {
   "cell_type": "code",
   "execution_count": 66,
   "metadata": {},
   "outputs": [],
   "source": [
    "data = train_data.drop([\"Loan_Status\",'LoanAmount', 'Loan_Amount_Term', 'Gender', 'Education', 'Self_Employed', 'Married', \"TotalIncome\", \"LogTotalIncome\" ], axis=1)\n",
    "feature_names = data.columns"
   ]
  },
  {
   "cell_type": "code",
   "execution_count": 67,
   "metadata": {},
   "outputs": [],
   "source": [
    "X_train, X_test, y_train, y_test = train_test_split(data, target, random_state=57)"
   ]
  },
  {
   "cell_type": "code",
   "execution_count": 68,
   "metadata": {},
   "outputs": [
    {
     "data": {
      "text/plain": [
       "0.6099290780141844"
      ]
     },
     "execution_count": 68,
     "metadata": {},
     "output_type": "execute_result"
    }
   ],
   "source": [
    "clf = tree.DecisionTreeClassifier()\n",
    "clf = clf.fit(X_train, y_train)\n",
    "clf.score(X_test, y_test)"
   ]
  },
  {
   "cell_type": "code",
   "execution_count": 69,
   "metadata": {},
   "outputs": [
    {
     "data": {
      "text/plain": [
       "'../static/images/Decision_tree_4a.png'"
      ]
     },
     "execution_count": 69,
     "metadata": {},
     "output_type": "execute_result"
    }
   ],
   "source": [
    "dot_data = tree.export_graphviz(clf, out_file=None, \n",
    "                      feature_names=feature_names,  \n",
    "                     class_names=target_names,  \n",
    "                     filled=True, rounded=True,  \n",
    "                      special_characters=True)  \n",
    "graph = gv.Source(dot_data) \n",
    "graph.format = 'png'\n",
    "graph.render('../static/images/Decision_tree_4a',view=True)"
   ]
  },
  {
   "cell_type": "markdown",
   "metadata": {},
   "source": [
    "## 4b. Decision Tree: random_state = 57, max_depth = None, take out Loan_Amount_Term and LoanAmount columns, also remove columns with lower importance in Random Tree runs ( 'Gender', 'Education', 'Self_Employed', 'Married'), Applicant and co-applicant income separate, max depth = 3"
   ]
  },
  {
   "cell_type": "code",
   "execution_count": 70,
   "metadata": {},
   "outputs": [],
   "source": [
    "target = train_data[\"Loan_Status\"]\n",
    "target_names = [\"Denied\", \"Approved\"]"
   ]
  },
  {
   "cell_type": "code",
   "execution_count": 71,
   "metadata": {},
   "outputs": [],
   "source": [
    "data = train_data.drop([\"Loan_Status\",'LoanAmount', 'Loan_Amount_Term', 'Gender', 'Education', 'Self_Employed', 'Married', \"TotalIncome\", \"LogTotalIncome\" ], axis=1)\n",
    "feature_names = data.columns"
   ]
  },
  {
   "cell_type": "code",
   "execution_count": 72,
   "metadata": {},
   "outputs": [],
   "source": [
    "X_train, X_test, y_train, y_test = train_test_split(data, target, random_state=57)"
   ]
  },
  {
   "cell_type": "code",
   "execution_count": 73,
   "metadata": {},
   "outputs": [
    {
     "data": {
      "text/plain": [
       "0.7375886524822695"
      ]
     },
     "execution_count": 73,
     "metadata": {},
     "output_type": "execute_result"
    }
   ],
   "source": [
    "clf = tree.DecisionTreeClassifier(max_depth = 3)\n",
    "clf = clf.fit(X_train, y_train)\n",
    "clf.score(X_test, y_test)"
   ]
  },
  {
   "cell_type": "code",
   "execution_count": 74,
   "metadata": {},
   "outputs": [
    {
     "data": {
      "text/plain": [
       "'../static/images/Decision_tree_4b.png'"
      ]
     },
     "execution_count": 74,
     "metadata": {},
     "output_type": "execute_result"
    }
   ],
   "source": [
    "dot_data = tree.export_graphviz(clf, out_file=None, \n",
    "                      feature_names=feature_names,  \n",
    "                     class_names=target_names,  \n",
    "                     filled=True, rounded=True,  \n",
    "                      special_characters=True)  \n",
    "graph = gv.Source(dot_data) \n",
    "graph.format = 'png'\n",
    "graph.render('../static/images/Decision_tree_4b',view=True)"
   ]
  },
  {
   "cell_type": "markdown",
   "metadata": {},
   "source": [
    "## 4c. Decision Tree: random_state = 57, max_depth = None, take out Loan_Amount_Term and LoanAmount columns, also remove columns with lower importance in Random Tree runs ( 'Gender', 'Education', 'Self_Employed', 'Married'), Applicant and co-applicant income separate, max depth = 4"
   ]
  },
  {
   "cell_type": "code",
   "execution_count": 75,
   "metadata": {},
   "outputs": [],
   "source": [
    "target = train_data[\"Loan_Status\"]\n",
    "target_names = [\"Denied\", \"Approved\"]"
   ]
  },
  {
   "cell_type": "code",
   "execution_count": 76,
   "metadata": {},
   "outputs": [],
   "source": [
    "data = train_data.drop([\"Loan_Status\",'LoanAmount', 'Loan_Amount_Term', 'Gender', 'Education', 'Self_Employed', 'Married', \"TotalIncome\", \"LogTotalIncome\" ], axis=1)\n",
    "feature_names = data.columns"
   ]
  },
  {
   "cell_type": "code",
   "execution_count": 77,
   "metadata": {},
   "outputs": [],
   "source": [
    "X_train, X_test, y_train, y_test = train_test_split(data, target, random_state=57)"
   ]
  },
  {
   "cell_type": "code",
   "execution_count": 78,
   "metadata": {},
   "outputs": [
    {
     "data": {
      "text/plain": [
       "0.7163120567375887"
      ]
     },
     "execution_count": 78,
     "metadata": {},
     "output_type": "execute_result"
    }
   ],
   "source": [
    "clf = tree.DecisionTreeClassifier(max_depth = 4)\n",
    "clf = clf.fit(X_train, y_train)\n",
    "clf.score(X_test, y_test)"
   ]
  },
  {
   "cell_type": "code",
   "execution_count": 79,
   "metadata": {},
   "outputs": [
    {
     "data": {
      "text/plain": [
       "'../static/images/Decision_tree_4c.png'"
      ]
     },
     "execution_count": 79,
     "metadata": {},
     "output_type": "execute_result"
    }
   ],
   "source": [
    "dot_data = tree.export_graphviz(clf, out_file=None, \n",
    "                      feature_names=feature_names,  \n",
    "                     class_names=target_names,  \n",
    "                     filled=True, rounded=True,  \n",
    "                      special_characters=True)  \n",
    "graph = gv.Source(dot_data) \n",
    "graph.format = 'png'\n",
    "graph.render('../static/images/Decision_tree_4c',view=True)"
   ]
  },
  {
   "cell_type": "markdown",
   "metadata": {},
   "source": [
    "## 4d. Decision Tree: random_state = 57, max_depth = None, take out Loan_Amount_Term and LoanAmount columns, also remove columns with lower importance in Random Tree runs ( 'Gender', 'Education', 'Self_Employed', 'Married'), Applicant and co-applicant income separate, max depth = 5"
   ]
  },
  {
   "cell_type": "code",
   "execution_count": 80,
   "metadata": {},
   "outputs": [],
   "source": [
    "target = train_data[\"Loan_Status\"]\n",
    "target_names = [\"Denied\", \"Approved\"]"
   ]
  },
  {
   "cell_type": "code",
   "execution_count": 81,
   "metadata": {},
   "outputs": [],
   "source": [
    "data = train_data.drop([\"Loan_Status\",'LoanAmount', 'Loan_Amount_Term', 'Gender', 'Education', 'Self_Employed', 'Married', \"TotalIncome\", \"LogTotalIncome\" ], axis=1)\n",
    "feature_names = data.columns"
   ]
  },
  {
   "cell_type": "code",
   "execution_count": 82,
   "metadata": {},
   "outputs": [],
   "source": [
    "X_train, X_test, y_train, y_test = train_test_split(data, target, random_state=57)"
   ]
  },
  {
   "cell_type": "code",
   "execution_count": 83,
   "metadata": {},
   "outputs": [
    {
     "data": {
      "text/plain": [
       "0.7163120567375887"
      ]
     },
     "execution_count": 83,
     "metadata": {},
     "output_type": "execute_result"
    }
   ],
   "source": [
    "clf = tree.DecisionTreeClassifier(max_depth = 5)\n",
    "clf = clf.fit(X_train, y_train)\n",
    "clf.score(X_test, y_test)"
   ]
  },
  {
   "cell_type": "code",
   "execution_count": 84,
   "metadata": {},
   "outputs": [
    {
     "data": {
      "text/plain": [
       "'../static/images/Decision_tree_4d.png'"
      ]
     },
     "execution_count": 84,
     "metadata": {},
     "output_type": "execute_result"
    }
   ],
   "source": [
    "dot_data = tree.export_graphviz(clf, out_file=None, \n",
    "                      feature_names=feature_names,  \n",
    "                     class_names=target_names,  \n",
    "                     filled=True, rounded=True,  \n",
    "                      special_characters=True)  \n",
    "graph = gv.Source(dot_data) \n",
    "graph.format = 'png'\n",
    "graph.render('../static/images/Decision_tree_4d',view=True)"
   ]
  },
  {
   "cell_type": "markdown",
   "metadata": {},
   "source": [
    "## 5a. Decision Tree: random_state = 57, max_depth = None, take out Loan_Amount_Term and LoanAmount columns, also remove columns with lower importance in Random Tree runs ( 'Gender', 'Education', 'Self_Employed', 'Married'), log(Total income)"
   ]
  },
  {
   "cell_type": "code",
   "execution_count": 85,
   "metadata": {},
   "outputs": [],
   "source": [
    "target = train_data[\"Loan_Status\"]\n",
    "target_names = [\"Denied\", \"Approved\"]"
   ]
  },
  {
   "cell_type": "code",
   "execution_count": 86,
   "metadata": {},
   "outputs": [],
   "source": [
    "data = train_data.drop([\"Loan_Status\",'LoanAmount', 'Loan_Amount_Term', 'Gender', 'Education', 'Self_Employed', 'Married', \"ApplicantIncome\", \"CoapplicantIncome\", \"TotalIncome\" ], axis=1)\n",
    "feature_names = data.columns"
   ]
  },
  {
   "cell_type": "code",
   "execution_count": 87,
   "metadata": {},
   "outputs": [],
   "source": [
    "X_train, X_test, y_train, y_test = train_test_split(data, target, random_state=57)"
   ]
  },
  {
   "cell_type": "code",
   "execution_count": 88,
   "metadata": {},
   "outputs": [
    {
     "data": {
      "text/plain": [
       "0.6453900709219859"
      ]
     },
     "execution_count": 88,
     "metadata": {},
     "output_type": "execute_result"
    }
   ],
   "source": [
    "clf = tree.DecisionTreeClassifier()\n",
    "clf = clf.fit(X_train, y_train)\n",
    "clf.score(X_test, y_test)"
   ]
  },
  {
   "cell_type": "code",
   "execution_count": 89,
   "metadata": {},
   "outputs": [
    {
     "data": {
      "text/plain": [
       "'../static/images/Decision_tree_5a.png'"
      ]
     },
     "execution_count": 89,
     "metadata": {},
     "output_type": "execute_result"
    }
   ],
   "source": [
    "dot_data = tree.export_graphviz(clf, out_file=None, \n",
    "                      feature_names=feature_names,  \n",
    "                     class_names=target_names,  \n",
    "                     filled=True, rounded=True,  \n",
    "                      special_characters=True)  \n",
    "graph = gv.Source(dot_data) \n",
    "graph.format = 'png'\n",
    "graph.render('../static/images/Decision_tree_5a',view=True)"
   ]
  },
  {
   "cell_type": "markdown",
   "metadata": {},
   "source": [
    "## 5b. Decision Tree: random_state = 57, max_depth = None, take out Loan_Amount_Term and LoanAmount columns, also remove columns with lower importance in Random Tree runs ( 'Gender', 'Education', 'Self_Employed', 'Married'), log(Total income), max_depth=1"
   ]
  },
  {
   "cell_type": "code",
   "execution_count": 90,
   "metadata": {},
   "outputs": [],
   "source": [
    "target = train_data[\"Loan_Status\"]\n",
    "target_names = [\"Denied\", \"Approved\"]"
   ]
  },
  {
   "cell_type": "code",
   "execution_count": 91,
   "metadata": {},
   "outputs": [],
   "source": [
    "data = train_data.drop([\"Loan_Status\",'LoanAmount', 'Loan_Amount_Term', 'Gender', 'Education', 'Self_Employed', 'Married', \"ApplicantIncome\", \"CoapplicantIncome\", \"TotalIncome\" ], axis=1)\n",
    "feature_names = data.columns"
   ]
  },
  {
   "cell_type": "code",
   "execution_count": 92,
   "metadata": {},
   "outputs": [],
   "source": [
    "X_train, X_test, y_train, y_test = train_test_split(data, target, random_state=57)"
   ]
  },
  {
   "cell_type": "code",
   "execution_count": 93,
   "metadata": {},
   "outputs": [
    {
     "data": {
      "text/plain": [
       "0.7446808510638298"
      ]
     },
     "execution_count": 93,
     "metadata": {},
     "output_type": "execute_result"
    }
   ],
   "source": [
    "clf = tree.DecisionTreeClassifier(max_depth=1)\n",
    "clf = clf.fit(X_train, y_train)\n",
    "clf.score(X_test, y_test)"
   ]
  },
  {
   "cell_type": "code",
   "execution_count": 94,
   "metadata": {},
   "outputs": [
    {
     "data": {
      "text/plain": [
       "'../static/images/Decision_tree_5b.png'"
      ]
     },
     "execution_count": 94,
     "metadata": {},
     "output_type": "execute_result"
    }
   ],
   "source": [
    "dot_data = tree.export_graphviz(clf, out_file=None, \n",
    "                      feature_names=feature_names,  \n",
    "                     class_names=target_names,  \n",
    "                     filled=True, rounded=True,  \n",
    "                      special_characters=True)  \n",
    "graph = gv.Source(dot_data) \n",
    "graph.format = 'png'\n",
    "graph.render('../static/images/Decision_tree_5b',view=True)"
   ]
  },
  {
   "cell_type": "markdown",
   "metadata": {},
   "source": [
    "## 5c. Decision Tree: random_state = 57, max_depth = None, take out Loan_Amount_Term and LoanAmount columns, also remove columns with lower importance in Random Tree runs ( 'Gender', 'Education', 'Self_Employed', 'Married'), log(Total income), max_depth=2"
   ]
  },
  {
   "cell_type": "code",
   "execution_count": 95,
   "metadata": {},
   "outputs": [],
   "source": [
    "target = train_data[\"Loan_Status\"]\n",
    "target_names = [\"Denied\", \"Approved\"]"
   ]
  },
  {
   "cell_type": "code",
   "execution_count": 96,
   "metadata": {},
   "outputs": [],
   "source": [
    "data = train_data.drop([\"Loan_Status\",'LoanAmount', 'Loan_Amount_Term', 'Gender', 'Education', 'Self_Employed', 'Married', \"ApplicantIncome\", \"CoapplicantIncome\", \"TotalIncome\" ], axis=1)\n",
    "feature_names = data.columns"
   ]
  },
  {
   "cell_type": "code",
   "execution_count": 97,
   "metadata": {},
   "outputs": [],
   "source": [
    "X_train, X_test, y_train, y_test = train_test_split(data, target, random_state=57)"
   ]
  },
  {
   "cell_type": "code",
   "execution_count": 98,
   "metadata": {},
   "outputs": [
    {
     "data": {
      "text/plain": [
       "0.7446808510638298"
      ]
     },
     "execution_count": 98,
     "metadata": {},
     "output_type": "execute_result"
    }
   ],
   "source": [
    "clf = tree.DecisionTreeClassifier(max_depth=2)\n",
    "clf = clf.fit(X_train, y_train)\n",
    "clf.score(X_test, y_test)"
   ]
  },
  {
   "cell_type": "code",
   "execution_count": 99,
   "metadata": {},
   "outputs": [
    {
     "data": {
      "text/plain": [
       "'../static/images/Decision_tree_5c.png'"
      ]
     },
     "execution_count": 99,
     "metadata": {},
     "output_type": "execute_result"
    }
   ],
   "source": [
    "dot_data = tree.export_graphviz(clf, out_file=None, \n",
    "                      feature_names=feature_names,  \n",
    "                     class_names=target_names,  \n",
    "                     filled=True, rounded=True,  \n",
    "                      special_characters=True)  \n",
    "graph = gv.Source(dot_data) \n",
    "graph.format = 'png'\n",
    "graph.render('../static/images/Decision_tree_5c',view=True)"
   ]
  },
  {
   "cell_type": "markdown",
   "metadata": {},
   "source": [
    "## 5d. Decision Tree: random_state = 57, max_depth = None, take out Loan_Amount_Term and LoanAmount columns, also remove columns with lower importance in Random Tree runs ( 'Gender', 'Education', 'Self_Employed', 'Married'), log(Total income), max_depth=3"
   ]
  },
  {
   "cell_type": "code",
   "execution_count": 100,
   "metadata": {},
   "outputs": [],
   "source": [
    "target = train_data[\"Loan_Status\"]\n",
    "target_names = [\"Denied\", \"Approved\"]"
   ]
  },
  {
   "cell_type": "code",
   "execution_count": 101,
   "metadata": {},
   "outputs": [],
   "source": [
    "data = train_data.drop([\"Loan_Status\",'LoanAmount', 'Loan_Amount_Term', 'Gender', 'Education', 'Self_Employed', 'Married', \"ApplicantIncome\", \"CoapplicantIncome\", \"TotalIncome\" ], axis=1)\n",
    "feature_names = data.columns"
   ]
  },
  {
   "cell_type": "code",
   "execution_count": 102,
   "metadata": {},
   "outputs": [],
   "source": [
    "X_train, X_test, y_train, y_test = train_test_split(data, target, random_state=57)"
   ]
  },
  {
   "cell_type": "code",
   "execution_count": 103,
   "metadata": {},
   "outputs": [
    {
     "data": {
      "text/plain": [
       "0.7588652482269503"
      ]
     },
     "execution_count": 103,
     "metadata": {},
     "output_type": "execute_result"
    }
   ],
   "source": [
    "clf = tree.DecisionTreeClassifier(max_depth=3)\n",
    "clf = clf.fit(X_train, y_train)\n",
    "clf.score(X_test, y_test)"
   ]
  },
  {
   "cell_type": "code",
   "execution_count": 104,
   "metadata": {},
   "outputs": [
    {
     "data": {
      "text/plain": [
       "'../static/images/Decision_tree_5d.png'"
      ]
     },
     "execution_count": 104,
     "metadata": {},
     "output_type": "execute_result"
    }
   ],
   "source": [
    "dot_data = tree.export_graphviz(clf, out_file=None, \n",
    "                      feature_names=feature_names,  \n",
    "                     class_names=target_names,  \n",
    "                     filled=True, rounded=True,  \n",
    "                      special_characters=True)  \n",
    "graph = gv.Source(dot_data) \n",
    "graph.format = 'png'\n",
    "graph.render('../static/images/Decision_tree_5d',view=True)"
   ]
  },
  {
   "cell_type": "markdown",
   "metadata": {},
   "source": [
    "## 6a. Decision Tree: all factors, random_state = 57, log(Total income)"
   ]
  },
  {
   "cell_type": "code",
   "execution_count": 105,
   "metadata": {},
   "outputs": [],
   "source": [
    "target = train_data[\"Loan_Status\"]\n",
    "target_names = [\"Denied\", \"Approved\"]"
   ]
  },
  {
   "cell_type": "code",
   "execution_count": 106,
   "metadata": {},
   "outputs": [],
   "source": [
    "data = train_data.drop([\"Loan_Status\", \"ApplicantIncome\", \"CoapplicantIncome\", \"TotalIncome\"], axis=1)\n",
    "feature_names = data.columns\n",
    "feature_names_all = feature_names"
   ]
  },
  {
   "cell_type": "code",
   "execution_count": 107,
   "metadata": {},
   "outputs": [],
   "source": [
    "X_train, X_test, y_train, y_test = train_test_split(data, target, random_state=57)"
   ]
  },
  {
   "cell_type": "code",
   "execution_count": 108,
   "metadata": {},
   "outputs": [
    {
     "data": {
      "text/plain": [
       "0.6595744680851063"
      ]
     },
     "execution_count": 108,
     "metadata": {},
     "output_type": "execute_result"
    }
   ],
   "source": [
    "clf = tree.DecisionTreeClassifier()\n",
    "clf = clf.fit(X_train, y_train)\n",
    "clf.score(X_test, y_test)"
   ]
  },
  {
   "cell_type": "code",
   "execution_count": 109,
   "metadata": {},
   "outputs": [
    {
     "data": {
      "text/plain": [
       "'../static/images/Decision_tree_6a.png'"
      ]
     },
     "execution_count": 109,
     "metadata": {},
     "output_type": "execute_result"
    }
   ],
   "source": [
    "dot_data = tree.export_graphviz(clf, out_file=None, \n",
    "                      feature_names=feature_names,  \n",
    "                     class_names=target_names,  \n",
    "                     filled=True, rounded=True,  \n",
    "                      special_characters=True)  \n",
    "graph = gv.Source(dot_data) \n",
    "\n",
    "graph.format = 'png'\n",
    "graph.render('../static/images/Decision_tree_6a',view=True)"
   ]
  },
  {
   "cell_type": "markdown",
   "metadata": {},
   "source": [
    "## 6b. Decision Tree: all factors, random_state = 57, log(Total income). max_trees = 3"
   ]
  },
  {
   "cell_type": "code",
   "execution_count": 110,
   "metadata": {},
   "outputs": [],
   "source": [
    "target = train_data[\"Loan_Status\"]\n",
    "target_names = [\"Denied\", \"Approved\"]"
   ]
  },
  {
   "cell_type": "code",
   "execution_count": 111,
   "metadata": {},
   "outputs": [],
   "source": [
    "data = train_data.drop([\"Loan_Status\", \"ApplicantIncome\", \"CoapplicantIncome\", \"TotalIncome\"], axis=1)\n",
    "feature_names = data.columns\n",
    "feature_names_all = feature_names"
   ]
  },
  {
   "cell_type": "code",
   "execution_count": 112,
   "metadata": {},
   "outputs": [],
   "source": [
    "X_train, X_test, y_train, y_test = train_test_split(data, target, random_state=57)"
   ]
  },
  {
   "cell_type": "code",
   "execution_count": 113,
   "metadata": {},
   "outputs": [
    {
     "data": {
      "text/plain": [
       "0.7304964539007093"
      ]
     },
     "execution_count": 113,
     "metadata": {},
     "output_type": "execute_result"
    }
   ],
   "source": [
    "clf = tree.DecisionTreeClassifier(max_depth=3)\n",
    "clf = clf.fit(X_train, y_train)\n",
    "clf.score(X_test, y_test)"
   ]
  },
  {
   "cell_type": "code",
   "execution_count": 114,
   "metadata": {},
   "outputs": [
    {
     "data": {
      "text/plain": [
       "'../static/images/Decision_tree_6b.png'"
      ]
     },
     "execution_count": 114,
     "metadata": {},
     "output_type": "execute_result"
    }
   ],
   "source": [
    "dot_data = tree.export_graphviz(clf, out_file=None, \n",
    "                      feature_names=feature_names,  \n",
    "                     class_names=target_names,  \n",
    "                     filled=True, rounded=True,  \n",
    "                      special_characters=True)  \n",
    "graph = gv.Source(dot_data) \n",
    "\n",
    "graph.format = 'png'\n",
    "graph.render('../static/images/Decision_tree_6b',view=True)"
   ]
  },
  {
   "cell_type": "markdown",
   "metadata": {},
   "source": [
    "## 6c. Decision Tree: all factors, random_state = 57, log(Total income). max_trees = 4"
   ]
  },
  {
   "cell_type": "code",
   "execution_count": 115,
   "metadata": {},
   "outputs": [],
   "source": [
    "target = train_data[\"Loan_Status\"]\n",
    "target_names = [\"Denied\", \"Approved\"]"
   ]
  },
  {
   "cell_type": "code",
   "execution_count": 116,
   "metadata": {},
   "outputs": [],
   "source": [
    "data = train_data.drop([\"Loan_Status\", \"ApplicantIncome\", \"CoapplicantIncome\", \"TotalIncome\"], axis=1)\n",
    "feature_names = data.columns\n",
    "feature_names_all = feature_names"
   ]
  },
  {
   "cell_type": "code",
   "execution_count": 117,
   "metadata": {},
   "outputs": [],
   "source": [
    "X_train, X_test, y_train, y_test = train_test_split(data, target, random_state=57)"
   ]
  },
  {
   "cell_type": "code",
   "execution_count": 118,
   "metadata": {},
   "outputs": [
    {
     "data": {
      "text/plain": [
       "0.7304964539007093"
      ]
     },
     "execution_count": 118,
     "metadata": {},
     "output_type": "execute_result"
    }
   ],
   "source": [
    "clf = tree.DecisionTreeClassifier(max_depth=4)\n",
    "clf = clf.fit(X_train, y_train)\n",
    "clf.score(X_test, y_test)"
   ]
  },
  {
   "cell_type": "code",
   "execution_count": 119,
   "metadata": {},
   "outputs": [
    {
     "data": {
      "text/plain": [
       "'../static/images/Decision_tree_6c.png'"
      ]
     },
     "execution_count": 119,
     "metadata": {},
     "output_type": "execute_result"
    }
   ],
   "source": [
    "dot_data = tree.export_graphviz(clf, out_file=None, \n",
    "                      feature_names=feature_names,  \n",
    "                     class_names=target_names,  \n",
    "                     filled=True, rounded=True,  \n",
    "                      special_characters=True)  \n",
    "graph = gv.Source(dot_data) \n",
    "\n",
    "graph.format = 'png'\n",
    "graph.render('../static/images/Decision_tree_6c',view=True)"
   ]
  },
  {
   "cell_type": "markdown",
   "metadata": {},
   "source": [
    "## 6d. Decision Tree: all factors, random_state = 57, log(Total income). max_trees = 5"
   ]
  },
  {
   "cell_type": "code",
   "execution_count": 120,
   "metadata": {},
   "outputs": [],
   "source": [
    "target = train_data[\"Loan_Status\"]\n",
    "target_names = [\"Denied\", \"Approved\"]"
   ]
  },
  {
   "cell_type": "code",
   "execution_count": 121,
   "metadata": {},
   "outputs": [],
   "source": [
    "data = train_data.drop([\"Loan_Status\", \"ApplicantIncome\", \"CoapplicantIncome\", \"TotalIncome\"], axis=1)\n",
    "feature_names = data.columns\n",
    "feature_names_all = feature_names"
   ]
  },
  {
   "cell_type": "code",
   "execution_count": 122,
   "metadata": {},
   "outputs": [],
   "source": [
    "X_train, X_test, y_train, y_test = train_test_split(data, target, random_state=57)"
   ]
  },
  {
   "cell_type": "code",
   "execution_count": 123,
   "metadata": {},
   "outputs": [
    {
     "data": {
      "text/plain": [
       "0.7163120567375887"
      ]
     },
     "execution_count": 123,
     "metadata": {},
     "output_type": "execute_result"
    }
   ],
   "source": [
    "clf = tree.DecisionTreeClassifier(max_depth=5)\n",
    "clf = clf.fit(X_train, y_train)\n",
    "clf.score(X_test, y_test)"
   ]
  },
  {
   "cell_type": "code",
   "execution_count": 124,
   "metadata": {},
   "outputs": [
    {
     "data": {
      "text/plain": [
       "'../static/images/Decision_tree_6d.png'"
      ]
     },
     "execution_count": 124,
     "metadata": {},
     "output_type": "execute_result"
    }
   ],
   "source": [
    "dot_data = tree.export_graphviz(clf, out_file=None, \n",
    "                      feature_names=feature_names,  \n",
    "                     class_names=target_names,  \n",
    "                     filled=True, rounded=True,  \n",
    "                      special_characters=True)  \n",
    "graph = gv.Source(dot_data) \n",
    "\n",
    "graph.format = 'png'\n",
    "graph.render('../static/images/Decision_tree_6d',view=True)"
   ]
  },
  {
   "cell_type": "code",
   "execution_count": null,
   "metadata": {},
   "outputs": [],
   "source": []
  },
  {
   "cell_type": "code",
   "execution_count": null,
   "metadata": {},
   "outputs": [],
   "source": []
  }
 ],
 "metadata": {
  "kernelspec": {
   "display_name": "Python 3",
   "language": "python",
   "name": "python3"
  },
  "language_info": {
   "codemirror_mode": {
    "name": "ipython",
    "version": 3
   },
   "file_extension": ".py",
   "mimetype": "text/x-python",
   "name": "python",
   "nbconvert_exporter": "python",
   "pygments_lexer": "ipython3",
   "version": "3.6.10"
  }
 },
 "nbformat": 4,
 "nbformat_minor": 4
}
