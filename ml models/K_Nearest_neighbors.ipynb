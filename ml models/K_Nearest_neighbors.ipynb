{
 "cells": [
  {
   "cell_type": "code",
   "execution_count": 1,
   "metadata": {},
   "outputs": [],
   "source": [
    "%matplotlib inline\n",
    "import matplotlib.pyplot as plt\n",
    "from sklearn.neighbors import KNeighborsClassifier\n",
    "import pandas as pd\n",
    "import numpy as np\n",
    "import os\n",
    "SMALL_SIZE = 8\n",
    "MEDIUM_SIZE = 16\n",
    "BIGGER_SIZE = 24"
   ]
  },
  {
   "cell_type": "code",
   "execution_count": 2,
   "metadata": {},
   "outputs": [
    {
     "data": {
      "text/html": [
       "<div>\n",
       "<style scoped>\n",
       "    .dataframe tbody tr th:only-of-type {\n",
       "        vertical-align: middle;\n",
       "    }\n",
       "\n",
       "    .dataframe tbody tr th {\n",
       "        vertical-align: top;\n",
       "    }\n",
       "\n",
       "    .dataframe thead th {\n",
       "        text-align: right;\n",
       "    }\n",
       "</style>\n",
       "<table border=\"1\" class=\"dataframe\">\n",
       "  <thead>\n",
       "    <tr style=\"text-align: right;\">\n",
       "      <th></th>\n",
       "      <th>Gender</th>\n",
       "      <th>Married</th>\n",
       "      <th>Dependents</th>\n",
       "      <th>Education</th>\n",
       "      <th>Self_Employed</th>\n",
       "      <th>ApplicantIncome</th>\n",
       "      <th>CoapplicantIncome</th>\n",
       "      <th>LoanAmount</th>\n",
       "      <th>Loan_Amount_Term</th>\n",
       "      <th>Credit_History</th>\n",
       "      <th>Property_Area</th>\n",
       "      <th>TotalIncome</th>\n",
       "    </tr>\n",
       "  </thead>\n",
       "  <tbody>\n",
       "    <tr>\n",
       "      <th>0</th>\n",
       "      <td>0</td>\n",
       "      <td>1</td>\n",
       "      <td>0</td>\n",
       "      <td>1</td>\n",
       "      <td>0</td>\n",
       "      <td>5720.0</td>\n",
       "      <td>0.0</td>\n",
       "      <td>110000.0</td>\n",
       "      <td>360.0</td>\n",
       "      <td>1</td>\n",
       "      <td>2</td>\n",
       "      <td>5720.0</td>\n",
       "    </tr>\n",
       "    <tr>\n",
       "      <th>1</th>\n",
       "      <td>0</td>\n",
       "      <td>1</td>\n",
       "      <td>1</td>\n",
       "      <td>1</td>\n",
       "      <td>0</td>\n",
       "      <td>3076.0</td>\n",
       "      <td>1500.0</td>\n",
       "      <td>126000.0</td>\n",
       "      <td>360.0</td>\n",
       "      <td>1</td>\n",
       "      <td>2</td>\n",
       "      <td>4576.0</td>\n",
       "    </tr>\n",
       "    <tr>\n",
       "      <th>2</th>\n",
       "      <td>0</td>\n",
       "      <td>1</td>\n",
       "      <td>2</td>\n",
       "      <td>1</td>\n",
       "      <td>0</td>\n",
       "      <td>5000.0</td>\n",
       "      <td>1800.0</td>\n",
       "      <td>208000.0</td>\n",
       "      <td>360.0</td>\n",
       "      <td>1</td>\n",
       "      <td>2</td>\n",
       "      <td>6800.0</td>\n",
       "    </tr>\n",
       "    <tr>\n",
       "      <th>3</th>\n",
       "      <td>0</td>\n",
       "      <td>1</td>\n",
       "      <td>2</td>\n",
       "      <td>1</td>\n",
       "      <td>0</td>\n",
       "      <td>2340.0</td>\n",
       "      <td>2546.0</td>\n",
       "      <td>100000.0</td>\n",
       "      <td>360.0</td>\n",
       "      <td>0</td>\n",
       "      <td>2</td>\n",
       "      <td>4886.0</td>\n",
       "    </tr>\n",
       "    <tr>\n",
       "      <th>4</th>\n",
       "      <td>0</td>\n",
       "      <td>0</td>\n",
       "      <td>0</td>\n",
       "      <td>0</td>\n",
       "      <td>0</td>\n",
       "      <td>3276.0</td>\n",
       "      <td>0.0</td>\n",
       "      <td>78000.0</td>\n",
       "      <td>360.0</td>\n",
       "      <td>1</td>\n",
       "      <td>2</td>\n",
       "      <td>3276.0</td>\n",
       "    </tr>\n",
       "    <tr>\n",
       "      <th>...</th>\n",
       "      <td>...</td>\n",
       "      <td>...</td>\n",
       "      <td>...</td>\n",
       "      <td>...</td>\n",
       "      <td>...</td>\n",
       "      <td>...</td>\n",
       "      <td>...</td>\n",
       "      <td>...</td>\n",
       "      <td>...</td>\n",
       "      <td>...</td>\n",
       "      <td>...</td>\n",
       "      <td>...</td>\n",
       "    </tr>\n",
       "    <tr>\n",
       "      <th>340</th>\n",
       "      <td>0</td>\n",
       "      <td>1</td>\n",
       "      <td>3</td>\n",
       "      <td>0</td>\n",
       "      <td>1</td>\n",
       "      <td>4009.0</td>\n",
       "      <td>1777.0</td>\n",
       "      <td>113000.0</td>\n",
       "      <td>360.0</td>\n",
       "      <td>1</td>\n",
       "      <td>2</td>\n",
       "      <td>5786.0</td>\n",
       "    </tr>\n",
       "    <tr>\n",
       "      <th>341</th>\n",
       "      <td>0</td>\n",
       "      <td>1</td>\n",
       "      <td>0</td>\n",
       "      <td>1</td>\n",
       "      <td>0</td>\n",
       "      <td>4158.0</td>\n",
       "      <td>709.0</td>\n",
       "      <td>115000.0</td>\n",
       "      <td>360.0</td>\n",
       "      <td>1</td>\n",
       "      <td>2</td>\n",
       "      <td>4867.0</td>\n",
       "    </tr>\n",
       "    <tr>\n",
       "      <th>342</th>\n",
       "      <td>0</td>\n",
       "      <td>0</td>\n",
       "      <td>0</td>\n",
       "      <td>1</td>\n",
       "      <td>0</td>\n",
       "      <td>3250.0</td>\n",
       "      <td>1993.0</td>\n",
       "      <td>126000.0</td>\n",
       "      <td>360.0</td>\n",
       "      <td>0</td>\n",
       "      <td>1</td>\n",
       "      <td>5243.0</td>\n",
       "    </tr>\n",
       "    <tr>\n",
       "      <th>343</th>\n",
       "      <td>0</td>\n",
       "      <td>1</td>\n",
       "      <td>0</td>\n",
       "      <td>1</td>\n",
       "      <td>0</td>\n",
       "      <td>5000.0</td>\n",
       "      <td>2393.0</td>\n",
       "      <td>158000.0</td>\n",
       "      <td>360.0</td>\n",
       "      <td>1</td>\n",
       "      <td>0</td>\n",
       "      <td>7393.0</td>\n",
       "    </tr>\n",
       "    <tr>\n",
       "      <th>344</th>\n",
       "      <td>0</td>\n",
       "      <td>0</td>\n",
       "      <td>0</td>\n",
       "      <td>1</td>\n",
       "      <td>1</td>\n",
       "      <td>9200.0</td>\n",
       "      <td>0.0</td>\n",
       "      <td>98000.0</td>\n",
       "      <td>180.0</td>\n",
       "      <td>1</td>\n",
       "      <td>0</td>\n",
       "      <td>9200.0</td>\n",
       "    </tr>\n",
       "  </tbody>\n",
       "</table>\n",
       "<p>345 rows × 12 columns</p>\n",
       "</div>"
      ],
      "text/plain": [
       "     Gender  Married  Dependents  Education  Self_Employed  ApplicantIncome  \\\n",
       "0         0        1           0          1              0           5720.0   \n",
       "1         0        1           1          1              0           3076.0   \n",
       "2         0        1           2          1              0           5000.0   \n",
       "3         0        1           2          1              0           2340.0   \n",
       "4         0        0           0          0              0           3276.0   \n",
       "..      ...      ...         ...        ...            ...              ...   \n",
       "340       0        1           3          0              1           4009.0   \n",
       "341       0        1           0          1              0           4158.0   \n",
       "342       0        0           0          1              0           3250.0   \n",
       "343       0        1           0          1              0           5000.0   \n",
       "344       0        0           0          1              1           9200.0   \n",
       "\n",
       "     CoapplicantIncome  LoanAmount  Loan_Amount_Term  Credit_History  \\\n",
       "0                  0.0    110000.0             360.0               1   \n",
       "1               1500.0    126000.0             360.0               1   \n",
       "2               1800.0    208000.0             360.0               1   \n",
       "3               2546.0    100000.0             360.0               0   \n",
       "4                  0.0     78000.0             360.0               1   \n",
       "..                 ...         ...               ...             ...   \n",
       "340             1777.0    113000.0             360.0               1   \n",
       "341              709.0    115000.0             360.0               1   \n",
       "342             1993.0    126000.0             360.0               0   \n",
       "343             2393.0    158000.0             360.0               1   \n",
       "344                0.0     98000.0             180.0               1   \n",
       "\n",
       "     Property_Area  TotalIncome  \n",
       "0                2       5720.0  \n",
       "1                2       4576.0  \n",
       "2                2       6800.0  \n",
       "3                2       4886.0  \n",
       "4                2       3276.0  \n",
       "..             ...          ...  \n",
       "340              2       5786.0  \n",
       "341              2       4867.0  \n",
       "342              1       5243.0  \n",
       "343              0       7393.0  \n",
       "344              0       9200.0  \n",
       "\n",
       "[345 rows x 12 columns]"
      ]
     },
     "execution_count": 2,
     "metadata": {},
     "output_type": "execute_result"
    }
   ],
   "source": [
    "test_data = pd.read_csv(os.path.join('../data', 'cleanLoanDataValidationAllIncome.csv'))\n",
    "pd.set_option('display.max_columns', None)\n",
    "test_data"
   ]
  },
  {
   "cell_type": "code",
   "execution_count": 3,
   "metadata": {},
   "outputs": [
    {
     "data": {
      "text/html": [
       "<div>\n",
       "<style scoped>\n",
       "    .dataframe tbody tr th:only-of-type {\n",
       "        vertical-align: middle;\n",
       "    }\n",
       "\n",
       "    .dataframe tbody tr th {\n",
       "        vertical-align: top;\n",
       "    }\n",
       "\n",
       "    .dataframe thead th {\n",
       "        text-align: right;\n",
       "    }\n",
       "</style>\n",
       "<table border=\"1\" class=\"dataframe\">\n",
       "  <thead>\n",
       "    <tr style=\"text-align: right;\">\n",
       "      <th></th>\n",
       "      <th>Gender</th>\n",
       "      <th>Married</th>\n",
       "      <th>Dependents</th>\n",
       "      <th>Education</th>\n",
       "      <th>Self_Employed</th>\n",
       "      <th>ApplicantIncome</th>\n",
       "      <th>CoapplicantIncome</th>\n",
       "      <th>LoanAmount</th>\n",
       "      <th>Loan_Amount_Term</th>\n",
       "      <th>Credit_History</th>\n",
       "      <th>Property_Area</th>\n",
       "      <th>Loan_Status</th>\n",
       "      <th>TotalIncome</th>\n",
       "    </tr>\n",
       "  </thead>\n",
       "  <tbody>\n",
       "    <tr>\n",
       "      <th>0</th>\n",
       "      <td>0</td>\n",
       "      <td>1</td>\n",
       "      <td>1</td>\n",
       "      <td>1</td>\n",
       "      <td>0</td>\n",
       "      <td>4583.0</td>\n",
       "      <td>1508.0</td>\n",
       "      <td>128000.0</td>\n",
       "      <td>360.0</td>\n",
       "      <td>1</td>\n",
       "      <td>0</td>\n",
       "      <td>0</td>\n",
       "      <td>6091.0</td>\n",
       "    </tr>\n",
       "    <tr>\n",
       "      <th>1</th>\n",
       "      <td>0</td>\n",
       "      <td>1</td>\n",
       "      <td>0</td>\n",
       "      <td>1</td>\n",
       "      <td>1</td>\n",
       "      <td>3000.0</td>\n",
       "      <td>0.0</td>\n",
       "      <td>66000.0</td>\n",
       "      <td>360.0</td>\n",
       "      <td>1</td>\n",
       "      <td>2</td>\n",
       "      <td>1</td>\n",
       "      <td>3000.0</td>\n",
       "    </tr>\n",
       "    <tr>\n",
       "      <th>2</th>\n",
       "      <td>0</td>\n",
       "      <td>1</td>\n",
       "      <td>0</td>\n",
       "      <td>0</td>\n",
       "      <td>0</td>\n",
       "      <td>2583.0</td>\n",
       "      <td>2358.0</td>\n",
       "      <td>120000.0</td>\n",
       "      <td>360.0</td>\n",
       "      <td>1</td>\n",
       "      <td>2</td>\n",
       "      <td>1</td>\n",
       "      <td>4941.0</td>\n",
       "    </tr>\n",
       "    <tr>\n",
       "      <th>3</th>\n",
       "      <td>0</td>\n",
       "      <td>0</td>\n",
       "      <td>0</td>\n",
       "      <td>1</td>\n",
       "      <td>0</td>\n",
       "      <td>6000.0</td>\n",
       "      <td>0.0</td>\n",
       "      <td>141000.0</td>\n",
       "      <td>360.0</td>\n",
       "      <td>1</td>\n",
       "      <td>2</td>\n",
       "      <td>1</td>\n",
       "      <td>6000.0</td>\n",
       "    </tr>\n",
       "    <tr>\n",
       "      <th>4</th>\n",
       "      <td>0</td>\n",
       "      <td>1</td>\n",
       "      <td>2</td>\n",
       "      <td>1</td>\n",
       "      <td>1</td>\n",
       "      <td>5417.0</td>\n",
       "      <td>4196.0</td>\n",
       "      <td>267000.0</td>\n",
       "      <td>360.0</td>\n",
       "      <td>1</td>\n",
       "      <td>2</td>\n",
       "      <td>1</td>\n",
       "      <td>9613.0</td>\n",
       "    </tr>\n",
       "    <tr>\n",
       "      <th>...</th>\n",
       "      <td>...</td>\n",
       "      <td>...</td>\n",
       "      <td>...</td>\n",
       "      <td>...</td>\n",
       "      <td>...</td>\n",
       "      <td>...</td>\n",
       "      <td>...</td>\n",
       "      <td>...</td>\n",
       "      <td>...</td>\n",
       "      <td>...</td>\n",
       "      <td>...</td>\n",
       "      <td>...</td>\n",
       "      <td>...</td>\n",
       "    </tr>\n",
       "    <tr>\n",
       "      <th>558</th>\n",
       "      <td>1</td>\n",
       "      <td>0</td>\n",
       "      <td>0</td>\n",
       "      <td>1</td>\n",
       "      <td>0</td>\n",
       "      <td>2900.0</td>\n",
       "      <td>0.0</td>\n",
       "      <td>71000.0</td>\n",
       "      <td>360.0</td>\n",
       "      <td>1</td>\n",
       "      <td>0</td>\n",
       "      <td>1</td>\n",
       "      <td>2900.0</td>\n",
       "    </tr>\n",
       "    <tr>\n",
       "      <th>559</th>\n",
       "      <td>0</td>\n",
       "      <td>1</td>\n",
       "      <td>3</td>\n",
       "      <td>1</td>\n",
       "      <td>0</td>\n",
       "      <td>4106.0</td>\n",
       "      <td>0.0</td>\n",
       "      <td>40000.0</td>\n",
       "      <td>180.0</td>\n",
       "      <td>1</td>\n",
       "      <td>0</td>\n",
       "      <td>1</td>\n",
       "      <td>4106.0</td>\n",
       "    </tr>\n",
       "    <tr>\n",
       "      <th>560</th>\n",
       "      <td>0</td>\n",
       "      <td>1</td>\n",
       "      <td>1</td>\n",
       "      <td>1</td>\n",
       "      <td>0</td>\n",
       "      <td>8072.0</td>\n",
       "      <td>240.0</td>\n",
       "      <td>253000.0</td>\n",
       "      <td>360.0</td>\n",
       "      <td>1</td>\n",
       "      <td>2</td>\n",
       "      <td>1</td>\n",
       "      <td>8312.0</td>\n",
       "    </tr>\n",
       "    <tr>\n",
       "      <th>561</th>\n",
       "      <td>0</td>\n",
       "      <td>1</td>\n",
       "      <td>2</td>\n",
       "      <td>1</td>\n",
       "      <td>0</td>\n",
       "      <td>7583.0</td>\n",
       "      <td>0.0</td>\n",
       "      <td>187000.0</td>\n",
       "      <td>360.0</td>\n",
       "      <td>1</td>\n",
       "      <td>2</td>\n",
       "      <td>1</td>\n",
       "      <td>7583.0</td>\n",
       "    </tr>\n",
       "    <tr>\n",
       "      <th>562</th>\n",
       "      <td>1</td>\n",
       "      <td>0</td>\n",
       "      <td>0</td>\n",
       "      <td>1</td>\n",
       "      <td>1</td>\n",
       "      <td>4583.0</td>\n",
       "      <td>0.0</td>\n",
       "      <td>133000.0</td>\n",
       "      <td>360.0</td>\n",
       "      <td>0</td>\n",
       "      <td>1</td>\n",
       "      <td>0</td>\n",
       "      <td>4583.0</td>\n",
       "    </tr>\n",
       "  </tbody>\n",
       "</table>\n",
       "<p>563 rows × 13 columns</p>\n",
       "</div>"
      ],
      "text/plain": [
       "     Gender  Married  Dependents  Education  Self_Employed  ApplicantIncome  \\\n",
       "0         0        1           1          1              0           4583.0   \n",
       "1         0        1           0          1              1           3000.0   \n",
       "2         0        1           0          0              0           2583.0   \n",
       "3         0        0           0          1              0           6000.0   \n",
       "4         0        1           2          1              1           5417.0   \n",
       "..      ...      ...         ...        ...            ...              ...   \n",
       "558       1        0           0          1              0           2900.0   \n",
       "559       0        1           3          1              0           4106.0   \n",
       "560       0        1           1          1              0           8072.0   \n",
       "561       0        1           2          1              0           7583.0   \n",
       "562       1        0           0          1              1           4583.0   \n",
       "\n",
       "     CoapplicantIncome  LoanAmount  Loan_Amount_Term  Credit_History  \\\n",
       "0               1508.0    128000.0             360.0               1   \n",
       "1                  0.0     66000.0             360.0               1   \n",
       "2               2358.0    120000.0             360.0               1   \n",
       "3                  0.0    141000.0             360.0               1   \n",
       "4               4196.0    267000.0             360.0               1   \n",
       "..                 ...         ...               ...             ...   \n",
       "558                0.0     71000.0             360.0               1   \n",
       "559                0.0     40000.0             180.0               1   \n",
       "560              240.0    253000.0             360.0               1   \n",
       "561                0.0    187000.0             360.0               1   \n",
       "562                0.0    133000.0             360.0               0   \n",
       "\n",
       "     Property_Area  Loan_Status  TotalIncome  \n",
       "0                0            0       6091.0  \n",
       "1                2            1       3000.0  \n",
       "2                2            1       4941.0  \n",
       "3                2            1       6000.0  \n",
       "4                2            1       9613.0  \n",
       "..             ...          ...          ...  \n",
       "558              0            1       2900.0  \n",
       "559              0            1       4106.0  \n",
       "560              2            1       8312.0  \n",
       "561              2            1       7583.0  \n",
       "562              1            0       4583.0  \n",
       "\n",
       "[563 rows x 13 columns]"
      ]
     },
     "execution_count": 3,
     "metadata": {},
     "output_type": "execute_result"
    }
   ],
   "source": [
    "train_data = pd.read_csv(os.path.join('../data', 'cleanLoanDataTrainAllIncome.csv'))\n",
    "pd.set_option('display.max_columns', None)\n",
    "train_data"
   ]
  },
  {
   "cell_type": "code",
   "execution_count": null,
   "metadata": {},
   "outputs": [],
   "source": []
  },
  {
   "cell_type": "code",
   "execution_count": null,
   "metadata": {},
   "outputs": [],
   "source": []
  },
  {
   "cell_type": "markdown",
   "metadata": {},
   "source": [
    "## 1a. KNN (Combined income)"
   ]
  },
  {
   "cell_type": "code",
   "execution_count": 5,
   "metadata": {},
   "outputs": [],
   "source": [
    "target = train_data[\"Loan_Status\"]\n",
    "target_names = [\"Denied\", \"Approved\"]"
   ]
  },
  {
   "cell_type": "code",
   "execution_count": 6,
   "metadata": {},
   "outputs": [],
   "source": [
    "data = train_data.drop([\"Loan_Status\", \"ApplicantIncome\", \"CoapplicantIncome\"], axis=1)\n",
    "feature_names = data.columns"
   ]
  },
  {
   "cell_type": "code",
   "execution_count": 7,
   "metadata": {},
   "outputs": [],
   "source": [
    "from sklearn.model_selection import train_test_split\n",
    "X_train, X_test, y_train, y_test = train_test_split(data, target, random_state=57)"
   ]
  },
  {
   "cell_type": "code",
   "execution_count": 8,
   "metadata": {},
   "outputs": [],
   "source": [
    "from sklearn.preprocessing import StandardScaler\n",
    "\n",
    "# Create a StandardScater model and fit it to the training data\n",
    "\n",
    "X_scaler = StandardScaler().fit(X_train)"
   ]
  },
  {
   "cell_type": "code",
   "execution_count": 9,
   "metadata": {},
   "outputs": [
    {
     "data": {
      "text/plain": [
       "array([[-0.48737732,  0.73877435, -0.76620308, ...,  0.55727821,\n",
       "         1.23961503, -0.40857726],\n",
       "       [-0.48737732,  0.73877435,  1.21139753, ...,  0.55727821,\n",
       "        -1.29979052,  1.64839807],\n",
       "       [ 2.05179837,  0.73877435, -0.76620308, ...,  0.55727821,\n",
       "        -0.03008774, -0.31752894],\n",
       "       ...,\n",
       "       [-0.48737732,  0.73877435, -0.76620308, ...,  0.55727821,\n",
       "        -0.03008774, -0.66804054],\n",
       "       [ 2.05179837, -1.35359328, -0.76620308, ...,  0.55727821,\n",
       "        -1.29979052,  0.02027823],\n",
       "       [-0.48737732, -1.35359328, -0.76620308, ...,  0.55727821,\n",
       "         1.23961503, -0.75583131]])"
      ]
     },
     "execution_count": 9,
     "metadata": {},
     "output_type": "execute_result"
    }
   ],
   "source": [
    "X_train_scaled = X_scaler.transform(X_train)\n",
    "X_test_scaled = X_scaler.transform(X_test)\n",
    "X_test_scaled"
   ]
  },
  {
   "cell_type": "code",
   "execution_count": 41,
   "metadata": {},
   "outputs": [
    {
     "name": "stdout",
     "output_type": "stream",
     "text": [
      "k: 1, Train/Test Score: 0.995/0.688\n",
      "k: 3, Train/Test Score: 0.836/0.688\n",
      "k: 5, Train/Test Score: 0.794/0.738\n",
      "k: 7, Train/Test Score: 0.789/0.745\n",
      "k: 9, Train/Test Score: 0.775/0.738\n",
      "k: 11, Train/Test Score: 0.775/0.730\n",
      "k: 13, Train/Test Score: 0.768/0.745\n",
      "k: 15, Train/Test Score: 0.768/0.745\n",
      "k: 17, Train/Test Score: 0.751/0.730\n",
      "k: 19, Train/Test Score: 0.746/0.723\n",
      "k: 21, Train/Test Score: 0.746/0.759\n",
      "k: 23, Train/Test Score: 0.756/0.759\n",
      "k: 25, Train/Test Score: 0.756/0.752\n",
      "k: 27, Train/Test Score: 0.763/0.745\n",
      "k: 29, Train/Test Score: 0.756/0.738\n",
      "k: 31, Train/Test Score: 0.746/0.730\n",
      "k: 33, Train/Test Score: 0.746/0.738\n",
      "k: 35, Train/Test Score: 0.727/0.752\n",
      "k: 37, Train/Test Score: 0.732/0.752\n",
      "k: 39, Train/Test Score: 0.735/0.752\n"
     ]
    },
    {
     "data": {
      "image/png": "[encoded data removed]",
      "text/plain": [
       "<Figure size 432x288 with 1 Axes>"
      ]
     },
     "metadata": {
      "needs_background": "light"
     },
     "output_type": "display_data"
    }
   ],
   "source": [
    "# Loop through different k values to see which has the highest accuracy\n",
    "# Note: We only use odd numbers because we don't want any ties\n",
    "train_scores = []\n",
    "test_scores = []\n",
    "for k in range(1, 40, 2):\n",
    "    knn = KNeighborsClassifier(n_neighbors=k)\n",
    "    knn.fit(X_train_scaled, y_train)\n",
    "    train_score = knn.score(X_train_scaled, y_train)\n",
    "    test_score = knn.score(X_test_scaled, y_test)\n",
    "    train_scores.append(train_score)\n",
    "    test_scores.append(test_score)\n",
    "    print(f\"k: {k}, Train/Test Score: {train_score:.3f}/{test_score:.3f}\")\n",
    "    \n",
    "    \n",
    "plt.plot(range(1, 40, 2), train_scores, marker='o')\n",
    "plt.plot(range(1, 40, 2), test_scores, marker=\"x\")\n",
    "plt.xlabel(\"k neighbors\", fontsize=MEDIUM_SIZE)\n",
    "plt.ylabel(\"Testing accuracy Score\", fontsize=MEDIUM_SIZE)\n",
    "plt.axis([0, 40, 0.58, 1.02])\n",
    "plt.title(\"KNN 1a\", fontsize=BIGGER_SIZE)\n",
    "plt.savefig('../static/images/KNN_1a.png')\n",
    "plt.show()\n"
   ]
  },
  {
   "cell_type": "code",
   "execution_count": 11,
   "metadata": {},
   "outputs": [
    {
     "name": "stdout",
     "output_type": "stream",
     "text": [
      "k=5 Test Acc: 0.752\n"
     ]
    }
   ],
   "source": [
    "# Note that k: 5 seems to be approx. the best choice for this dataset\n",
    "knn = KNeighborsClassifier(n_neighbors=5)\n",
    "knn.fit(X_train_scaled, y_train)\n",
    "print('k=5 Test Acc: %.3f' % knn.score(X_test_scaled, y_test))"
   ]
  },
  {
   "cell_type": "markdown",
   "metadata": {},
   "source": [
    "## 1b. KNN (Applicant and co-applicant income separate)"
   ]
  },
  {
   "cell_type": "code",
   "execution_count": 13,
   "metadata": {},
   "outputs": [],
   "source": [
    "target = train_data[\"Loan_Status\"]\n",
    "target_names = [\"Denied\", \"Approved\"]\n",
    "data = train_data.drop([\"Loan_Status\", \"TotalIncome\"], axis=1)\n",
    "feature_names = data.columns"
   ]
  },
  {
   "cell_type": "code",
   "execution_count": 14,
   "metadata": {},
   "outputs": [],
   "source": [
    "X_train, X_test, y_train, y_test = train_test_split(data, target, random_state=57)"
   ]
  },
  {
   "cell_type": "code",
   "execution_count": 15,
   "metadata": {},
   "outputs": [],
   "source": [
    "# Create a StandardScater model and fit it to the training data\n",
    "X_scaler = StandardScaler().fit(X_train)"
   ]
  },
  {
   "cell_type": "code",
   "execution_count": 16,
   "metadata": {},
   "outputs": [
    {
     "data": {
      "text/plain": [
       "array([[-0.48737732,  0.73877435, -0.76620308, ...,  0.30723956,\n",
       "         0.55727821,  1.23961503],\n",
       "       [-0.48737732,  0.73877435,  1.21139753, ..., -0.57717446,\n",
       "         0.55727821, -1.29979052],\n",
       "       [ 2.05179837,  0.73877435, -0.76620308, ...,  0.30723956,\n",
       "         0.55727821, -0.03008774],\n",
       "       ...,\n",
       "       [-0.48737732,  0.73877435, -0.76620308, ...,  0.30723956,\n",
       "         0.55727821, -0.03008774],\n",
       "       [ 2.05179837, -1.35359328, -0.76620308, ...,  0.30723956,\n",
       "         0.55727821, -1.29979052],\n",
       "       [-0.48737732, -1.35359328, -0.76620308, ...,  0.30723956,\n",
       "         0.55727821,  1.23961503]])"
      ]
     },
     "execution_count": 16,
     "metadata": {},
     "output_type": "execute_result"
    }
   ],
   "source": [
    "X_train_scaled = X_scaler.transform(X_train)\n",
    "X_test_scaled = X_scaler.transform(X_test)\n",
    "X_test_scaled"
   ]
  },
  {
   "cell_type": "code",
   "execution_count": 42,
   "metadata": {},
   "outputs": [
    {
     "name": "stdout",
     "output_type": "stream",
     "text": [
      "k: 1, Train/Test Score: 0.995/0.688\n",
      "k: 3, Train/Test Score: 0.836/0.688\n",
      "k: 5, Train/Test Score: 0.794/0.738\n",
      "k: 7, Train/Test Score: 0.789/0.745\n",
      "k: 9, Train/Test Score: 0.775/0.738\n",
      "k: 11, Train/Test Score: 0.775/0.730\n",
      "k: 13, Train/Test Score: 0.768/0.745\n",
      "k: 15, Train/Test Score: 0.768/0.745\n",
      "k: 17, Train/Test Score: 0.751/0.730\n",
      "k: 19, Train/Test Score: 0.746/0.723\n",
      "k: 21, Train/Test Score: 0.746/0.759\n",
      "k: 23, Train/Test Score: 0.756/0.759\n",
      "k: 25, Train/Test Score: 0.756/0.752\n",
      "k: 27, Train/Test Score: 0.763/0.745\n",
      "k: 29, Train/Test Score: 0.756/0.738\n",
      "k: 31, Train/Test Score: 0.746/0.730\n",
      "k: 33, Train/Test Score: 0.746/0.738\n",
      "k: 35, Train/Test Score: 0.727/0.752\n",
      "k: 37, Train/Test Score: 0.732/0.752\n",
      "k: 39, Train/Test Score: 0.735/0.752\n"
     ]
    },
    {
     "data": {
      "image/png": "[encoded data removed]",
      "text/plain": [
       "<Figure size 432x288 with 1 Axes>"
      ]
     },
     "metadata": {
      "needs_background": "light"
     },
     "output_type": "display_data"
    }
   ],
   "source": [
    "# Loop through different k values to see which has the highest accuracy\n",
    "# Note: We only use odd numbers because we don't want any ties\n",
    "train_scores = []\n",
    "test_scores = []\n",
    "for k in range(1, 40, 2):\n",
    "    knn = KNeighborsClassifier(n_neighbors=k)\n",
    "    knn.fit(X_train_scaled, y_train)\n",
    "    train_score = knn.score(X_train_scaled, y_train)\n",
    "    test_score = knn.score(X_test_scaled, y_test)\n",
    "    train_scores.append(train_score)\n",
    "    test_scores.append(test_score)\n",
    "    print(f\"k: {k}, Train/Test Score: {train_score:.3f}/{test_score:.3f}\")\n",
    "    \n",
    "    \n",
    "plt.plot(range(1, 40, 2), train_scores, marker='o')\n",
    "plt.plot(range(1, 40, 2), test_scores, marker=\"x\")\n",
    "plt.xlabel(\"k neighbors\", fontsize=MEDIUM_SIZE)\n",
    "plt.ylabel(\"Testing accuracy Score\", fontsize=MEDIUM_SIZE)\n",
    "plt.axis([0, 40, 0.58, 1.02])\n",
    "plt.title(\"KNN 1b\", fontsize=BIGGER_SIZE)\n",
    "plt.savefig('../static/images/KNN_1b.png')\n",
    "plt.show()"
   ]
  },
  {
   "cell_type": "code",
   "execution_count": 18,
   "metadata": {},
   "outputs": [
    {
     "name": "stdout",
     "output_type": "stream",
     "text": [
      "k=5 Test Acc: 0.766\n"
     ]
    }
   ],
   "source": [
    "# Note that k: 5 seems to be approx. the best choice for this dataset\n",
    "knn = KNeighborsClassifier(n_neighbors=5)\n",
    "knn.fit(X_train_scaled, y_train)\n",
    "print('k=5 Test Acc: %.3f' % knn.score(X_test_scaled, y_test))"
   ]
  },
  {
   "cell_type": "markdown",
   "metadata": {},
   "source": [
    "## 2a. KNN, took out Loan_Amount_Term (Combined incomes)"
   ]
  },
  {
   "cell_type": "code",
   "execution_count": 20,
   "metadata": {},
   "outputs": [],
   "source": [
    "target = train_data[\"Loan_Status\"]\n",
    "target_names = [\"Denied\", \"Approved\"]\n",
    "data = train_data.drop([\"Loan_Status\", \"ApplicantIncome\", \"CoapplicantIncome\"], axis=1)\n",
    "feature_names = data.columns"
   ]
  },
  {
   "cell_type": "code",
   "execution_count": 21,
   "metadata": {},
   "outputs": [],
   "source": [
    "X_train, X_test, y_train, y_test = train_test_split(data, target, random_state=57)\n",
    "X_scaler = StandardScaler().fit(X_train)\n",
    "X_train_scaled = X_scaler.transform(X_train)\n",
    "X_test_scaled = X_scaler.transform(X_test)"
   ]
  },
  {
   "cell_type": "code",
   "execution_count": 43,
   "metadata": {},
   "outputs": [
    {
     "name": "stdout",
     "output_type": "stream",
     "text": [
      "k: 1, Train/Test Score: 0.995/0.688\n",
      "k: 3, Train/Test Score: 0.836/0.688\n",
      "k: 5, Train/Test Score: 0.794/0.738\n",
      "k: 7, Train/Test Score: 0.789/0.745\n",
      "k: 9, Train/Test Score: 0.775/0.738\n",
      "k: 11, Train/Test Score: 0.775/0.730\n",
      "k: 13, Train/Test Score: 0.768/0.745\n",
      "k: 15, Train/Test Score: 0.768/0.745\n",
      "k: 17, Train/Test Score: 0.751/0.730\n",
      "k: 19, Train/Test Score: 0.746/0.723\n",
      "k: 21, Train/Test Score: 0.746/0.759\n",
      "k: 23, Train/Test Score: 0.756/0.759\n",
      "k: 25, Train/Test Score: 0.756/0.752\n",
      "k: 27, Train/Test Score: 0.763/0.745\n",
      "k: 29, Train/Test Score: 0.756/0.738\n",
      "k: 31, Train/Test Score: 0.746/0.730\n",
      "k: 33, Train/Test Score: 0.746/0.738\n",
      "k: 35, Train/Test Score: 0.727/0.752\n",
      "k: 37, Train/Test Score: 0.732/0.752\n",
      "k: 39, Train/Test Score: 0.735/0.752\n"
     ]
    },
    {
     "data": {
      "image/png": "[encoded data removed]",
      "text/plain": [
       "<Figure size 432x288 with 1 Axes>"
      ]
     },
     "metadata": {
      "needs_background": "light"
     },
     "output_type": "display_data"
    }
   ],
   "source": [
    "train_scores = []\n",
    "test_scores = []\n",
    "for k in range(1, 40, 2):\n",
    "    knn = KNeighborsClassifier(n_neighbors=k)\n",
    "    knn.fit(X_train_scaled, y_train)\n",
    "    train_score = knn.score(X_train_scaled, y_train)\n",
    "    test_score = knn.score(X_test_scaled, y_test)\n",
    "    train_scores.append(train_score)\n",
    "    test_scores.append(test_score)\n",
    "    print(f\"k: {k}, Train/Test Score: {train_score:.3f}/{test_score:.3f}\")\n",
    "    \n",
    "    \n",
    "plt.plot(range(1, 40, 2), train_scores, marker='o')\n",
    "plt.plot(range(1, 40, 2), test_scores, marker=\"x\")\n",
    "plt.xlabel(\"k neighbors\", fontsize=MEDIUM_SIZE)\n",
    "plt.ylabel(\"Testing accuracy Score\", fontsize=MEDIUM_SIZE)\n",
    "plt.axis([0, 40, 0.58, 1.02])\n",
    "plt.title(\"KNN 2a\", fontsize=BIGGER_SIZE)\n",
    "plt.savefig('../static/images/KNN_2a.png')\n",
    "plt.show()"
   ]
  },
  {
   "cell_type": "code",
   "execution_count": 23,
   "metadata": {},
   "outputs": [
    {
     "name": "stdout",
     "output_type": "stream",
     "text": [
      "k=5 Test Acc: 0.752\n"
     ]
    }
   ],
   "source": [
    "knn = KNeighborsClassifier(n_neighbors=5)\n",
    "knn.fit(X_train_scaled, y_train)\n",
    "print('k=5 Test Acc: %.3f' % knn.score(X_test_scaled, y_test))"
   ]
  },
  {
   "cell_type": "markdown",
   "metadata": {},
   "source": [
    "## 2b. KNN, took out Loan_Amount_Term (Applicant and co-applicant incomes separate)"
   ]
  },
  {
   "cell_type": "code",
   "execution_count": 24,
   "metadata": {},
   "outputs": [],
   "source": [
    "target = train_data[\"Loan_Status\"]\n",
    "target_names = [\"Denied\", \"Approved\"]\n",
    "data = train_data.drop([\"Loan_Status\", \"TotalIncome\", 'Loan_Amount_Term'], axis=1)\n",
    "feature_names = data.columns"
   ]
  },
  {
   "cell_type": "code",
   "execution_count": 25,
   "metadata": {},
   "outputs": [],
   "source": [
    "X_train, X_test, y_train, y_test = train_test_split(data, target, random_state=57)\n",
    "X_scaler = StandardScaler().fit(X_train)\n",
    "X_train_scaled = X_scaler.transform(X_train)\n",
    "X_test_scaled = X_scaler.transform(X_test)"
   ]
  },
  {
   "cell_type": "code",
   "execution_count": 44,
   "metadata": {},
   "outputs": [
    {
     "name": "stdout",
     "output_type": "stream",
     "text": [
      "k: 1, Train/Test Score: 0.995/0.688\n",
      "k: 3, Train/Test Score: 0.836/0.688\n",
      "k: 5, Train/Test Score: 0.794/0.738\n",
      "k: 7, Train/Test Score: 0.789/0.745\n",
      "k: 9, Train/Test Score: 0.775/0.738\n",
      "k: 11, Train/Test Score: 0.775/0.730\n",
      "k: 13, Train/Test Score: 0.768/0.745\n",
      "k: 15, Train/Test Score: 0.768/0.745\n",
      "k: 17, Train/Test Score: 0.751/0.730\n",
      "k: 19, Train/Test Score: 0.746/0.723\n",
      "k: 21, Train/Test Score: 0.746/0.759\n",
      "k: 23, Train/Test Score: 0.756/0.759\n",
      "k: 25, Train/Test Score: 0.756/0.752\n",
      "k: 27, Train/Test Score: 0.763/0.745\n",
      "k: 29, Train/Test Score: 0.756/0.738\n",
      "k: 31, Train/Test Score: 0.746/0.730\n",
      "k: 33, Train/Test Score: 0.746/0.738\n",
      "k: 35, Train/Test Score: 0.727/0.752\n",
      "k: 37, Train/Test Score: 0.732/0.752\n",
      "k: 39, Train/Test Score: 0.735/0.752\n"
     ]
    },
    {
     "data": {
      "image/png": "[encoded data removed]",
      "text/plain": [
       "<Figure size 432x288 with 1 Axes>"
      ]
     },
     "metadata": {
      "needs_background": "light"
     },
     "output_type": "display_data"
    }
   ],
   "source": [
    "train_scores = []\n",
    "test_scores = []\n",
    "for k in range(1, 40, 2):\n",
    "    knn = KNeighborsClassifier(n_neighbors=k)\n",
    "    knn.fit(X_train_scaled, y_train)\n",
    "    train_score = knn.score(X_train_scaled, y_train)\n",
    "    test_score = knn.score(X_test_scaled, y_test)\n",
    "    train_scores.append(train_score)\n",
    "    test_scores.append(test_score)\n",
    "    print(f\"k: {k}, Train/Test Score: {train_score:.3f}/{test_score:.3f}\")\n",
    "    \n",
    "    \n",
    "plt.plot(range(1, 40, 2), train_scores, marker='o')\n",
    "plt.plot(range(1, 40, 2), test_scores, marker=\"x\")\n",
    "plt.xlabel(\"k neighbors\", fontsize=MEDIUM_SIZE)\n",
    "plt.ylabel(\"Testing accuracy Score\", fontsize=MEDIUM_SIZE)\n",
    "plt.axis([0, 40, 0.58, 1.02])\n",
    "plt.title(\"KNN 2b\", fontsize=BIGGER_SIZE)\n",
    "plt.savefig('../static/images/KNN_2b.png')\n",
    "plt.show()"
   ]
  },
  {
   "cell_type": "code",
   "execution_count": 27,
   "metadata": {},
   "outputs": [
    {
     "name": "stdout",
     "output_type": "stream",
     "text": [
      "k=11 Test Acc: 0.759\n"
     ]
    }
   ],
   "source": [
    "knn = KNeighborsClassifier(n_neighbors=11)\n",
    "knn.fit(X_train_scaled, y_train)\n",
    "print('k=11 Test Acc: %.3f' % knn.score(X_test_scaled, y_test))"
   ]
  },
  {
   "cell_type": "markdown",
   "metadata": {},
   "source": [
    "## 3a. KNN, took out Loan_Amount_Term and LoanAmount (Combined incomes)"
   ]
  },
  {
   "cell_type": "code",
   "execution_count": 30,
   "metadata": {},
   "outputs": [],
   "source": [
    "target = train_data[\"Loan_Status\"]\n",
    "target_names = [\"Denied\", \"Approved\"]\n",
    "data = train_data.drop([\"Loan_Status\",'LoanAmount', 'Loan_Amount_Term', \"ApplicantIncome\", \"CoapplicantIncome\"], axis=1)\n",
    "feature_names = data.columns"
   ]
  },
  {
   "cell_type": "code",
   "execution_count": 31,
   "metadata": {},
   "outputs": [],
   "source": [
    "X_train, X_test, y_train, y_test = train_test_split(data, target, random_state=57)\n",
    "X_scaler = StandardScaler().fit(X_train)\n",
    "X_train_scaled = X_scaler.transform(X_train)\n",
    "X_test_scaled = X_scaler.transform(X_test)"
   ]
  },
  {
   "cell_type": "code",
   "execution_count": 45,
   "metadata": {},
   "outputs": [
    {
     "name": "stdout",
     "output_type": "stream",
     "text": [
      "k: 1, Train/Test Score: 0.995/0.688\n",
      "k: 3, Train/Test Score: 0.836/0.688\n",
      "k: 5, Train/Test Score: 0.794/0.738\n",
      "k: 7, Train/Test Score: 0.789/0.745\n",
      "k: 9, Train/Test Score: 0.775/0.738\n",
      "k: 11, Train/Test Score: 0.775/0.730\n",
      "k: 13, Train/Test Score: 0.768/0.745\n",
      "k: 15, Train/Test Score: 0.768/0.745\n",
      "k: 17, Train/Test Score: 0.751/0.730\n",
      "k: 19, Train/Test Score: 0.746/0.723\n",
      "k: 21, Train/Test Score: 0.746/0.759\n",
      "k: 23, Train/Test Score: 0.756/0.759\n",
      "k: 25, Train/Test Score: 0.756/0.752\n",
      "k: 27, Train/Test Score: 0.763/0.745\n",
      "k: 29, Train/Test Score: 0.756/0.738\n",
      "k: 31, Train/Test Score: 0.746/0.730\n",
      "k: 33, Train/Test Score: 0.746/0.738\n",
      "k: 35, Train/Test Score: 0.727/0.752\n",
      "k: 37, Train/Test Score: 0.732/0.752\n",
      "k: 39, Train/Test Score: 0.735/0.752\n"
     ]
    },
    {
     "data": {
      "image/png": "[encoded data removed]",
      "text/plain": [
       "<Figure size 432x288 with 1 Axes>"
      ]
     },
     "metadata": {
      "needs_background": "light"
     },
     "output_type": "display_data"
    }
   ],
   "source": [
    "train_scores = []\n",
    "test_scores = []\n",
    "for k in range(1, 40, 2):\n",
    "    knn = KNeighborsClassifier(n_neighbors=k)\n",
    "    knn.fit(X_train_scaled, y_train)\n",
    "    train_score = knn.score(X_train_scaled, y_train)\n",
    "    test_score = knn.score(X_test_scaled, y_test)\n",
    "    train_scores.append(train_score)\n",
    "    test_scores.append(test_score)\n",
    "    print(f\"k: {k}, Train/Test Score: {train_score:.3f}/{test_score:.3f}\")\n",
    "    \n",
    "    \n",
    "plt.plot(range(1, 40, 2), train_scores, marker='o')\n",
    "plt.plot(range(1, 40, 2), test_scores, marker=\"x\")\n",
    "plt.xlabel(\"k neighbors\", fontsize=MEDIUM_SIZE)\n",
    "plt.ylabel(\"Testing accuracy Score\", fontsize=MEDIUM_SIZE)\n",
    "plt.axis([0, 40, 0.58, 1.02])\n",
    "plt.title(\"KNN 3a\", fontsize=BIGGER_SIZE)\n",
    "plt.savefig('../static/images/KNN_3a.png')\n",
    "plt.show()"
   ]
  },
  {
   "cell_type": "code",
   "execution_count": 34,
   "metadata": {},
   "outputs": [
    {
     "name": "stdout",
     "output_type": "stream",
     "text": [
      "k=21 Test Acc: 0.752\n"
     ]
    }
   ],
   "source": [
    "knn = KNeighborsClassifier(n_neighbors=21)\n",
    "knn.fit(X_train_scaled, y_train)\n",
    "print('k=21 Test Acc: %.3f' % knn.score(X_test_scaled, y_test))"
   ]
  },
  {
   "cell_type": "markdown",
   "metadata": {},
   "source": [
    "## 3b. KNN, took out Loan_Amount_Term and LoanAmount (Applicant and co-applicant incomes separate)"
   ]
  },
  {
   "cell_type": "code",
   "execution_count": 36,
   "metadata": {},
   "outputs": [],
   "source": [
    "target = train_data[\"Loan_Status\"]\n",
    "target_names = [\"Denied\", \"Approved\"]\n",
    "data = train_data.drop([\"Loan_Status\",'LoanAmount', 'Loan_Amount_Term', \"TotalIncome\"], axis=1)\n",
    "feature_names = data.columns"
   ]
  },
  {
   "cell_type": "code",
   "execution_count": 37,
   "metadata": {},
   "outputs": [],
   "source": [
    "X_train, X_test, y_train, y_test = train_test_split(data, target, random_state=57)\n",
    "X_scaler = StandardScaler().fit(X_train)\n",
    "X_train_scaled = X_scaler.transform(X_train)\n",
    "X_test_scaled = X_scaler.transform(X_test)"
   ]
  },
  {
   "cell_type": "code",
   "execution_count": 46,
   "metadata": {},
   "outputs": [
    {
     "name": "stdout",
     "output_type": "stream",
     "text": [
      "k: 1, Train/Test Score: 0.995/0.688\n",
      "k: 3, Train/Test Score: 0.836/0.688\n",
      "k: 5, Train/Test Score: 0.794/0.738\n",
      "k: 7, Train/Test Score: 0.789/0.745\n",
      "k: 9, Train/Test Score: 0.775/0.738\n",
      "k: 11, Train/Test Score: 0.775/0.730\n",
      "k: 13, Train/Test Score: 0.768/0.745\n",
      "k: 15, Train/Test Score: 0.768/0.745\n",
      "k: 17, Train/Test Score: 0.751/0.730\n",
      "k: 19, Train/Test Score: 0.746/0.723\n",
      "k: 21, Train/Test Score: 0.746/0.759\n",
      "k: 23, Train/Test Score: 0.756/0.759\n",
      "k: 25, Train/Test Score: 0.756/0.752\n",
      "k: 27, Train/Test Score: 0.763/0.745\n",
      "k: 29, Train/Test Score: 0.756/0.738\n",
      "k: 31, Train/Test Score: 0.746/0.730\n",
      "k: 33, Train/Test Score: 0.746/0.738\n",
      "k: 35, Train/Test Score: 0.727/0.752\n",
      "k: 37, Train/Test Score: 0.732/0.752\n",
      "k: 39, Train/Test Score: 0.735/0.752\n"
     ]
    },
    {
     "data": {
      "image/png": "[encoded data removed]",
      "text/plain": [
       "<Figure size 432x288 with 1 Axes>"
      ]
     },
     "metadata": {
      "needs_background": "light"
     },
     "output_type": "display_data"
    }
   ],
   "source": [
    "train_scores = []\n",
    "test_scores = []\n",
    "for k in range(1, 40, 2):\n",
    "    knn = KNeighborsClassifier(n_neighbors=k)\n",
    "    knn.fit(X_train_scaled, y_train)\n",
    "    train_score = knn.score(X_train_scaled, y_train)\n",
    "    test_score = knn.score(X_test_scaled, y_test)\n",
    "    train_scores.append(train_score)\n",
    "    test_scores.append(test_score)\n",
    "    print(f\"k: {k}, Train/Test Score: {train_score:.3f}/{test_score:.3f}\")\n",
    "    \n",
    "    \n",
    "plt.plot(range(1, 40, 2), train_scores, marker='o')\n",
    "plt.plot(range(1, 40, 2), test_scores, marker=\"x\")\n",
    "plt.xlabel(\"k neighbors\", fontsize=MEDIUM_SIZE)\n",
    "plt.ylabel(\"Testing accuracy Score\", fontsize=MEDIUM_SIZE)\n",
    "plt.axis([0, 40, 0.58, 1.02])\n",
    "plt.title(\"KNN 3b\", fontsize=BIGGER_SIZE)\n",
    "plt.savefig('../static/images/KNN_3b.png')\n",
    "plt.show()"
   ]
  },
  {
   "cell_type": "code",
   "execution_count": 39,
   "metadata": {},
   "outputs": [
    {
     "name": "stdout",
     "output_type": "stream",
     "text": [
      "k=21 Test Acc: 0.759\n"
     ]
    }
   ],
   "source": [
    "knn = KNeighborsClassifier(n_neighbors=21)\n",
    "knn.fit(X_train_scaled, y_train)\n",
    "print('k=21 Test Acc: %.3f' % knn.score(X_test_scaled, y_test))"
   ]
  },
  {
   "cell_type": "code",
   "execution_count": null,
   "metadata": {},
   "outputs": [],
   "source": []
  },
  {
   "cell_type": "code",
   "execution_count": null,
   "metadata": {},
   "outputs": [],
   "source": []
  },
  {
   "cell_type": "code",
   "execution_count": null,
   "metadata": {},
   "outputs": [],
   "source": []
  },
  {
   "cell_type": "code",
   "execution_count": null,
   "metadata": {},
   "outputs": [],
   "source": []
  },
  {
   "cell_type": "code",
   "execution_count": null,
   "metadata": {},
   "outputs": [],
   "source": []
  },
  {
   "cell_type": "code",
   "execution_count": null,
   "metadata": {},
   "outputs": [],
   "source": []
  },
  {
   "cell_type": "markdown",
   "metadata": {},
   "source": [
    "## 4a. KNN, took out Loan_Amount_Term and LoanAmount and also factors less important in Random Forest tests (Combined incomes)"
   ]
  },
  {
   "cell_type": "code",
   "execution_count": 47,
   "metadata": {},
   "outputs": [],
   "source": [
    "target = train_data[\"Loan_Status\"]\n",
    "target_names = [\"Denied\", \"Approved\"]\n",
    "data = train_data.drop([\"Loan_Status\", \"ApplicantIncome\", \"CoapplicantIncome\", 'Self_Employed', 'LoanAmount', 'Education', 'Married', 'Gender', 'Loan_Amount_Term'], axis=1)\n",
    "feature_names = data.columns"
   ]
  },
  {
   "cell_type": "code",
   "execution_count": 48,
   "metadata": {},
   "outputs": [],
   "source": [
    "X_train, X_test, y_train, y_test = train_test_split(data, target, random_state=57)\n",
    "X_scaler = StandardScaler().fit(X_train)\n",
    "X_train_scaled = X_scaler.transform(X_train)\n",
    "X_test_scaled = X_scaler.transform(X_test)"
   ]
  },
  {
   "cell_type": "code",
   "execution_count": 50,
   "metadata": {},
   "outputs": [
    {
     "name": "stdout",
     "output_type": "stream",
     "text": [
      "k: 1, Train/Test Score: 0.995/0.667\n",
      "k: 3, Train/Test Score: 0.834/0.723\n",
      "k: 5, Train/Test Score: 0.787/0.738\n",
      "k: 7, Train/Test Score: 0.777/0.716\n",
      "k: 9, Train/Test Score: 0.782/0.745\n",
      "k: 11, Train/Test Score: 0.777/0.738\n",
      "k: 13, Train/Test Score: 0.775/0.738\n",
      "k: 15, Train/Test Score: 0.775/0.738\n",
      "k: 17, Train/Test Score: 0.775/0.745\n",
      "k: 19, Train/Test Score: 0.775/0.745\n",
      "k: 21, Train/Test Score: 0.770/0.745\n",
      "k: 23, Train/Test Score: 0.773/0.745\n",
      "k: 25, Train/Test Score: 0.775/0.745\n",
      "k: 27, Train/Test Score: 0.768/0.745\n",
      "k: 29, Train/Test Score: 0.770/0.745\n",
      "k: 31, Train/Test Score: 0.773/0.745\n",
      "k: 33, Train/Test Score: 0.773/0.745\n",
      "k: 35, Train/Test Score: 0.773/0.745\n",
      "k: 37, Train/Test Score: 0.773/0.745\n",
      "k: 39, Train/Test Score: 0.773/0.745\n"
     ]
    },
    {
     "data": {
      "image/png": "[encoded data removed]",
      "text/plain": [
       "<Figure size 432x288 with 1 Axes>"
      ]
     },
     "metadata": {
      "needs_background": "light"
     },
     "output_type": "display_data"
    }
   ],
   "source": [
    "train_scores = []\n",
    "test_scores = []\n",
    "for k in range(1, 40, 2):\n",
    "    knn = KNeighborsClassifier(n_neighbors=k)\n",
    "    knn.fit(X_train_scaled, y_train)\n",
    "    train_score = knn.score(X_train_scaled, y_train)\n",
    "    test_score = knn.score(X_test_scaled, y_test)\n",
    "    train_scores.append(train_score)\n",
    "    test_scores.append(test_score)\n",
    "    print(f\"k: {k}, Train/Test Score: {train_score:.3f}/{test_score:.3f}\")\n",
    "    \n",
    "    \n",
    "plt.plot(range(1, 40, 2), train_scores, marker='o')\n",
    "plt.plot(range(1, 40, 2), test_scores, marker=\"x\")\n",
    "plt.xlabel(\"k neighbors\", fontsize=MEDIUM_SIZE)\n",
    "plt.ylabel(\"Testing accuracy Score\", fontsize=MEDIUM_SIZE)\n",
    "plt.axis([0, 40, 0.58, 1.02])\n",
    "plt.title(\"KNN 4a\", fontsize=BIGGER_SIZE)\n",
    "plt.savefig('../static/images/KNN_4a.png')\n",
    "plt.show()"
   ]
  },
  {
   "cell_type": "code",
   "execution_count": 52,
   "metadata": {},
   "outputs": [
    {
     "name": "stdout",
     "output_type": "stream",
     "text": [
      "k=17 Test Acc: 0.745\n"
     ]
    }
   ],
   "source": [
    "knn = KNeighborsClassifier(n_neighbors=17)\n",
    "knn.fit(X_train_scaled, y_train)\n",
    "print('k=17 Test Acc: %.3f' % knn.score(X_test_scaled, y_test))"
   ]
  },
  {
   "cell_type": "markdown",
   "metadata": {},
   "source": [
    "## 4b. KNN, took out Loan_Amount_Term and LoanAmount and also factors less important in Random Forest tests (Applicant and Co-Applicant incomes considered separately)"
   ]
  },
  {
   "cell_type": "code",
   "execution_count": 53,
   "metadata": {},
   "outputs": [],
   "source": [
    "target = train_data[\"Loan_Status\"]\n",
    "target_names = [\"Denied\", \"Approved\"]\n",
    "data = train_data.drop([\"Loan_Status\", \"TotalIncome\", 'Self_Employed', 'LoanAmount', 'Education', 'Gender', 'Married', 'Loan_Amount_Term'], axis=1)\n",
    "feature_names = data.columns"
   ]
  },
  {
   "cell_type": "code",
   "execution_count": 54,
   "metadata": {},
   "outputs": [],
   "source": [
    "X_train, X_test, y_train, y_test = train_test_split(data, target, random_state=57)\n",
    "X_scaler = StandardScaler().fit(X_train)\n",
    "X_train_scaled = X_scaler.transform(X_train)\n",
    "X_test_scaled = X_scaler.transform(X_test)"
   ]
  },
  {
   "cell_type": "code",
   "execution_count": 55,
   "metadata": {},
   "outputs": [
    {
     "name": "stdout",
     "output_type": "stream",
     "text": [
      "k: 1, Train/Test Score: 0.995/0.716\n",
      "k: 3, Train/Test Score: 0.829/0.709\n",
      "k: 5, Train/Test Score: 0.801/0.730\n",
      "k: 7, Train/Test Score: 0.773/0.738\n",
      "k: 9, Train/Test Score: 0.773/0.738\n",
      "k: 11, Train/Test Score: 0.775/0.745\n",
      "k: 13, Train/Test Score: 0.773/0.745\n",
      "k: 15, Train/Test Score: 0.770/0.745\n",
      "k: 17, Train/Test Score: 0.773/0.745\n",
      "k: 19, Train/Test Score: 0.770/0.745\n",
      "k: 21, Train/Test Score: 0.770/0.745\n",
      "k: 23, Train/Test Score: 0.770/0.745\n",
      "k: 25, Train/Test Score: 0.770/0.745\n",
      "k: 27, Train/Test Score: 0.770/0.745\n",
      "k: 29, Train/Test Score: 0.770/0.745\n",
      "k: 31, Train/Test Score: 0.770/0.745\n",
      "k: 33, Train/Test Score: 0.770/0.745\n",
      "k: 35, Train/Test Score: 0.768/0.745\n",
      "k: 37, Train/Test Score: 0.770/0.745\n",
      "k: 39, Train/Test Score: 0.770/0.745\n"
     ]
    },
    {
     "data": {
      "image/png": "[encoded data removed]",
      "text/plain": [
       "<Figure size 432x288 with 1 Axes>"
      ]
     },
     "metadata": {
      "needs_background": "light"
     },
     "output_type": "display_data"
    }
   ],
   "source": [
    "train_scores = []\n",
    "test_scores = []\n",
    "for k in range(1, 40, 2):\n",
    "    knn = KNeighborsClassifier(n_neighbors=k)\n",
    "    knn.fit(X_train_scaled, y_train)\n",
    "    train_score = knn.score(X_train_scaled, y_train)\n",
    "    test_score = knn.score(X_test_scaled, y_test)\n",
    "    train_scores.append(train_score)\n",
    "    test_scores.append(test_score)\n",
    "    print(f\"k: {k}, Train/Test Score: {train_score:.3f}/{test_score:.3f}\")\n",
    "    \n",
    "    \n",
    "plt.plot(range(1, 40, 2), train_scores, marker='o')\n",
    "plt.plot(range(1, 40, 2), test_scores, marker=\"x\")\n",
    "plt.xlabel(\"k neighbors\", fontsize=MEDIUM_SIZE)\n",
    "plt.ylabel(\"Testing accuracy Score\", fontsize=MEDIUM_SIZE)\n",
    "plt.axis([0, 40, 0.58, 1.02])\n",
    "plt.title(\"KNN 4b\", fontsize=BIGGER_SIZE)\n",
    "plt.savefig('../static/images/KNN_4b.png')\n",
    "plt.show()"
   ]
  },
  {
   "cell_type": "code",
   "execution_count": 56,
   "metadata": {},
   "outputs": [
    {
     "name": "stdout",
     "output_type": "stream",
     "text": [
      "k=15 Test Acc: 0.745\n"
     ]
    }
   ],
   "source": [
    "knn = KNeighborsClassifier(n_neighbors=15)\n",
    "knn.fit(X_train_scaled, y_train)\n",
    "print('k=15 Test Acc: %.3f' % knn.score(X_test_scaled, y_test))"
   ]
  },
  {
   "cell_type": "markdown",
   "metadata": {},
   "source": [
    "## 5. KNN, weights = distance, all factors...???"
   ]
  },
  {
   "cell_type": "markdown",
   "metadata": {},
   "source": [
    "weights='distance' : weight points by the inverse of their distance. in this case, closer neighbors of a query point will have a greater influence than neighbors which are further away."
   ]
  },
  {
   "cell_type": "code",
   "execution_count": 28,
   "metadata": {},
   "outputs": [],
   "source": [
    "target = train_data_limit_dummies[\"Loan_Status_Y\"]\n",
    "target_names = [\"Denied\", \"Approved\"]\n",
    "data = train_data_limit_dummies.drop([\"Loan_Status_Y\", \"Loan_ID\"], axis=1)\n",
    "feature_names = data.columns"
   ]
  },
  {
   "cell_type": "code",
   "execution_count": 29,
   "metadata": {},
   "outputs": [
    {
     "data": {
      "text/plain": [
       "array([[ 1.24549836, -0.51318299, -0.58926585, ...,  1.52752523,\n",
       "        -0.78842985, -0.68074565],\n",
       "       [-0.75173732, -0.30100616,  0.22454126, ...,  1.52752523,\n",
       "        -0.78842985, -0.68074565],\n",
       "       [-0.75173732, -0.46545932,  0.82555875, ...,  1.52752523,\n",
       "        -0.78842985, -0.68074565],\n",
       "       ...,\n",
       "       [ 0.24688052,  0.81405076,  0.86328741, ..., -0.65465367,\n",
       "        -0.78842985,  1.46897745],\n",
       "       [-0.75173732, -0.2070099 ,  0.28075696, ..., -0.65465367,\n",
       "         1.26834366, -0.68074565],\n",
       "       [ 1.24549836,  0.07594628, -0.58926585, ..., -0.65465367,\n",
       "         1.26834366, -0.68074565]])"
      ]
     },
     "execution_count": 29,
     "metadata": {},
     "output_type": "execute_result"
    }
   ],
   "source": [
    "X_train, X_test, y_train, y_test = train_test_split(data, target, random_state=57)\n",
    "X_scaler = StandardScaler().fit(X_train)\n",
    "X_train_scaled = X_scaler.transform(X_train)\n",
    "X_test_scaled = X_scaler.transform(X_test)\n",
    "X_test_scaled"
   ]
  },
  {
   "cell_type": "code",
   "execution_count": 30,
   "metadata": {},
   "outputs": [
    {
     "name": "stdout",
     "output_type": "stream",
     "text": [
      "k: 1, Train/Test Score: 1.000/0.700\n",
      "k: 3, Train/Test Score: 1.000/0.767\n",
      "k: 5, Train/Test Score: 1.000/0.783\n",
      "k: 7, Train/Test Score: 1.000/0.792\n",
      "k: 9, Train/Test Score: 1.000/0.775\n",
      "k: 11, Train/Test Score: 1.000/0.775\n",
      "k: 13, Train/Test Score: 1.000/0.775\n",
      "k: 15, Train/Test Score: 1.000/0.775\n",
      "k: 17, Train/Test Score: 1.000/0.775\n",
      "k: 19, Train/Test Score: 1.000/0.767\n",
      "k: 21, Train/Test Score: 1.000/0.775\n",
      "k: 23, Train/Test Score: 1.000/0.767\n",
      "k: 25, Train/Test Score: 1.000/0.767\n",
      "k: 27, Train/Test Score: 1.000/0.767\n",
      "k: 29, Train/Test Score: 1.000/0.767\n",
      "k: 31, Train/Test Score: 1.000/0.758\n",
      "k: 33, Train/Test Score: 1.000/0.758\n",
      "k: 35, Train/Test Score: 1.000/0.758\n",
      "k: 37, Train/Test Score: 1.000/0.767\n",
      "k: 39, Train/Test Score: 1.000/0.750\n"
     ]
    },
    {
     "data": {
      "image/png": "[encoded data removed]",
      "text/plain": [
       "<Figure size 432x288 with 1 Axes>"
      ]
     },
     "metadata": {
      "needs_background": "light"
     },
     "output_type": "display_data"
    }
   ],
   "source": [
    "# Loop through different k values to see which has the highest accuracy\n",
    "# Note: We only use odd numbers because we don't want any ties\n",
    "train_scores = []\n",
    "test_scores = []\n",
    "for k in range(1, 40, 2):\n",
    "    knn = KNeighborsClassifier(n_neighbors=k, weights='distance')\n",
    "    knn.fit(X_train_scaled, y_train)\n",
    "    train_score = knn.score(X_train_scaled, y_train)\n",
    "    test_score = knn.score(X_test_scaled, y_test)\n",
    "    train_scores.append(train_score)\n",
    "    test_scores.append(test_score)\n",
    "    print(f\"k: {k}, Train/Test Score: {train_score:.3f}/{test_score:.3f}\")\n",
    "    \n",
    "    \n",
    "plt.plot(range(1, 40, 2), train_scores, marker='o')\n",
    "plt.plot(range(1, 40, 2), test_scores, marker=\"x\")\n",
    "plt.xlabel(\"k neighbors\", fontsize=MEDIUM_SIZE)\n",
    "plt.ylabel(\"Testing accuracy Score\", fontsize=MEDIUM_SIZE)\n",
    "plt.axis([0, 40, 0.58, 1.02])\n",
    "plt.title(\"KNN 5\")\n",
    "plt.savefig('static/model_images/KNN_5.png')\n",
    "plt.show()\n",
    "\n",
    "#?? Something has to be done differently..."
   ]
  },
  {
   "cell_type": "code",
   "execution_count": null,
   "metadata": {},
   "outputs": [],
   "source": []
  },
  {
   "cell_type": "code",
   "execution_count": null,
   "metadata": {},
   "outputs": [],
   "source": []
  },
  {
   "cell_type": "code",
   "execution_count": null,
   "metadata": {},
   "outputs": [],
   "source": []
  },
  {
   "cell_type": "code",
   "execution_count": null,
   "metadata": {},
   "outputs": [],
   "source": []
  }
 ],
 "metadata": {
  "kernelspec": {
   "display_name": "Python 3",
   "language": "python",
   "name": "python3"
  },
  "language_info": {
   "codemirror_mode": {
    "name": "ipython",
    "version": 3
   },
   "file_extension": ".py",
   "mimetype": "text/x-python",
   "name": "python",
   "nbconvert_exporter": "python",
   "pygments_lexer": "ipython3",
   "version": "3.6.10"
  }
 },
 "nbformat": 4,
 "nbformat_minor": 4
}
