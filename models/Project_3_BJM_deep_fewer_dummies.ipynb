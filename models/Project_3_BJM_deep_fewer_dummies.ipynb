{
 "cells": [
  {
   "cell_type": "markdown",
   "metadata": {},
   "source": [
    "## Import some dependencies"
   ]
  },
  {
   "cell_type": "code",
   "execution_count": 1,
   "metadata": {},
   "outputs": [
    {
     "data": {
      "text/plain": [
       "array([4.17022005e-01, 7.20324493e-01, 1.14374817e-04])"
      ]
     },
     "execution_count": 1,
     "metadata": {},
     "output_type": "execute_result"
    }
   ],
   "source": [
    "# Set the seed value for the notebook so the results are reproducible\n",
    "import numpy as np\n",
    "from numpy.random import seed\n",
    "seed(1)\n",
    "#wanted to take a look\n",
    "np.random.rand(3)"
   ]
  },
  {
   "cell_type": "code",
   "execution_count": 2,
   "metadata": {},
   "outputs": [],
   "source": [
    "import pandas as pd\n",
    "import os"
   ]
  },
  {
   "cell_type": "code",
   "execution_count": 3,
   "metadata": {},
   "outputs": [
    {
     "data": {
      "text/plain": [
       "'2.2.4-tf'"
      ]
     },
     "execution_count": 3,
     "metadata": {},
     "output_type": "execute_result"
    }
   ],
   "source": [
    "import tensorflow\n",
    "tensorflow.keras.__version__"
   ]
  },
  {
   "cell_type": "markdown",
   "metadata": {},
   "source": [
    "Setting up multiworker runs would be a bit more work here, see: https://www.tensorflow.org/tutorials/distribute/multi_worker_with_keras"
   ]
  },
  {
   "cell_type": "markdown",
   "metadata": {},
   "source": [
    "## Read in and clean up data"
   ]
  },
  {
   "cell_type": "code",
   "execution_count": 4,
   "metadata": {},
   "outputs": [],
   "source": [
    "test_data_orig = pd.read_csv(os.path.join('data', 'loanDataTest.csv'))\n",
    "pd.set_option('display.max_columns', None)\n",
    "#test_data_orig"
   ]
  },
  {
   "cell_type": "code",
   "execution_count": 5,
   "metadata": {},
   "outputs": [],
   "source": [
    "train_data_orig = pd.read_csv(os.path.join('data', 'loanDataTrain.csv'))\n",
    "pd.set_option('display.max_columns', None)\n",
    "#train_data_orig"
   ]
  },
  {
   "cell_type": "code",
   "execution_count": 6,
   "metadata": {},
   "outputs": [],
   "source": [
    "#Check values in test and train sets\n",
    "test_Gender = test_data_orig.Gender.unique()\n",
    "train_Gender = train_data_orig.Gender.unique()\n",
    "test_Dependents = test_data_orig.Dependents.unique()\n",
    "train_Dependents = train_data_orig.Dependents.unique()\n",
    "test_Education = test_data_orig.Education.unique()\n",
    "train_Education = train_data_orig.Education.unique()\n",
    "test_Self_Employed = test_data_orig.Self_Employed.unique()\n",
    "train_Self_Employed = train_data_orig.Self_Employed.unique()\n",
    "test_ApplicantIncome = test_data_orig.ApplicantIncome.unique()\n",
    "train_ApplicantIncome = train_data_orig.ApplicantIncome.unique()\n",
    "test_CoapplicantIncome = test_data_orig.CoapplicantIncome.unique()\n",
    "train_CoapplicantIncome = train_data_orig.CoapplicantIncome.unique()\n",
    "test_LoanAmount = test_data_orig.LoanAmount.unique()\n",
    "train_LoanAmount = train_data_orig.LoanAmount.unique()\n",
    "test_Loan_Amount_Term = test_data_orig.Loan_Amount_Term.unique()\n",
    "train_Loan_Amount_Term = train_data_orig.Loan_Amount_Term.unique()\n",
    "test_Credit_History = test_data_orig.Credit_History.unique()\n",
    "train_Credit_History = train_data_orig.Credit_History.unique()\n",
    "test_Property_Area = test_data_orig.Property_Area.unique()\n",
    "train_Property_Area = train_data_orig.Property_Area.unique()\n",
    "\n",
    "train_Loan_Status = train_data_orig.Loan_Status.unique()\n",
    "\n",
    "#Print out values\n",
    "#test_Gender, train_Gender, test_Dependents, train_Dependents, test_Education, train_Education, test_Self_Employed, train_Self_Employed, test_ApplicantIncome, train_ApplicantIncome, test_CoapplicantIncome, train_CoapplicantIncome, test_LoanAmount, train_LoanAmount, test_Loan_Amount_Term, train_Loan_Amount_Term, test_Credit_History, train_Credit_History, test_Property_Area, train_Property_Area, train_Loan_Status"
   ]
  },
  {
   "cell_type": "code",
   "execution_count": 7,
   "metadata": {},
   "outputs": [
    {
     "data": {
      "text/plain": [
       "(array(['Male', 'Female'], dtype=object),\n",
       " array(['Male', 'Female'], dtype=object),\n",
       " array(['0', '1', '2', '3+'], dtype=object),\n",
       " array(['1', '0', '2', '3+'], dtype=object),\n",
       " array(['Graduate', 'Not Graduate'], dtype=object),\n",
       " array(['Graduate', 'Not Graduate'], dtype=object),\n",
       " array(['No', 'Yes'], dtype=object),\n",
       " array(['No', 'Yes'], dtype=object),\n",
       " array([360., 120., 180.,  60., 300., 480., 240.,  36.,  84.]),\n",
       " array([1., 0.]),\n",
       " array([1., 0.]),\n",
       " array(['Urban', 'Semiurban', 'Rural'], dtype=object),\n",
       " array(['Rural', 'Urban', 'Semiurban'], dtype=object),\n",
       " array(['N', 'Y'], dtype=object))"
      ]
     },
     "execution_count": 7,
     "metadata": {},
     "output_type": "execute_result"
    }
   ],
   "source": [
    "#drop nans\n",
    "test_data = test_data_orig.dropna(axis=0)\n",
    "train_data_pre_dummy = train_data_orig.dropna(axis=0)\n",
    "\n",
    "test_Gender = test_data.Gender.unique()\n",
    "train_Gender = train_data_pre_dummy.Gender.unique()\n",
    "test_Dependents = test_data.Dependents.unique()\n",
    "train_Dependents = train_data_pre_dummy.Dependents.unique()\n",
    "test_Education = test_data.Education.unique()\n",
    "train_Education = train_data_pre_dummy.Education.unique()\n",
    "test_Self_Employed = test_data.Self_Employed.unique()\n",
    "train_Self_Employed = train_data_pre_dummy.Self_Employed.unique()\n",
    "test_ApplicantIncome = test_data.ApplicantIncome.unique()\n",
    "train_ApplicantIncome = train_data_pre_dummy.ApplicantIncome.unique()\n",
    "test_CoapplicantIncome = test_data.CoapplicantIncome.unique()\n",
    "train_CoapplicantIncome = train_data_pre_dummy.CoapplicantIncome.unique()\n",
    "test_LoanAmount = test_data.LoanAmount.unique()\n",
    "train_LoanAmount = train_data_pre_dummy.LoanAmount.unique()\n",
    "test_Loan_Amount_Term = test_data.Loan_Amount_Term.unique()\n",
    "train_Loan_Amount_Term = train_data_pre_dummy.Loan_Amount_Term.unique()\n",
    "test_Credit_History = test_data.Credit_History.unique()\n",
    "train_Credit_History = train_data_pre_dummy.Credit_History.unique()\n",
    "test_Property_Area = test_data.Property_Area.unique()\n",
    "train_Property_Area = train_data_pre_dummy.Property_Area.unique()\n",
    "\n",
    "train_Loan_Status = train_data_pre_dummy.Loan_Status.unique()\n",
    "\n",
    "#Print out categorical values\n",
    "test_Gender, train_Gender, test_Dependents, train_Dependents, test_Education, train_Education, test_Self_Employed, train_Self_Employed, train_Loan_Amount_Term, test_Credit_History, train_Credit_History, test_Property_Area, train_Property_Area, train_Loan_Status"
   ]
  },
  {
   "cell_type": "code",
   "execution_count": 8,
   "metadata": {},
   "outputs": [
    {
     "data": {
      "text/html": [
       "<div>\n",
       "<style scoped>\n",
       "    .dataframe tbody tr th:only-of-type {\n",
       "        vertical-align: middle;\n",
       "    }\n",
       "\n",
       "    .dataframe tbody tr th {\n",
       "        vertical-align: top;\n",
       "    }\n",
       "\n",
       "    .dataframe thead th {\n",
       "        text-align: right;\n",
       "    }\n",
       "</style>\n",
       "<table border=\"1\" class=\"dataframe\">\n",
       "  <thead>\n",
       "    <tr style=\"text-align: right;\">\n",
       "      <th></th>\n",
       "      <th>Loan_ID</th>\n",
       "      <th>Gender</th>\n",
       "      <th>Married</th>\n",
       "      <th>Dependents</th>\n",
       "      <th>Education</th>\n",
       "      <th>Self_Employed</th>\n",
       "      <th>ApplicantIncome</th>\n",
       "      <th>CoapplicantIncome</th>\n",
       "      <th>LoanAmount</th>\n",
       "      <th>Loan_Amount_Term</th>\n",
       "      <th>Credit_History</th>\n",
       "      <th>Property_Area</th>\n",
       "      <th>Loan_Status_Y</th>\n",
       "    </tr>\n",
       "  </thead>\n",
       "  <tbody>\n",
       "    <tr>\n",
       "      <th>1</th>\n",
       "      <td>LP001003</td>\n",
       "      <td>Male</td>\n",
       "      <td>Yes</td>\n",
       "      <td>1</td>\n",
       "      <td>Graduate</td>\n",
       "      <td>No</td>\n",
       "      <td>4583</td>\n",
       "      <td>1508.0</td>\n",
       "      <td>128.0</td>\n",
       "      <td>360.0</td>\n",
       "      <td>1.0</td>\n",
       "      <td>Rural</td>\n",
       "      <td>0</td>\n",
       "    </tr>\n",
       "    <tr>\n",
       "      <th>2</th>\n",
       "      <td>LP001005</td>\n",
       "      <td>Male</td>\n",
       "      <td>Yes</td>\n",
       "      <td>0</td>\n",
       "      <td>Graduate</td>\n",
       "      <td>Yes</td>\n",
       "      <td>3000</td>\n",
       "      <td>0.0</td>\n",
       "      <td>66.0</td>\n",
       "      <td>360.0</td>\n",
       "      <td>1.0</td>\n",
       "      <td>Urban</td>\n",
       "      <td>1</td>\n",
       "    </tr>\n",
       "    <tr>\n",
       "      <th>3</th>\n",
       "      <td>LP001006</td>\n",
       "      <td>Male</td>\n",
       "      <td>Yes</td>\n",
       "      <td>0</td>\n",
       "      <td>Not Graduate</td>\n",
       "      <td>No</td>\n",
       "      <td>2583</td>\n",
       "      <td>2358.0</td>\n",
       "      <td>120.0</td>\n",
       "      <td>360.0</td>\n",
       "      <td>1.0</td>\n",
       "      <td>Urban</td>\n",
       "      <td>1</td>\n",
       "    </tr>\n",
       "    <tr>\n",
       "      <th>4</th>\n",
       "      <td>LP001008</td>\n",
       "      <td>Male</td>\n",
       "      <td>No</td>\n",
       "      <td>0</td>\n",
       "      <td>Graduate</td>\n",
       "      <td>No</td>\n",
       "      <td>6000</td>\n",
       "      <td>0.0</td>\n",
       "      <td>141.0</td>\n",
       "      <td>360.0</td>\n",
       "      <td>1.0</td>\n",
       "      <td>Urban</td>\n",
       "      <td>1</td>\n",
       "    </tr>\n",
       "    <tr>\n",
       "      <th>5</th>\n",
       "      <td>LP001011</td>\n",
       "      <td>Male</td>\n",
       "      <td>Yes</td>\n",
       "      <td>2</td>\n",
       "      <td>Graduate</td>\n",
       "      <td>Yes</td>\n",
       "      <td>5417</td>\n",
       "      <td>4196.0</td>\n",
       "      <td>267.0</td>\n",
       "      <td>360.0</td>\n",
       "      <td>1.0</td>\n",
       "      <td>Urban</td>\n",
       "      <td>1</td>\n",
       "    </tr>\n",
       "    <tr>\n",
       "      <th>...</th>\n",
       "      <td>...</td>\n",
       "      <td>...</td>\n",
       "      <td>...</td>\n",
       "      <td>...</td>\n",
       "      <td>...</td>\n",
       "      <td>...</td>\n",
       "      <td>...</td>\n",
       "      <td>...</td>\n",
       "      <td>...</td>\n",
       "      <td>...</td>\n",
       "      <td>...</td>\n",
       "      <td>...</td>\n",
       "      <td>...</td>\n",
       "    </tr>\n",
       "    <tr>\n",
       "      <th>609</th>\n",
       "      <td>LP002978</td>\n",
       "      <td>Female</td>\n",
       "      <td>No</td>\n",
       "      <td>0</td>\n",
       "      <td>Graduate</td>\n",
       "      <td>No</td>\n",
       "      <td>2900</td>\n",
       "      <td>0.0</td>\n",
       "      <td>71.0</td>\n",
       "      <td>360.0</td>\n",
       "      <td>1.0</td>\n",
       "      <td>Rural</td>\n",
       "      <td>1</td>\n",
       "    </tr>\n",
       "    <tr>\n",
       "      <th>610</th>\n",
       "      <td>LP002979</td>\n",
       "      <td>Male</td>\n",
       "      <td>Yes</td>\n",
       "      <td>3+</td>\n",
       "      <td>Graduate</td>\n",
       "      <td>No</td>\n",
       "      <td>4106</td>\n",
       "      <td>0.0</td>\n",
       "      <td>40.0</td>\n",
       "      <td>180.0</td>\n",
       "      <td>1.0</td>\n",
       "      <td>Rural</td>\n",
       "      <td>1</td>\n",
       "    </tr>\n",
       "    <tr>\n",
       "      <th>611</th>\n",
       "      <td>LP002983</td>\n",
       "      <td>Male</td>\n",
       "      <td>Yes</td>\n",
       "      <td>1</td>\n",
       "      <td>Graduate</td>\n",
       "      <td>No</td>\n",
       "      <td>8072</td>\n",
       "      <td>240.0</td>\n",
       "      <td>253.0</td>\n",
       "      <td>360.0</td>\n",
       "      <td>1.0</td>\n",
       "      <td>Urban</td>\n",
       "      <td>1</td>\n",
       "    </tr>\n",
       "    <tr>\n",
       "      <th>612</th>\n",
       "      <td>LP002984</td>\n",
       "      <td>Male</td>\n",
       "      <td>Yes</td>\n",
       "      <td>2</td>\n",
       "      <td>Graduate</td>\n",
       "      <td>No</td>\n",
       "      <td>7583</td>\n",
       "      <td>0.0</td>\n",
       "      <td>187.0</td>\n",
       "      <td>360.0</td>\n",
       "      <td>1.0</td>\n",
       "      <td>Urban</td>\n",
       "      <td>1</td>\n",
       "    </tr>\n",
       "    <tr>\n",
       "      <th>613</th>\n",
       "      <td>LP002990</td>\n",
       "      <td>Female</td>\n",
       "      <td>No</td>\n",
       "      <td>0</td>\n",
       "      <td>Graduate</td>\n",
       "      <td>Yes</td>\n",
       "      <td>4583</td>\n",
       "      <td>0.0</td>\n",
       "      <td>133.0</td>\n",
       "      <td>360.0</td>\n",
       "      <td>0.0</td>\n",
       "      <td>Semiurban</td>\n",
       "      <td>0</td>\n",
       "    </tr>\n",
       "  </tbody>\n",
       "</table>\n",
       "<p>480 rows × 13 columns</p>\n",
       "</div>"
      ],
      "text/plain": [
       "      Loan_ID  Gender Married Dependents     Education Self_Employed  \\\n",
       "1    LP001003    Male     Yes          1      Graduate            No   \n",
       "2    LP001005    Male     Yes          0      Graduate           Yes   \n",
       "3    LP001006    Male     Yes          0  Not Graduate            No   \n",
       "4    LP001008    Male      No          0      Graduate            No   \n",
       "5    LP001011    Male     Yes          2      Graduate           Yes   \n",
       "..        ...     ...     ...        ...           ...           ...   \n",
       "609  LP002978  Female      No          0      Graduate            No   \n",
       "610  LP002979    Male     Yes         3+      Graduate            No   \n",
       "611  LP002983    Male     Yes          1      Graduate            No   \n",
       "612  LP002984    Male     Yes          2      Graduate            No   \n",
       "613  LP002990  Female      No          0      Graduate           Yes   \n",
       "\n",
       "     ApplicantIncome  CoapplicantIncome  LoanAmount  Loan_Amount_Term  \\\n",
       "1               4583             1508.0       128.0             360.0   \n",
       "2               3000                0.0        66.0             360.0   \n",
       "3               2583             2358.0       120.0             360.0   \n",
       "4               6000                0.0       141.0             360.0   \n",
       "5               5417             4196.0       267.0             360.0   \n",
       "..               ...                ...         ...               ...   \n",
       "609             2900                0.0        71.0             360.0   \n",
       "610             4106                0.0        40.0             180.0   \n",
       "611             8072              240.0       253.0             360.0   \n",
       "612             7583                0.0       187.0             360.0   \n",
       "613             4583                0.0       133.0             360.0   \n",
       "\n",
       "     Credit_History Property_Area  Loan_Status_Y  \n",
       "1               1.0         Rural              0  \n",
       "2               1.0         Urban              1  \n",
       "3               1.0         Urban              1  \n",
       "4               1.0         Urban              1  \n",
       "5               1.0         Urban              1  \n",
       "..              ...           ...            ...  \n",
       "609             1.0         Rural              1  \n",
       "610             1.0         Rural              1  \n",
       "611             1.0         Urban              1  \n",
       "612             1.0         Urban              1  \n",
       "613             0.0     Semiurban              0  \n",
       "\n",
       "[480 rows x 13 columns]"
      ]
     },
     "execution_count": 8,
     "metadata": {},
     "output_type": "execute_result"
    }
   ],
   "source": [
    "#Make loan status a dummy variable, drop the \"N\" column\n",
    "train_data = pd.get_dummies(train_data_pre_dummy, prefix=['Loan_Status'], columns=['Loan_Status'])\n",
    "train_data.drop('Loan_Status_N', axis=1, inplace=True)\n",
    "train_data"
   ]
  },
  {
   "cell_type": "code",
   "execution_count": 9,
   "metadata": {},
   "outputs": [],
   "source": [
    "#Replace \"3+\" in dependents with \"3\" - not perfect, but easier to deal with\n",
    "train_data = train_data.replace(['3+'],'3')\n",
    "test_data = test_data.replace(['3+'],'3')"
   ]
  },
  {
   "cell_type": "code",
   "execution_count": 10,
   "metadata": {},
   "outputs": [
    {
     "data": {
      "text/html": [
       "<div>\n",
       "<style scoped>\n",
       "    .dataframe tbody tr th:only-of-type {\n",
       "        vertical-align: middle;\n",
       "    }\n",
       "\n",
       "    .dataframe tbody tr th {\n",
       "        vertical-align: top;\n",
       "    }\n",
       "\n",
       "    .dataframe thead th {\n",
       "        text-align: right;\n",
       "    }\n",
       "</style>\n",
       "<table border=\"1\" class=\"dataframe\">\n",
       "  <thead>\n",
       "    <tr style=\"text-align: right;\">\n",
       "      <th></th>\n",
       "      <th>Loan_ID</th>\n",
       "      <th>Dependents</th>\n",
       "      <th>ApplicantIncome</th>\n",
       "      <th>CoapplicantIncome</th>\n",
       "      <th>LoanAmount</th>\n",
       "      <th>Loan_Amount_Term</th>\n",
       "      <th>Loan_Status_Y</th>\n",
       "      <th>Gender_Female</th>\n",
       "      <th>Education_Graduate</th>\n",
       "      <th>Married_Yes</th>\n",
       "      <th>Self_Employed_Yes</th>\n",
       "      <th>Credit_History_1.0</th>\n",
       "      <th>Property_Area_Rural</th>\n",
       "      <th>Property_Area_Semiurban</th>\n",
       "      <th>Property_Area_Urban</th>\n",
       "    </tr>\n",
       "  </thead>\n",
       "  <tbody>\n",
       "    <tr>\n",
       "      <th>1</th>\n",
       "      <td>LP001003</td>\n",
       "      <td>1</td>\n",
       "      <td>4583</td>\n",
       "      <td>1508.0</td>\n",
       "      <td>128.0</td>\n",
       "      <td>360.0</td>\n",
       "      <td>0</td>\n",
       "      <td>0</td>\n",
       "      <td>1</td>\n",
       "      <td>1</td>\n",
       "      <td>0</td>\n",
       "      <td>1</td>\n",
       "      <td>1</td>\n",
       "      <td>0</td>\n",
       "      <td>0</td>\n",
       "    </tr>\n",
       "    <tr>\n",
       "      <th>2</th>\n",
       "      <td>LP001005</td>\n",
       "      <td>0</td>\n",
       "      <td>3000</td>\n",
       "      <td>0.0</td>\n",
       "      <td>66.0</td>\n",
       "      <td>360.0</td>\n",
       "      <td>1</td>\n",
       "      <td>0</td>\n",
       "      <td>1</td>\n",
       "      <td>1</td>\n",
       "      <td>1</td>\n",
       "      <td>1</td>\n",
       "      <td>0</td>\n",
       "      <td>0</td>\n",
       "      <td>1</td>\n",
       "    </tr>\n",
       "    <tr>\n",
       "      <th>3</th>\n",
       "      <td>LP001006</td>\n",
       "      <td>0</td>\n",
       "      <td>2583</td>\n",
       "      <td>2358.0</td>\n",
       "      <td>120.0</td>\n",
       "      <td>360.0</td>\n",
       "      <td>1</td>\n",
       "      <td>0</td>\n",
       "      <td>0</td>\n",
       "      <td>1</td>\n",
       "      <td>0</td>\n",
       "      <td>1</td>\n",
       "      <td>0</td>\n",
       "      <td>0</td>\n",
       "      <td>1</td>\n",
       "    </tr>\n",
       "    <tr>\n",
       "      <th>4</th>\n",
       "      <td>LP001008</td>\n",
       "      <td>0</td>\n",
       "      <td>6000</td>\n",
       "      <td>0.0</td>\n",
       "      <td>141.0</td>\n",
       "      <td>360.0</td>\n",
       "      <td>1</td>\n",
       "      <td>0</td>\n",
       "      <td>1</td>\n",
       "      <td>0</td>\n",
       "      <td>0</td>\n",
       "      <td>1</td>\n",
       "      <td>0</td>\n",
       "      <td>0</td>\n",
       "      <td>1</td>\n",
       "    </tr>\n",
       "    <tr>\n",
       "      <th>5</th>\n",
       "      <td>LP001011</td>\n",
       "      <td>2</td>\n",
       "      <td>5417</td>\n",
       "      <td>4196.0</td>\n",
       "      <td>267.0</td>\n",
       "      <td>360.0</td>\n",
       "      <td>1</td>\n",
       "      <td>0</td>\n",
       "      <td>1</td>\n",
       "      <td>1</td>\n",
       "      <td>1</td>\n",
       "      <td>1</td>\n",
       "      <td>0</td>\n",
       "      <td>0</td>\n",
       "      <td>1</td>\n",
       "    </tr>\n",
       "    <tr>\n",
       "      <th>...</th>\n",
       "      <td>...</td>\n",
       "      <td>...</td>\n",
       "      <td>...</td>\n",
       "      <td>...</td>\n",
       "      <td>...</td>\n",
       "      <td>...</td>\n",
       "      <td>...</td>\n",
       "      <td>...</td>\n",
       "      <td>...</td>\n",
       "      <td>...</td>\n",
       "      <td>...</td>\n",
       "      <td>...</td>\n",
       "      <td>...</td>\n",
       "      <td>...</td>\n",
       "      <td>...</td>\n",
       "    </tr>\n",
       "    <tr>\n",
       "      <th>609</th>\n",
       "      <td>LP002978</td>\n",
       "      <td>0</td>\n",
       "      <td>2900</td>\n",
       "      <td>0.0</td>\n",
       "      <td>71.0</td>\n",
       "      <td>360.0</td>\n",
       "      <td>1</td>\n",
       "      <td>1</td>\n",
       "      <td>1</td>\n",
       "      <td>0</td>\n",
       "      <td>0</td>\n",
       "      <td>1</td>\n",
       "      <td>1</td>\n",
       "      <td>0</td>\n",
       "      <td>0</td>\n",
       "    </tr>\n",
       "    <tr>\n",
       "      <th>610</th>\n",
       "      <td>LP002979</td>\n",
       "      <td>3</td>\n",
       "      <td>4106</td>\n",
       "      <td>0.0</td>\n",
       "      <td>40.0</td>\n",
       "      <td>180.0</td>\n",
       "      <td>1</td>\n",
       "      <td>0</td>\n",
       "      <td>1</td>\n",
       "      <td>1</td>\n",
       "      <td>0</td>\n",
       "      <td>1</td>\n",
       "      <td>1</td>\n",
       "      <td>0</td>\n",
       "      <td>0</td>\n",
       "    </tr>\n",
       "    <tr>\n",
       "      <th>611</th>\n",
       "      <td>LP002983</td>\n",
       "      <td>1</td>\n",
       "      <td>8072</td>\n",
       "      <td>240.0</td>\n",
       "      <td>253.0</td>\n",
       "      <td>360.0</td>\n",
       "      <td>1</td>\n",
       "      <td>0</td>\n",
       "      <td>1</td>\n",
       "      <td>1</td>\n",
       "      <td>0</td>\n",
       "      <td>1</td>\n",
       "      <td>0</td>\n",
       "      <td>0</td>\n",
       "      <td>1</td>\n",
       "    </tr>\n",
       "    <tr>\n",
       "      <th>612</th>\n",
       "      <td>LP002984</td>\n",
       "      <td>2</td>\n",
       "      <td>7583</td>\n",
       "      <td>0.0</td>\n",
       "      <td>187.0</td>\n",
       "      <td>360.0</td>\n",
       "      <td>1</td>\n",
       "      <td>0</td>\n",
       "      <td>1</td>\n",
       "      <td>1</td>\n",
       "      <td>0</td>\n",
       "      <td>1</td>\n",
       "      <td>0</td>\n",
       "      <td>0</td>\n",
       "      <td>1</td>\n",
       "    </tr>\n",
       "    <tr>\n",
       "      <th>613</th>\n",
       "      <td>LP002990</td>\n",
       "      <td>0</td>\n",
       "      <td>4583</td>\n",
       "      <td>0.0</td>\n",
       "      <td>133.0</td>\n",
       "      <td>360.0</td>\n",
       "      <td>0</td>\n",
       "      <td>1</td>\n",
       "      <td>1</td>\n",
       "      <td>0</td>\n",
       "      <td>1</td>\n",
       "      <td>0</td>\n",
       "      <td>0</td>\n",
       "      <td>1</td>\n",
       "      <td>0</td>\n",
       "    </tr>\n",
       "  </tbody>\n",
       "</table>\n",
       "<p>480 rows × 15 columns</p>\n",
       "</div>"
      ],
      "text/plain": [
       "      Loan_ID Dependents  ApplicantIncome  CoapplicantIncome  LoanAmount  \\\n",
       "1    LP001003          1             4583             1508.0       128.0   \n",
       "2    LP001005          0             3000                0.0        66.0   \n",
       "3    LP001006          0             2583             2358.0       120.0   \n",
       "4    LP001008          0             6000                0.0       141.0   \n",
       "5    LP001011          2             5417             4196.0       267.0   \n",
       "..        ...        ...              ...                ...         ...   \n",
       "609  LP002978          0             2900                0.0        71.0   \n",
       "610  LP002979          3             4106                0.0        40.0   \n",
       "611  LP002983          1             8072              240.0       253.0   \n",
       "612  LP002984          2             7583                0.0       187.0   \n",
       "613  LP002990          0             4583                0.0       133.0   \n",
       "\n",
       "     Loan_Amount_Term  Loan_Status_Y  Gender_Female  Education_Graduate  \\\n",
       "1               360.0              0              0                   1   \n",
       "2               360.0              1              0                   1   \n",
       "3               360.0              1              0                   0   \n",
       "4               360.0              1              0                   1   \n",
       "5               360.0              1              0                   1   \n",
       "..                ...            ...            ...                 ...   \n",
       "609             360.0              1              1                   1   \n",
       "610             180.0              1              0                   1   \n",
       "611             360.0              1              0                   1   \n",
       "612             360.0              1              0                   1   \n",
       "613             360.0              0              1                   1   \n",
       "\n",
       "     Married_Yes  Self_Employed_Yes  Credit_History_1.0  Property_Area_Rural  \\\n",
       "1              1                  0                   1                    1   \n",
       "2              1                  1                   1                    0   \n",
       "3              1                  0                   1                    0   \n",
       "4              0                  0                   1                    0   \n",
       "5              1                  1                   1                    0   \n",
       "..           ...                ...                 ...                  ...   \n",
       "609            0                  0                   1                    1   \n",
       "610            1                  0                   1                    1   \n",
       "611            1                  0                   1                    0   \n",
       "612            1                  0                   1                    0   \n",
       "613            0                  1                   0                    0   \n",
       "\n",
       "     Property_Area_Semiurban  Property_Area_Urban  \n",
       "1                          0                    0  \n",
       "2                          0                    1  \n",
       "3                          0                    1  \n",
       "4                          0                    1  \n",
       "5                          0                    1  \n",
       "..                       ...                  ...  \n",
       "609                        0                    0  \n",
       "610                        0                    0  \n",
       "611                        0                    1  \n",
       "612                        0                    1  \n",
       "613                        1                    0  \n",
       "\n",
       "[480 rows x 15 columns]"
      ]
     },
     "execution_count": 10,
     "metadata": {},
     "output_type": "execute_result"
    }
   ],
   "source": [
    "#Limited dummy variables\n",
    "train_data_limit_dummies = pd.get_dummies(train_data, prefix=['Gender'], columns=['Gender'])\n",
    "train_data_limit_dummies.drop('Gender_Male', axis=1, inplace=True)\n",
    "test_data_limit_dummies = pd.get_dummies(test_data, prefix=['Gender'], columns=['Gender'])\n",
    "test_data_limit_dummies.drop('Gender_Male', axis=1, inplace=True)\n",
    "train_data_limit_dummies = pd.get_dummies(train_data_limit_dummies, prefix=['Education'], columns=['Education'])\n",
    "train_data_limit_dummies.drop('Education_Not Graduate', axis=1, inplace=True)\n",
    "test_data_limit_dummies = pd.get_dummies(test_data_limit_dummies, prefix=['Education'], columns=['Education'])\n",
    "test_data_limit_dummies.drop('Education_Not Graduate', axis=1, inplace=True)\n",
    "train_data_limit_dummies = pd.get_dummies(train_data_limit_dummies, prefix=['Married'], columns=['Married'])\n",
    "train_data_limit_dummies.drop('Married_No', axis=1, inplace=True)\n",
    "test_data_limit_dummies = pd.get_dummies(test_data_limit_dummies, prefix=['Married'], columns=['Married'])\n",
    "test_data_limit_dummies.drop('Married_No', axis=1, inplace=True)\n",
    "train_data_limit_dummies = pd.get_dummies(train_data_limit_dummies, prefix=['Self_Employed'], columns=['Self_Employed'])\n",
    "train_data_limit_dummies.drop('Self_Employed_No', axis=1, inplace=True)\n",
    "test_data_limit_dummies = pd.get_dummies(test_data_limit_dummies, prefix=['Self_Employed'], columns=['Self_Employed'])\n",
    "test_data_limit_dummies.drop('Self_Employed_No', axis=1, inplace=True)\n",
    "train_data_limit_dummies = pd.get_dummies(train_data_limit_dummies, prefix=['Credit_History'], columns=['Credit_History'])\n",
    "train_data_limit_dummies.drop('Credit_History_0.0', axis=1, inplace=True)\n",
    "test_data_limit_dummies = pd.get_dummies(test_data_limit_dummies, prefix=['Credit_History'], columns=['Credit_History'])\n",
    "test_data_limit_dummies.drop('Credit_History_0.0', axis=1, inplace=True)\n",
    "\n",
    "train_data_limit_dummies = pd.get_dummies(train_data_limit_dummies, prefix=['Property_Area'], columns=['Property_Area'])\n",
    "test_data_limit_dummies = pd.get_dummies(test_data_limit_dummies, prefix=['Property_Area'], columns=['Property_Area'])\n",
    "\n",
    "train_data_limit_dummies"
   ]
  },
  {
   "cell_type": "markdown",
   "metadata": {},
   "source": [
    "## First run: all columns from above"
   ]
  },
  {
   "cell_type": "code",
   "execution_count": 11,
   "metadata": {},
   "outputs": [
    {
     "name": "stdout",
     "output_type": "stream",
     "text": [
      "(480, 13) (480,)\n"
     ]
    }
   ],
   "source": [
    "X = train_data_limit_dummies.drop([\"Loan_Status_Y\", \"Loan_ID\"], axis=1)\n",
    "y = train_data_limit_dummies[\"Loan_Status_Y\"]\n",
    "print(X.shape, y.shape)"
   ]
  },
  {
   "cell_type": "code",
   "execution_count": 12,
   "metadata": {},
   "outputs": [],
   "source": [
    "from sklearn.model_selection import train_test_split\n",
    "from sklearn.preprocessing import LabelEncoder, MinMaxScaler\n",
    "from tensorflow.keras.utils import to_categorical"
   ]
  },
  {
   "cell_type": "code",
   "execution_count": 13,
   "metadata": {},
   "outputs": [],
   "source": [
    "X_train, X_test, y_train, y_test = train_test_split(\n",
    "    X, y, random_state=1)"
   ]
  },
  {
   "cell_type": "code",
   "execution_count": 14,
   "metadata": {},
   "outputs": [],
   "source": [
    "X_scaler = MinMaxScaler().fit(X_train)\n",
    "X_train_scaled = X_scaler.transform(X_train)\n",
    "X_test_scaled = X_scaler.transform(X_test)"
   ]
  },
  {
   "cell_type": "code",
   "execution_count": 15,
   "metadata": {},
   "outputs": [],
   "source": [
    "# Step 1: Label-encode data set\n",
    "label_encoder = LabelEncoder()\n",
    "label_encoder.fit(y_train)\n",
    "encoded_y_train = label_encoder.transform(y_train)\n",
    "encoded_y_test = label_encoder.transform(y_test)"
   ]
  },
  {
   "cell_type": "code",
   "execution_count": 16,
   "metadata": {},
   "outputs": [],
   "source": [
    "# Step 2: Convert encoded labels to one-hot-encoding\n",
    "y_train_categorical = to_categorical(encoded_y_train)\n",
    "y_test_categorical = to_categorical(encoded_y_test)"
   ]
  },
  {
   "cell_type": "code",
   "execution_count": 17,
   "metadata": {},
   "outputs": [],
   "source": [
    "from tensorflow.keras.models import Sequential\n",
    "from tensorflow.keras.layers import Dense"
   ]
  },
  {
   "cell_type": "code",
   "execution_count": 18,
   "metadata": {},
   "outputs": [],
   "source": [
    "# Create model and add layers\n",
    "model = Sequential()\n",
    "model.add(Dense(units=100, activation='relu', input_dim=13))\n",
    "model.add(Dense(units=100, activation='relu'))\n",
    "model.add(Dense(units=2, activation='softmax'))"
   ]
  },
  {
   "cell_type": "code",
   "execution_count": 19,
   "metadata": {},
   "outputs": [],
   "source": [
    "# Compile and fit the model\n",
    "model.compile(optimizer='adam',\n",
    "              loss='categorical_crossentropy',\n",
    "              metrics=['accuracy'])"
   ]
  },
  {
   "cell_type": "code",
   "execution_count": 20,
   "metadata": {},
   "outputs": [
    {
     "name": "stdout",
     "output_type": "stream",
     "text": [
      "Model: \"sequential\"\n",
      "_________________________________________________________________\n",
      "Layer (type)                 Output Shape              Param #   \n",
      "=================================================================\n",
      "dense (Dense)                (None, 100)               1400      \n",
      "_________________________________________________________________\n",
      "dense_1 (Dense)              (None, 100)               10100     \n",
      "_________________________________________________________________\n",
      "dense_2 (Dense)              (None, 2)                 202       \n",
      "=================================================================\n",
      "Total params: 11,702\n",
      "Trainable params: 11,702\n",
      "Non-trainable params: 0\n",
      "_________________________________________________________________\n"
     ]
    }
   ],
   "source": [
    "model.summary()"
   ]
  },
  {
   "cell_type": "code",
   "execution_count": 21,
   "metadata": {},
   "outputs": [
    {
     "name": "stdout",
     "output_type": "stream",
     "text": [
      "Train on 360 samples\n",
      "Epoch 1/60\n",
      "360/360 - 17s - loss: 0.5949 - accuracy: 0.6806\n",
      "Epoch 2/60\n",
      "360/360 - 1s - loss: 0.5350 - accuracy: 0.7111\n",
      "Epoch 3/60\n",
      "360/360 - 1s - loss: 0.5064 - accuracy: 0.7806\n",
      "Epoch 4/60\n",
      "360/360 - 1s - loss: 0.4823 - accuracy: 0.8056\n",
      "Epoch 5/60\n",
      "360/360 - 1s - loss: 0.4579 - accuracy: 0.8139\n",
      "Epoch 6/60\n",
      "360/360 - 1s - loss: 0.4422 - accuracy: 0.8278\n",
      "Epoch 7/60\n",
      "360/360 - 1s - loss: 0.4326 - accuracy: 0.8306\n",
      "Epoch 8/60\n",
      "360/360 - 1s - loss: 0.4251 - accuracy: 0.8306\n",
      "Epoch 9/60\n",
      "360/360 - 1s - loss: 0.4177 - accuracy: 0.8306\n",
      "Epoch 10/60\n",
      "360/360 - 1s - loss: 0.4129 - accuracy: 0.8333\n",
      "Epoch 11/60\n",
      "360/360 - 1s - loss: 0.4111 - accuracy: 0.8306\n",
      "Epoch 12/60\n",
      "360/360 - 1s - loss: 0.4178 - accuracy: 0.8306\n",
      "Epoch 13/60\n",
      "360/360 - 1s - loss: 0.4059 - accuracy: 0.8361\n",
      "Epoch 14/60\n",
      "360/360 - 1s - loss: 0.4035 - accuracy: 0.8361\n",
      "Epoch 15/60\n",
      "360/360 - 1s - loss: 0.3979 - accuracy: 0.8361\n",
      "Epoch 16/60\n",
      "360/360 - 1s - loss: 0.3967 - accuracy: 0.8333\n",
      "Epoch 17/60\n",
      "360/360 - 1s - loss: 0.3910 - accuracy: 0.8278\n",
      "Epoch 18/60\n",
      "360/360 - 1s - loss: 0.3911 - accuracy: 0.8333\n",
      "Epoch 19/60\n",
      "360/360 - 1s - loss: 0.3933 - accuracy: 0.8278\n",
      "Epoch 20/60\n",
      "360/360 - 1s - loss: 0.3860 - accuracy: 0.8361\n",
      "Epoch 21/60\n",
      "360/360 - 1s - loss: 0.3837 - accuracy: 0.8417\n",
      "Epoch 22/60\n",
      "360/360 - 1s - loss: 0.3818 - accuracy: 0.8306\n",
      "Epoch 23/60\n",
      "360/360 - 1s - loss: 0.3777 - accuracy: 0.8361\n",
      "Epoch 24/60\n",
      "360/360 - 1s - loss: 0.3800 - accuracy: 0.8333\n",
      "Epoch 25/60\n",
      "360/360 - 1s - loss: 0.3760 - accuracy: 0.8417\n",
      "Epoch 26/60\n",
      "360/360 - 1s - loss: 0.3740 - accuracy: 0.8417\n",
      "Epoch 27/60\n",
      "360/360 - 1s - loss: 0.3681 - accuracy: 0.8417\n",
      "Epoch 28/60\n",
      "360/360 - 1s - loss: 0.3643 - accuracy: 0.8417\n",
      "Epoch 29/60\n",
      "360/360 - 1s - loss: 0.3648 - accuracy: 0.8500\n",
      "Epoch 30/60\n",
      "360/360 - 1s - loss: 0.3596 - accuracy: 0.8444\n",
      "Epoch 31/60\n",
      "360/360 - 1s - loss: 0.3641 - accuracy: 0.8389\n",
      "Epoch 32/60\n",
      "360/360 - 1s - loss: 0.3588 - accuracy: 0.8389\n",
      "Epoch 33/60\n",
      "360/360 - 1s - loss: 0.3571 - accuracy: 0.8306\n",
      "Epoch 34/60\n",
      "360/360 - 1s - loss: 0.3521 - accuracy: 0.8528\n",
      "Epoch 35/60\n",
      "360/360 - 1s - loss: 0.3598 - accuracy: 0.8306\n",
      "Epoch 36/60\n",
      "360/360 - 1s - loss: 0.3549 - accuracy: 0.8444\n",
      "Epoch 37/60\n",
      "360/360 - 1s - loss: 0.3667 - accuracy: 0.8472\n",
      "Epoch 38/60\n",
      "360/360 - 1s - loss: 0.3528 - accuracy: 0.8444\n",
      "Epoch 39/60\n",
      "360/360 - 1s - loss: 0.3471 - accuracy: 0.8444\n",
      "Epoch 40/60\n",
      "360/360 - 1s - loss: 0.3415 - accuracy: 0.8500\n",
      "Epoch 41/60\n",
      "360/360 - 1s - loss: 0.3487 - accuracy: 0.8444\n",
      "Epoch 42/60\n",
      "360/360 - 1s - loss: 0.3419 - accuracy: 0.8583\n",
      "Epoch 43/60\n",
      "360/360 - 1s - loss: 0.3405 - accuracy: 0.8528\n",
      "Epoch 44/60\n",
      "360/360 - 1s - loss: 0.3370 - accuracy: 0.8444\n",
      "Epoch 45/60\n",
      "360/360 - 1s - loss: 0.3325 - accuracy: 0.8500\n",
      "Epoch 46/60\n",
      "360/360 - 1s - loss: 0.3305 - accuracy: 0.8556\n",
      "Epoch 47/60\n",
      "360/360 - 1s - loss: 0.3286 - accuracy: 0.8500\n",
      "Epoch 48/60\n",
      "360/360 - 1s - loss: 0.3421 - accuracy: 0.8472\n",
      "Epoch 49/60\n",
      "360/360 - 1s - loss: 0.3244 - accuracy: 0.8556\n",
      "Epoch 50/60\n",
      "360/360 - 1s - loss: 0.3249 - accuracy: 0.8583\n",
      "Epoch 51/60\n",
      "360/360 - 1s - loss: 0.3402 - accuracy: 0.8583\n",
      "Epoch 52/60\n",
      "360/360 - 1s - loss: 0.3342 - accuracy: 0.8472\n",
      "Epoch 53/60\n",
      "360/360 - 1s - loss: 0.3160 - accuracy: 0.8639\n",
      "Epoch 54/60\n",
      "360/360 - 1s - loss: 0.3161 - accuracy: 0.8639\n",
      "Epoch 55/60\n",
      "360/360 - 1s - loss: 0.3224 - accuracy: 0.8583\n",
      "Epoch 56/60\n",
      "360/360 - 1s - loss: 0.3143 - accuracy: 0.8667\n",
      "Epoch 57/60\n",
      "360/360 - 1s - loss: 0.3154 - accuracy: 0.8694\n",
      "Epoch 58/60\n",
      "360/360 - 1s - loss: 0.3169 - accuracy: 0.8583\n",
      "Epoch 59/60\n",
      "360/360 - 1s - loss: 0.3094 - accuracy: 0.8611\n",
      "Epoch 60/60\n",
      "360/360 - 1s - loss: 0.3078 - accuracy: 0.8667\n"
     ]
    },
    {
     "data": {
      "text/plain": [
       "<tensorflow.python.keras.callbacks.History at 0x7f956076cda0>"
      ]
     },
     "execution_count": 21,
     "metadata": {},
     "output_type": "execute_result"
    }
   ],
   "source": [
    "model.fit(\n",
    "    X_train_scaled,\n",
    "    y_train_categorical,\n",
    "    epochs=60,\n",
    "    shuffle=True,\n",
    "    verbose=2)"
   ]
  },
  {
   "cell_type": "code",
   "execution_count": 22,
   "metadata": {},
   "outputs": [
    {
     "name": "stdout",
     "output_type": "stream",
     "text": [
      "120/1 - 3s - loss: 0.6665 - accuracy: 0.7500\n",
      "Normal Neural Network 1 - Loss: 0.700603723526001, Accuracy: 0.75\n"
     ]
    }
   ],
   "source": [
    "model_loss, model_accuracy = model.evaluate(\n",
    "    X_test_scaled, y_test_categorical, verbose=2)\n",
    "print(\n",
    "    f\"Normal Neural Network 1 - Loss: {model_loss}, Accuracy: {model_accuracy}\")"
   ]
  },
  {
   "cell_type": "markdown",
   "metadata": {},
   "source": [
    "First run results\n",
    "\n",
    "Model: \"sequential\"\n",
    "_________________________________________________________________\n",
    "Layer (type)                 Output Shape              Param #   \n",
    "=================================================================\n",
    "dense (Dense)                (None, 100)               1400      \n",
    "_________________________________________________________________\n",
    "dense_1 (Dense)              (None, 100)               10100     \n",
    "_________________________________________________________________\n",
    "dense_2 (Dense)              (None, 2)                 202       \n",
    "=================================================================\n",
    "Total params: 11,702\n",
    "Trainable params: 11,702\n",
    "Non-trainable params: 0\n",
    "    \n",
    "120/1 - 3s - loss: 0.6665 - accuracy: 0.7500\n",
    "Normal Neural Network 1 - Loss: 0.700603723526001, Accuracy: 0.75"
   ]
  },
  {
   "cell_type": "markdown",
   "metadata": {},
   "source": [
    "## Second run: take out Loan_Amount_Term column"
   ]
  },
  {
   "cell_type": "code",
   "execution_count": 23,
   "metadata": {},
   "outputs": [
    {
     "name": "stdout",
     "output_type": "stream",
     "text": [
      "(480, 12) (480,)\n"
     ]
    }
   ],
   "source": [
    "X = train_data_limit_dummies.drop([\"Loan_Status_Y\", \"Loan_ID\", 'Loan_Amount_Term'], axis=1)\n",
    "y = train_data_limit_dummies[\"Loan_Status_Y\"]\n",
    "print(X.shape, y.shape)"
   ]
  },
  {
   "cell_type": "code",
   "execution_count": 24,
   "metadata": {},
   "outputs": [],
   "source": [
    "from sklearn.model_selection import train_test_split\n",
    "from sklearn.preprocessing import LabelEncoder, MinMaxScaler\n",
    "from tensorflow.keras.utils import to_categorical"
   ]
  },
  {
   "cell_type": "code",
   "execution_count": 25,
   "metadata": {},
   "outputs": [],
   "source": [
    "X_train, X_test, y_train, y_test = train_test_split(\n",
    "    X, y, random_state=1)"
   ]
  },
  {
   "cell_type": "code",
   "execution_count": 26,
   "metadata": {},
   "outputs": [],
   "source": [
    "X_scaler = MinMaxScaler().fit(X_train)\n",
    "X_train_scaled = X_scaler.transform(X_train)\n",
    "X_test_scaled = X_scaler.transform(X_test)"
   ]
  },
  {
   "cell_type": "code",
   "execution_count": 27,
   "metadata": {},
   "outputs": [],
   "source": [
    "# Step 1: Label-encode data set\n",
    "label_encoder = LabelEncoder()\n",
    "label_encoder.fit(y_train)\n",
    "encoded_y_train = label_encoder.transform(y_train)\n",
    "encoded_y_test = label_encoder.transform(y_test)"
   ]
  },
  {
   "cell_type": "code",
   "execution_count": 28,
   "metadata": {},
   "outputs": [],
   "source": [
    "# Step 2: Convert encoded labels to one-hot-encoding\n",
    "y_train_categorical = to_categorical(encoded_y_train)\n",
    "y_test_categorical = to_categorical(encoded_y_test)"
   ]
  },
  {
   "cell_type": "code",
   "execution_count": 29,
   "metadata": {},
   "outputs": [],
   "source": [
    "from tensorflow.keras.models import Sequential\n",
    "from tensorflow.keras.layers import Dense"
   ]
  },
  {
   "cell_type": "code",
   "execution_count": 30,
   "metadata": {},
   "outputs": [],
   "source": [
    "# Create model and add layers\n",
    "model = Sequential()\n",
    "model.add(Dense(units=100, activation='relu', input_dim=12))\n",
    "model.add(Dense(units=100, activation='relu'))\n",
    "model.add(Dense(units=2, activation='softmax'))"
   ]
  },
  {
   "cell_type": "code",
   "execution_count": 31,
   "metadata": {},
   "outputs": [],
   "source": [
    "# Compile and fit the model\n",
    "model.compile(optimizer='adam',\n",
    "              loss='categorical_crossentropy',\n",
    "              metrics=['accuracy'])"
   ]
  },
  {
   "cell_type": "code",
   "execution_count": 32,
   "metadata": {},
   "outputs": [
    {
     "name": "stdout",
     "output_type": "stream",
     "text": [
      "Model: \"sequential_1\"\n",
      "_________________________________________________________________\n",
      "Layer (type)                 Output Shape              Param #   \n",
      "=================================================================\n",
      "dense_3 (Dense)              (None, 100)               1300      \n",
      "_________________________________________________________________\n",
      "dense_4 (Dense)              (None, 100)               10100     \n",
      "_________________________________________________________________\n",
      "dense_5 (Dense)              (None, 2)                 202       \n",
      "=================================================================\n",
      "Total params: 11,602\n",
      "Trainable params: 11,602\n",
      "Non-trainable params: 0\n",
      "_________________________________________________________________\n"
     ]
    }
   ],
   "source": [
    "model.summary()"
   ]
  },
  {
   "cell_type": "code",
   "execution_count": 33,
   "metadata": {},
   "outputs": [
    {
     "name": "stdout",
     "output_type": "stream",
     "text": [
      "Train on 360 samples\n",
      "Epoch 1/60\n",
      "360/360 - 11s - loss: 0.5832 - accuracy: 0.7111\n",
      "Epoch 2/60\n",
      "360/360 - 1s - loss: 0.5396 - accuracy: 0.7111\n",
      "Epoch 3/60\n",
      "360/360 - 1s - loss: 0.5098 - accuracy: 0.7611\n",
      "Epoch 4/60\n",
      "360/360 - 1s - loss: 0.4865 - accuracy: 0.8083\n",
      "Epoch 5/60\n",
      "360/360 - 1s - loss: 0.4644 - accuracy: 0.8194\n",
      "Epoch 6/60\n",
      "360/360 - 1s - loss: 0.4479 - accuracy: 0.8306\n",
      "Epoch 7/60\n",
      "360/360 - 1s - loss: 0.4330 - accuracy: 0.8306\n",
      "Epoch 8/60\n",
      "360/360 - 1s - loss: 0.4304 - accuracy: 0.8333\n",
      "Epoch 9/60\n",
      "360/360 - 1s - loss: 0.4180 - accuracy: 0.8333\n",
      "Epoch 10/60\n",
      "360/360 - 1s - loss: 0.4199 - accuracy: 0.8278\n",
      "Epoch 11/60\n",
      "360/360 - 1s - loss: 0.4092 - accuracy: 0.8361\n",
      "Epoch 12/60\n",
      "360/360 - 1s - loss: 0.4060 - accuracy: 0.8361\n",
      "Epoch 13/60\n",
      "360/360 - 1s - loss: 0.4033 - accuracy: 0.8389\n",
      "Epoch 14/60\n",
      "360/360 - 1s - loss: 0.4016 - accuracy: 0.8389\n",
      "Epoch 15/60\n",
      "360/360 - 1s - loss: 0.3984 - accuracy: 0.8333\n",
      "Epoch 16/60\n",
      "360/360 - 1s - loss: 0.3936 - accuracy: 0.8361\n",
      "Epoch 17/60\n",
      "360/360 - 1s - loss: 0.3934 - accuracy: 0.8361\n",
      "Epoch 18/60\n",
      "360/360 - 1s - loss: 0.3932 - accuracy: 0.8361\n",
      "Epoch 19/60\n",
      "360/360 - 1s - loss: 0.3884 - accuracy: 0.8389\n",
      "Epoch 20/60\n",
      "360/360 - 1s - loss: 0.3875 - accuracy: 0.8417\n",
      "Epoch 21/60\n",
      "360/360 - 1s - loss: 0.3891 - accuracy: 0.8389\n",
      "Epoch 22/60\n",
      "360/360 - 1s - loss: 0.3926 - accuracy: 0.8333\n",
      "Epoch 23/60\n",
      "360/360 - 1s - loss: 0.3944 - accuracy: 0.8417\n",
      "Epoch 24/60\n",
      "360/360 - 1s - loss: 0.3913 - accuracy: 0.8333\n",
      "Epoch 25/60\n",
      "360/360 - 1s - loss: 0.3810 - accuracy: 0.8389\n",
      "Epoch 26/60\n",
      "360/360 - 1s - loss: 0.3822 - accuracy: 0.8333\n",
      "Epoch 27/60\n",
      "360/360 - 1s - loss: 0.3733 - accuracy: 0.8389\n",
      "Epoch 28/60\n",
      "360/360 - 1s - loss: 0.3701 - accuracy: 0.8389\n",
      "Epoch 29/60\n",
      "360/360 - 1s - loss: 0.3720 - accuracy: 0.8417\n",
      "Epoch 30/60\n",
      "360/360 - 1s - loss: 0.3743 - accuracy: 0.8472\n",
      "Epoch 31/60\n",
      "360/360 - 1s - loss: 0.3703 - accuracy: 0.8389\n",
      "Epoch 32/60\n",
      "360/360 - 1s - loss: 0.3724 - accuracy: 0.8389\n",
      "Epoch 33/60\n",
      "360/360 - 1s - loss: 0.3717 - accuracy: 0.8389\n",
      "Epoch 34/60\n",
      "360/360 - 1s - loss: 0.3688 - accuracy: 0.8389\n",
      "Epoch 35/60\n",
      "360/360 - 1s - loss: 0.3648 - accuracy: 0.8528\n",
      "Epoch 36/60\n",
      "360/360 - 1s - loss: 0.3600 - accuracy: 0.8444\n",
      "Epoch 37/60\n",
      "360/360 - 1s - loss: 0.3705 - accuracy: 0.8361\n",
      "Epoch 38/60\n",
      "360/360 - 1s - loss: 0.3569 - accuracy: 0.8361\n",
      "Epoch 39/60\n",
      "360/360 - 1s - loss: 0.3565 - accuracy: 0.8417\n",
      "Epoch 40/60\n",
      "360/360 - 1s - loss: 0.3595 - accuracy: 0.8389\n",
      "Epoch 41/60\n",
      "360/360 - 1s - loss: 0.3636 - accuracy: 0.8472\n",
      "Epoch 42/60\n",
      "360/360 - 1s - loss: 0.3508 - accuracy: 0.8472\n",
      "Epoch 43/60\n",
      "360/360 - 1s - loss: 0.3475 - accuracy: 0.8556\n",
      "Epoch 44/60\n",
      "360/360 - 1s - loss: 0.3522 - accuracy: 0.8500\n",
      "Epoch 45/60\n",
      "360/360 - 1s - loss: 0.3557 - accuracy: 0.8556\n",
      "Epoch 46/60\n",
      "360/360 - 1s - loss: 0.3471 - accuracy: 0.8444\n",
      "Epoch 47/60\n",
      "360/360 - 1s - loss: 0.3491 - accuracy: 0.8500\n",
      "Epoch 48/60\n",
      "360/360 - 1s - loss: 0.3460 - accuracy: 0.8611\n",
      "Epoch 49/60\n",
      "360/360 - 1s - loss: 0.3416 - accuracy: 0.8472\n",
      "Epoch 50/60\n",
      "360/360 - 1s - loss: 0.3368 - accuracy: 0.8667\n",
      "Epoch 51/60\n",
      "360/360 - 1s - loss: 0.3365 - accuracy: 0.8583\n",
      "Epoch 52/60\n",
      "360/360 - 1s - loss: 0.3388 - accuracy: 0.8556\n",
      "Epoch 53/60\n",
      "360/360 - 1s - loss: 0.3341 - accuracy: 0.8611\n",
      "Epoch 54/60\n",
      "360/360 - 1s - loss: 0.3384 - accuracy: 0.8472\n",
      "Epoch 55/60\n",
      "360/360 - 1s - loss: 0.3303 - accuracy: 0.8583\n",
      "Epoch 56/60\n",
      "360/360 - 1s - loss: 0.3265 - accuracy: 0.8639\n",
      "Epoch 57/60\n",
      "360/360 - 1s - loss: 0.3295 - accuracy: 0.8583\n",
      "Epoch 58/60\n",
      "360/360 - 1s - loss: 0.3299 - accuracy: 0.8583\n",
      "Epoch 59/60\n",
      "360/360 - 1s - loss: 0.3278 - accuracy: 0.8583\n",
      "Epoch 60/60\n",
      "360/360 - 1s - loss: 0.3242 - accuracy: 0.8667\n"
     ]
    },
    {
     "data": {
      "text/plain": [
       "<tensorflow.python.keras.callbacks.History at 0x7f95c094ba20>"
      ]
     },
     "execution_count": 33,
     "metadata": {},
     "output_type": "execute_result"
    }
   ],
   "source": [
    "model.fit(\n",
    "    X_train_scaled,\n",
    "    y_train_categorical,\n",
    "    epochs=60,\n",
    "    shuffle=True,\n",
    "    verbose=2)"
   ]
  },
  {
   "cell_type": "code",
   "execution_count": 34,
   "metadata": {},
   "outputs": [
    {
     "name": "stdout",
     "output_type": "stream",
     "text": [
      "120/1 - 3s - loss: 0.7005 - accuracy: 0.7333\n",
      "Normal Neural Network 1 - Loss: 0.7009410381317138, Accuracy: 0.7333333492279053\n"
     ]
    }
   ],
   "source": [
    "model_loss, model_accuracy = model.evaluate(\n",
    "    X_test_scaled, y_test_categorical, verbose=2)\n",
    "print(\n",
    "    f\"Normal Neural Network 1 - Loss: {model_loss}, Accuracy: {model_accuracy}\")"
   ]
  },
  {
   "cell_type": "markdown",
   "metadata": {},
   "source": [
    "Run 2 summary\n",
    "\n",
    "Model: \"sequential_1\"\n",
    "_________________________________________________________________\n",
    "Layer (type)                 Output Shape              Param #   \n",
    "=================================================================\n",
    "dense_3 (Dense)              (None, 100)               1300      \n",
    "_________________________________________________________________\n",
    "dense_4 (Dense)              (None, 100)               10100     \n",
    "_________________________________________________________________\n",
    "dense_5 (Dense)              (None, 2)                 202       \n",
    "=================================================================\n",
    "Total params: 11,602\n",
    "Trainable params: 11,602\n",
    "Non-trainable params: 0\n",
    "    \n",
    "120/1 - 3s - loss: 0.7005 - accuracy: 0.7333\n",
    "Normal Neural Network 1 - Loss: 0.7009410381317138, Accuracy: 0.7333333492279053\n"
   ]
  },
  {
   "cell_type": "markdown",
   "metadata": {},
   "source": [
    "## Third run: take out Loan_Amount_Term and LoanAmount columns"
   ]
  },
  {
   "cell_type": "code",
   "execution_count": 35,
   "metadata": {},
   "outputs": [
    {
     "name": "stdout",
     "output_type": "stream",
     "text": [
      "(480, 11) (480,)\n"
     ]
    }
   ],
   "source": [
    "X = train_data_limit_dummies.drop([\"Loan_Status_Y\", \"Loan_ID\", 'LoanAmount', 'Loan_Amount_Term'], axis=1)\n",
    "y = train_data_limit_dummies[\"Loan_Status_Y\"]\n",
    "print(X.shape, y.shape)"
   ]
  },
  {
   "cell_type": "code",
   "execution_count": 36,
   "metadata": {},
   "outputs": [],
   "source": [
    "from sklearn.model_selection import train_test_split\n",
    "from sklearn.preprocessing import LabelEncoder, MinMaxScaler\n",
    "from tensorflow.keras.utils import to_categorical"
   ]
  },
  {
   "cell_type": "code",
   "execution_count": 37,
   "metadata": {},
   "outputs": [],
   "source": [
    "X_train, X_test, y_train, y_test = train_test_split(\n",
    "    X, y, random_state=1)"
   ]
  },
  {
   "cell_type": "code",
   "execution_count": 38,
   "metadata": {},
   "outputs": [],
   "source": [
    "X_scaler = MinMaxScaler().fit(X_train)\n",
    "X_train_scaled = X_scaler.transform(X_train)\n",
    "X_test_scaled = X_scaler.transform(X_test)"
   ]
  },
  {
   "cell_type": "code",
   "execution_count": 39,
   "metadata": {},
   "outputs": [],
   "source": [
    "# Step 1: Label-encode data set\n",
    "label_encoder = LabelEncoder()\n",
    "label_encoder.fit(y_train)\n",
    "encoded_y_train = label_encoder.transform(y_train)\n",
    "encoded_y_test = label_encoder.transform(y_test)"
   ]
  },
  {
   "cell_type": "code",
   "execution_count": 40,
   "metadata": {},
   "outputs": [],
   "source": [
    "# Step 2: Convert encoded labels to one-hot-encoding\n",
    "y_train_categorical = to_categorical(encoded_y_train)\n",
    "y_test_categorical = to_categorical(encoded_y_test)"
   ]
  },
  {
   "cell_type": "code",
   "execution_count": 41,
   "metadata": {},
   "outputs": [],
   "source": [
    "from tensorflow.keras.models import Sequential\n",
    "from tensorflow.keras.layers import Dense"
   ]
  },
  {
   "cell_type": "code",
   "execution_count": 42,
   "metadata": {},
   "outputs": [],
   "source": [
    "# Create model and add layers\n",
    "model = Sequential()\n",
    "model.add(Dense(units=100, activation='relu', input_dim=11))\n",
    "model.add(Dense(units=100, activation='relu'))\n",
    "model.add(Dense(units=2, activation='softmax'))"
   ]
  },
  {
   "cell_type": "code",
   "execution_count": 43,
   "metadata": {},
   "outputs": [],
   "source": [
    "# Compile and fit the model\n",
    "model.compile(optimizer='adam',\n",
    "              loss='categorical_crossentropy',\n",
    "              metrics=['accuracy'])"
   ]
  },
  {
   "cell_type": "code",
   "execution_count": 44,
   "metadata": {},
   "outputs": [
    {
     "name": "stdout",
     "output_type": "stream",
     "text": [
      "Model: \"sequential_2\"\n",
      "_________________________________________________________________\n",
      "Layer (type)                 Output Shape              Param #   \n",
      "=================================================================\n",
      "dense_6 (Dense)              (None, 100)               1200      \n",
      "_________________________________________________________________\n",
      "dense_7 (Dense)              (None, 100)               10100     \n",
      "_________________________________________________________________\n",
      "dense_8 (Dense)              (None, 2)                 202       \n",
      "=================================================================\n",
      "Total params: 11,502\n",
      "Trainable params: 11,502\n",
      "Non-trainable params: 0\n",
      "_________________________________________________________________\n"
     ]
    }
   ],
   "source": [
    "model.summary()"
   ]
  },
  {
   "cell_type": "code",
   "execution_count": 45,
   "metadata": {},
   "outputs": [
    {
     "name": "stdout",
     "output_type": "stream",
     "text": [
      "Train on 360 samples\n",
      "Epoch 1/60\n",
      "360/360 - 10s - loss: 0.6764 - accuracy: 0.5444\n",
      "Epoch 2/60\n",
      "360/360 - 1s - loss: 0.5583 - accuracy: 0.7083\n",
      "Epoch 3/60\n",
      "360/360 - 1s - loss: 0.5273 - accuracy: 0.7167\n",
      "Epoch 4/60\n",
      "360/360 - 1s - loss: 0.4945 - accuracy: 0.7944\n",
      "Epoch 5/60\n",
      "360/360 - 1s - loss: 0.4665 - accuracy: 0.8222\n",
      "Epoch 6/60\n",
      "360/360 - 1s - loss: 0.4449 - accuracy: 0.8278\n",
      "Epoch 7/60\n",
      "360/360 - 1s - loss: 0.4336 - accuracy: 0.8278\n",
      "Epoch 8/60\n",
      "360/360 - 1s - loss: 0.4251 - accuracy: 0.8278\n",
      "Epoch 9/60\n",
      "360/360 - 1s - loss: 0.4237 - accuracy: 0.8278\n",
      "Epoch 10/60\n",
      "360/360 - 1s - loss: 0.4195 - accuracy: 0.8278\n",
      "Epoch 11/60\n",
      "360/360 - 1s - loss: 0.4135 - accuracy: 0.8250\n",
      "Epoch 12/60\n",
      "360/360 - 1s - loss: 0.4191 - accuracy: 0.8222\n",
      "Epoch 13/60\n",
      "360/360 - 1s - loss: 0.4101 - accuracy: 0.8306\n",
      "Epoch 14/60\n",
      "360/360 - 1s - loss: 0.4112 - accuracy: 0.8250\n",
      "Epoch 15/60\n",
      "360/360 - 1s - loss: 0.4075 - accuracy: 0.8306\n",
      "Epoch 16/60\n",
      "360/360 - 1s - loss: 0.4072 - accuracy: 0.8306\n",
      "Epoch 17/60\n",
      "360/360 - 1s - loss: 0.4043 - accuracy: 0.8250\n",
      "Epoch 18/60\n",
      "360/360 - 1s - loss: 0.4008 - accuracy: 0.8333\n",
      "Epoch 19/60\n",
      "360/360 - 1s - loss: 0.4019 - accuracy: 0.8333\n",
      "Epoch 20/60\n",
      "360/360 - 1s - loss: 0.3995 - accuracy: 0.8306\n",
      "Epoch 21/60\n",
      "360/360 - 1s - loss: 0.4041 - accuracy: 0.8306\n",
      "Epoch 22/60\n",
      "360/360 - 1s - loss: 0.3947 - accuracy: 0.8361\n",
      "Epoch 23/60\n",
      "360/360 - 1s - loss: 0.3941 - accuracy: 0.8306\n",
      "Epoch 24/60\n",
      "360/360 - 1s - loss: 0.3954 - accuracy: 0.8250\n",
      "Epoch 25/60\n",
      "360/360 - 1s - loss: 0.3960 - accuracy: 0.8361\n",
      "Epoch 26/60\n",
      "360/360 - 1s - loss: 0.3963 - accuracy: 0.8361\n",
      "Epoch 27/60\n",
      "360/360 - 1s - loss: 0.3954 - accuracy: 0.8361\n",
      "Epoch 28/60\n",
      "360/360 - 1s - loss: 0.3920 - accuracy: 0.8389\n",
      "Epoch 29/60\n",
      "360/360 - 1s - loss: 0.3884 - accuracy: 0.8306\n",
      "Epoch 30/60\n",
      "360/360 - 1s - loss: 0.3870 - accuracy: 0.8278\n",
      "Epoch 31/60\n",
      "360/360 - 1s - loss: 0.3907 - accuracy: 0.8389\n",
      "Epoch 32/60\n",
      "360/360 - 1s - loss: 0.3803 - accuracy: 0.8278\n",
      "Epoch 33/60\n",
      "360/360 - 1s - loss: 0.3847 - accuracy: 0.8361\n",
      "Epoch 34/60\n",
      "360/360 - 1s - loss: 0.3852 - accuracy: 0.8389\n",
      "Epoch 35/60\n",
      "360/360 - 1s - loss: 0.3773 - accuracy: 0.8389\n",
      "Epoch 36/60\n",
      "360/360 - 1s - loss: 0.3718 - accuracy: 0.8389\n",
      "Epoch 37/60\n",
      "360/360 - 1s - loss: 0.3757 - accuracy: 0.8306\n",
      "Epoch 38/60\n",
      "360/360 - 1s - loss: 0.3771 - accuracy: 0.8389\n",
      "Epoch 39/60\n",
      "360/360 - 1s - loss: 0.3718 - accuracy: 0.8389\n",
      "Epoch 40/60\n",
      "360/360 - 1s - loss: 0.3724 - accuracy: 0.8417\n",
      "Epoch 41/60\n",
      "360/360 - 1s - loss: 0.3702 - accuracy: 0.8333\n",
      "Epoch 42/60\n",
      "360/360 - 1s - loss: 0.3690 - accuracy: 0.8333\n",
      "Epoch 43/60\n",
      "360/360 - 1s - loss: 0.3665 - accuracy: 0.8389\n",
      "Epoch 44/60\n",
      "360/360 - 1s - loss: 0.3669 - accuracy: 0.8389\n",
      "Epoch 45/60\n",
      "360/360 - 1s - loss: 0.3671 - accuracy: 0.8222\n",
      "Epoch 46/60\n",
      "360/360 - 1s - loss: 0.3669 - accuracy: 0.8333\n",
      "Epoch 47/60\n",
      "360/360 - 1s - loss: 0.3624 - accuracy: 0.8389\n",
      "Epoch 48/60\n",
      "360/360 - 1s - loss: 0.3640 - accuracy: 0.8444\n",
      "Epoch 49/60\n",
      "360/360 - 1s - loss: 0.3702 - accuracy: 0.8389\n",
      "Epoch 50/60\n",
      "360/360 - 1s - loss: 0.3709 - accuracy: 0.8417\n",
      "Epoch 51/60\n",
      "360/360 - 1s - loss: 0.3560 - accuracy: 0.8361\n",
      "Epoch 52/60\n",
      "360/360 - 1s - loss: 0.3571 - accuracy: 0.8417\n",
      "Epoch 53/60\n",
      "360/360 - 1s - loss: 0.3602 - accuracy: 0.8361\n",
      "Epoch 54/60\n",
      "360/360 - 1s - loss: 0.3518 - accuracy: 0.8444\n",
      "Epoch 55/60\n",
      "360/360 - 1s - loss: 0.3534 - accuracy: 0.8444\n",
      "Epoch 56/60\n",
      "360/360 - 1s - loss: 0.3539 - accuracy: 0.8500\n",
      "Epoch 57/60\n",
      "360/360 - 1s - loss: 0.3558 - accuracy: 0.8500\n",
      "Epoch 58/60\n",
      "360/360 - 1s - loss: 0.3510 - accuracy: 0.8444\n",
      "Epoch 59/60\n",
      "360/360 - 1s - loss: 0.3461 - accuracy: 0.8444\n",
      "Epoch 60/60\n",
      "360/360 - 1s - loss: 0.3433 - accuracy: 0.8444\n"
     ]
    },
    {
     "data": {
      "text/plain": [
       "<tensorflow.python.keras.callbacks.History at 0x7f95609e9b70>"
      ]
     },
     "execution_count": 45,
     "metadata": {},
     "output_type": "execute_result"
    }
   ],
   "source": [
    "model.fit(\n",
    "    X_train_scaled,\n",
    "    y_train_categorical,\n",
    "    epochs=60,\n",
    "    shuffle=True,\n",
    "    verbose=2)"
   ]
  },
  {
   "cell_type": "code",
   "execution_count": 46,
   "metadata": {},
   "outputs": [
    {
     "name": "stdout",
     "output_type": "stream",
     "text": [
      "120/1 - 3s - loss: 0.6535 - accuracy: 0.7500\n",
      "Normal Neural Network 1 - Loss: 0.6735727985699972, Accuracy: 0.75\n"
     ]
    }
   ],
   "source": [
    "model_loss, model_accuracy = model.evaluate(\n",
    "    X_test_scaled, y_test_categorical, verbose=2)\n",
    "print(\n",
    "    f\"Normal Neural Network 1 - Loss: {model_loss}, Accuracy: {model_accuracy}\")"
   ]
  },
  {
   "cell_type": "markdown",
   "metadata": {},
   "source": [
    "Run 3 summary\n",
    "\n",
    "Model: \"sequential_2\"\n",
    "_________________________________________________________________\n",
    "Layer (type)                 Output Shape              Param #   \n",
    "=================================================================\n",
    "dense_6 (Dense)              (None, 100)               1200      \n",
    "_________________________________________________________________\n",
    "dense_7 (Dense)              (None, 100)               10100     \n",
    "_________________________________________________________________\n",
    "dense_8 (Dense)              (None, 2)                 202       \n",
    "=================================================================\n",
    "Total params: 11,502\n",
    "Trainable params: 11,502\n",
    "Non-trainable params: 0\n",
    "    \n",
    "120/1 - 3s - loss: 0.6535 - accuracy: 0.7500\n",
    "Normal Neural Network 1 - Loss: 0.6735727985699972, Accuracy: 0.75"
   ]
  },
  {
   "cell_type": "markdown",
   "metadata": {},
   "source": [
    "### Fourth run: take out Loan_Amount_Term and LoanAmount columns, add a layer - no change in accuracy"
   ]
  },
  {
   "cell_type": "code",
   "execution_count": 48,
   "metadata": {},
   "outputs": [
    {
     "name": "stdout",
     "output_type": "stream",
     "text": [
      "(480, 11) (480,)\n"
     ]
    }
   ],
   "source": [
    "X = train_data_limit_dummies.drop([\"Loan_Status_Y\", \"Loan_ID\", 'LoanAmount', 'Loan_Amount_Term'], axis=1)\n",
    "y = train_data_limit_dummies[\"Loan_Status_Y\"]\n",
    "print(X.shape, y.shape)"
   ]
  },
  {
   "cell_type": "code",
   "execution_count": 49,
   "metadata": {},
   "outputs": [],
   "source": [
    "from sklearn.model_selection import train_test_split\n",
    "from sklearn.preprocessing import LabelEncoder, MinMaxScaler\n",
    "from tensorflow.keras.utils import to_categorical"
   ]
  },
  {
   "cell_type": "code",
   "execution_count": 50,
   "metadata": {},
   "outputs": [],
   "source": [
    "X_train, X_test, y_train, y_test = train_test_split(\n",
    "    X, y, random_state=1)"
   ]
  },
  {
   "cell_type": "code",
   "execution_count": 51,
   "metadata": {},
   "outputs": [],
   "source": [
    "X_scaler = MinMaxScaler().fit(X_train)\n",
    "X_train_scaled = X_scaler.transform(X_train)\n",
    "X_test_scaled = X_scaler.transform(X_test)"
   ]
  },
  {
   "cell_type": "code",
   "execution_count": 52,
   "metadata": {},
   "outputs": [],
   "source": [
    "# Step 1: Label-encode data set\n",
    "label_encoder = LabelEncoder()\n",
    "label_encoder.fit(y_train)\n",
    "encoded_y_train = label_encoder.transform(y_train)\n",
    "encoded_y_test = label_encoder.transform(y_test)"
   ]
  },
  {
   "cell_type": "code",
   "execution_count": 53,
   "metadata": {},
   "outputs": [],
   "source": [
    "# Step 2: Convert encoded labels to one-hot-encoding\n",
    "y_train_categorical = to_categorical(encoded_y_train)\n",
    "y_test_categorical = to_categorical(encoded_y_test)"
   ]
  },
  {
   "cell_type": "code",
   "execution_count": 54,
   "metadata": {},
   "outputs": [],
   "source": [
    "from tensorflow.keras.models import Sequential\n",
    "from tensorflow.keras.layers import Dense"
   ]
  },
  {
   "cell_type": "code",
   "execution_count": 55,
   "metadata": {},
   "outputs": [],
   "source": [
    "# Create model and add layers\n",
    "model = Sequential()\n",
    "model.add(Dense(units=100, activation='relu', input_dim=11))\n",
    "model.add(Dense(units=100, activation='relu'))\n",
    "model.add(Dense(units=100, activation='relu'))\n",
    "model.add(Dense(units=2, activation='softmax'))"
   ]
  },
  {
   "cell_type": "code",
   "execution_count": 56,
   "metadata": {},
   "outputs": [],
   "source": [
    "# Compile and fit the model\n",
    "model.compile(optimizer='adam',\n",
    "              loss='categorical_crossentropy',\n",
    "              metrics=['accuracy'])"
   ]
  },
  {
   "cell_type": "code",
   "execution_count": 57,
   "metadata": {},
   "outputs": [
    {
     "name": "stdout",
     "output_type": "stream",
     "text": [
      "Model: \"sequential_3\"\n",
      "_________________________________________________________________\n",
      "Layer (type)                 Output Shape              Param #   \n",
      "=================================================================\n",
      "dense_9 (Dense)              (None, 100)               1200      \n",
      "_________________________________________________________________\n",
      "dense_10 (Dense)             (None, 100)               10100     \n",
      "_________________________________________________________________\n",
      "dense_11 (Dense)             (None, 100)               10100     \n",
      "_________________________________________________________________\n",
      "dense_12 (Dense)             (None, 2)                 202       \n",
      "=================================================================\n",
      "Total params: 21,602\n",
      "Trainable params: 21,602\n",
      "Non-trainable params: 0\n",
      "_________________________________________________________________\n"
     ]
    }
   ],
   "source": [
    "model.summary()"
   ]
  },
  {
   "cell_type": "code",
   "execution_count": 58,
   "metadata": {},
   "outputs": [
    {
     "name": "stdout",
     "output_type": "stream",
     "text": [
      "Train on 360 samples\n",
      "Epoch 1/60\n",
      "360/360 - 8s - loss: 0.6059 - accuracy: 0.6944\n",
      "Epoch 2/60\n",
      "360/360 - 2s - loss: 0.5481 - accuracy: 0.7083\n",
      "Epoch 3/60\n",
      "360/360 - 2s - loss: 0.5078 - accuracy: 0.7639\n",
      "Epoch 4/60\n",
      "360/360 - 2s - loss: 0.4788 - accuracy: 0.8139\n",
      "Epoch 5/60\n",
      "360/360 - 2s - loss: 0.4517 - accuracy: 0.8306\n",
      "Epoch 6/60\n",
      "360/360 - 2s - loss: 0.4354 - accuracy: 0.8306\n",
      "Epoch 7/60\n",
      "360/360 - 2s - loss: 0.4329 - accuracy: 0.8361\n",
      "Epoch 8/60\n",
      "360/360 - 2s - loss: 0.4236 - accuracy: 0.8306\n",
      "Epoch 9/60\n",
      "360/360 - 2s - loss: 0.4185 - accuracy: 0.8278\n",
      "Epoch 10/60\n",
      "360/360 - 2s - loss: 0.4123 - accuracy: 0.8333\n",
      "Epoch 11/60\n",
      "360/360 - 2s - loss: 0.4102 - accuracy: 0.8333\n",
      "Epoch 12/60\n",
      "360/360 - 2s - loss: 0.4085 - accuracy: 0.8333\n",
      "Epoch 13/60\n",
      "360/360 - 2s - loss: 0.4025 - accuracy: 0.8333\n",
      "Epoch 14/60\n",
      "360/360 - 2s - loss: 0.3993 - accuracy: 0.8306\n",
      "Epoch 15/60\n",
      "360/360 - 2s - loss: 0.4058 - accuracy: 0.8250\n",
      "Epoch 16/60\n",
      "360/360 - 2s - loss: 0.3984 - accuracy: 0.8333\n",
      "Epoch 17/60\n",
      "360/360 - 2s - loss: 0.3943 - accuracy: 0.8361\n",
      "Epoch 18/60\n",
      "360/360 - 2s - loss: 0.3909 - accuracy: 0.8333\n",
      "Epoch 19/60\n",
      "360/360 - 2s - loss: 0.3971 - accuracy: 0.8333\n",
      "Epoch 20/60\n",
      "360/360 - 2s - loss: 0.3863 - accuracy: 0.8333\n",
      "Epoch 21/60\n",
      "360/360 - 2s - loss: 0.3935 - accuracy: 0.8333\n",
      "Epoch 22/60\n",
      "360/360 - 2s - loss: 0.3920 - accuracy: 0.8389\n",
      "Epoch 23/60\n",
      "360/360 - 2s - loss: 0.3787 - accuracy: 0.8444\n",
      "Epoch 24/60\n",
      "360/360 - 2s - loss: 0.3774 - accuracy: 0.8389\n",
      "Epoch 25/60\n",
      "360/360 - 2s - loss: 0.3799 - accuracy: 0.8472\n",
      "Epoch 26/60\n",
      "360/360 - 2s - loss: 0.3781 - accuracy: 0.8389\n",
      "Epoch 27/60\n",
      "360/360 - 2s - loss: 0.3809 - accuracy: 0.8194\n",
      "Epoch 28/60\n",
      "360/360 - 2s - loss: 0.3726 - accuracy: 0.8417\n",
      "Epoch 29/60\n",
      "360/360 - 2s - loss: 0.3817 - accuracy: 0.8333\n",
      "Epoch 30/60\n",
      "360/360 - 2s - loss: 0.3685 - accuracy: 0.8444\n",
      "Epoch 31/60\n",
      "360/360 - 2s - loss: 0.3667 - accuracy: 0.8389\n",
      "Epoch 32/60\n",
      "360/360 - 2s - loss: 0.3617 - accuracy: 0.8417\n",
      "Epoch 33/60\n",
      "360/360 - 2s - loss: 0.3686 - accuracy: 0.8361\n",
      "Epoch 34/60\n",
      "360/360 - 2s - loss: 0.3610 - accuracy: 0.8417\n",
      "Epoch 35/60\n",
      "360/360 - 2s - loss: 0.3616 - accuracy: 0.8472\n",
      "Epoch 36/60\n",
      "360/360 - 2s - loss: 0.3551 - accuracy: 0.8583\n",
      "Epoch 37/60\n",
      "360/360 - 2s - loss: 0.3572 - accuracy: 0.8528\n",
      "Epoch 38/60\n",
      "360/360 - 2s - loss: 0.3549 - accuracy: 0.8583\n",
      "Epoch 39/60\n",
      "360/360 - 2s - loss: 0.3627 - accuracy: 0.8417\n",
      "Epoch 40/60\n",
      "360/360 - 2s - loss: 0.3608 - accuracy: 0.8528\n",
      "Epoch 41/60\n",
      "360/360 - 2s - loss: 0.3559 - accuracy: 0.8389\n",
      "Epoch 42/60\n",
      "360/360 - 2s - loss: 0.3595 - accuracy: 0.8417\n",
      "Epoch 43/60\n",
      "360/360 - 2s - loss: 0.3492 - accuracy: 0.8472\n",
      "Epoch 44/60\n",
      "360/360 - 2s - loss: 0.3510 - accuracy: 0.8583\n",
      "Epoch 45/60\n",
      "360/360 - 2s - loss: 0.3410 - accuracy: 0.8583\n",
      "Epoch 46/60\n",
      "360/360 - 2s - loss: 0.3530 - accuracy: 0.8500\n",
      "Epoch 47/60\n",
      "360/360 - 2s - loss: 0.3430 - accuracy: 0.8583\n",
      "Epoch 48/60\n",
      "360/360 - 2s - loss: 0.3382 - accuracy: 0.8694\n",
      "Epoch 49/60\n",
      "360/360 - 2s - loss: 0.3354 - accuracy: 0.8611\n",
      "Epoch 50/60\n",
      "360/360 - 2s - loss: 0.3334 - accuracy: 0.8556\n",
      "Epoch 51/60\n",
      "360/360 - 2s - loss: 0.3409 - accuracy: 0.8639\n",
      "Epoch 52/60\n",
      "360/360 - 2s - loss: 0.3333 - accuracy: 0.8583\n",
      "Epoch 53/60\n",
      "360/360 - 2s - loss: 0.3630 - accuracy: 0.8444\n",
      "Epoch 54/60\n",
      "360/360 - 2s - loss: 0.3352 - accuracy: 0.8639\n",
      "Epoch 55/60\n",
      "360/360 - 2s - loss: 0.3494 - accuracy: 0.8556\n",
      "Epoch 56/60\n",
      "360/360 - 2s - loss: 0.3383 - accuracy: 0.8611\n",
      "Epoch 57/60\n",
      "360/360 - 2s - loss: 0.3303 - accuracy: 0.8639\n",
      "Epoch 58/60\n",
      "360/360 - 2s - loss: 0.3281 - accuracy: 0.8611\n",
      "Epoch 59/60\n",
      "360/360 - 2s - loss: 0.3208 - accuracy: 0.8611\n",
      "Epoch 60/60\n",
      "360/360 - 2s - loss: 0.3203 - accuracy: 0.8778\n"
     ]
    },
    {
     "data": {
      "text/plain": [
       "<tensorflow.python.keras.callbacks.History at 0x7f9598450c50>"
      ]
     },
     "execution_count": 58,
     "metadata": {},
     "output_type": "execute_result"
    }
   ],
   "source": [
    "model.fit(\n",
    "    X_train_scaled,\n",
    "    y_train_categorical,\n",
    "    epochs=60,\n",
    "    shuffle=True,\n",
    "    verbose=2)"
   ]
  },
  {
   "cell_type": "code",
   "execution_count": 59,
   "metadata": {},
   "outputs": [
    {
     "name": "stdout",
     "output_type": "stream",
     "text": [
      "120/1 - 2s - loss: 0.8270 - accuracy: 0.7500\n",
      "Normal Neural Network 1 - Loss: 0.8330453395843506, Accuracy: 0.75\n"
     ]
    }
   ],
   "source": [
    "model_loss, model_accuracy = model.evaluate(\n",
    "    X_test_scaled, y_test_categorical, verbose=2)\n",
    "print(\n",
    "    f\"Normal Neural Network 1 - Loss: {model_loss}, Accuracy: {model_accuracy}\")"
   ]
  },
  {
   "cell_type": "markdown",
   "metadata": {},
   "source": [
    "Run 4 summary\n",
    "\n",
    "Model: \"sequential_3\"\n",
    "_________________________________________________________________\n",
    "Layer (type)                 Output Shape              Param #   \n",
    "=================================================================\n",
    "dense_9 (Dense)              (None, 100)               1200      \n",
    "_________________________________________________________________\n",
    "dense_10 (Dense)             (None, 100)               10100     \n",
    "_________________________________________________________________\n",
    "dense_11 (Dense)             (None, 100)               10100     \n",
    "_________________________________________________________________\n",
    "dense_12 (Dense)             (None, 2)                 202       \n",
    "=================================================================\n",
    "Total params: 21,602\n",
    "Trainable params: 21,602\n",
    "Non-trainable params: 0\n",
    "\n",
    "120/1 - 2s - loss: 0.8270 - accuracy: 0.7500\n",
    "Normal Neural Network 1 - Loss: 0.8330453395843506, Accuracy: 0.75\n"
   ]
  },
  {
   "cell_type": "code",
   "execution_count": null,
   "metadata": {},
   "outputs": [],
   "source": []
  },
  {
   "cell_type": "code",
   "execution_count": null,
   "metadata": {},
   "outputs": [],
   "source": []
  },
  {
   "cell_type": "code",
   "execution_count": null,
   "metadata": {},
   "outputs": [],
   "source": []
  },
  {
   "cell_type": "code",
   "execution_count": null,
   "metadata": {},
   "outputs": [],
   "source": []
  },
  {
   "cell_type": "code",
   "execution_count": null,
   "metadata": {},
   "outputs": [],
   "source": []
  },
  {
   "cell_type": "code",
   "execution_count": null,
   "metadata": {},
   "outputs": [],
   "source": []
  }
 ],
 "metadata": {
  "kernelspec": {
   "display_name": "Python 3",
   "language": "python",
   "name": "python3"
  },
  "language_info": {
   "codemirror_mode": {
    "name": "ipython",
    "version": 3
   },
   "file_extension": ".py",
   "mimetype": "text/x-python",
   "name": "python",
   "nbconvert_exporter": "python",
   "pygments_lexer": "ipython3",
   "version": "3.6.10"
  }
 },
 "nbformat": 4,
 "nbformat_minor": 4
}
